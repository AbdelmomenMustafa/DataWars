{
 "cells": [
  {
   "cell_type": "code",
   "execution_count": 1,
   "id": "cb211347",
   "metadata": {},
   "outputs": [],
   "source": [
    "import pandas as pd"
   ]
  },
  {
   "cell_type": "code",
   "execution_count": 2,
   "id": "fcfa694f",
   "metadata": {},
   "outputs": [],
   "source": [
    "df = pd.read_csv('nba_player_stats_1985.csv', index_col='Player')"
   ]
  },
  {
   "cell_type": "code",
   "execution_count": 3,
   "id": "5ea54b21",
   "metadata": {},
   "outputs": [
    {
     "data": {
      "text/html": [
       "<div>\n",
       "<style scoped>\n",
       "    .dataframe tbody tr th:only-of-type {\n",
       "        vertical-align: middle;\n",
       "    }\n",
       "\n",
       "    .dataframe tbody tr th {\n",
       "        vertical-align: top;\n",
       "    }\n",
       "\n",
       "    .dataframe thead th {\n",
       "        text-align: right;\n",
       "    }\n",
       "</style>\n",
       "<table border=\"1\" class=\"dataframe\">\n",
       "  <thead>\n",
       "    <tr style=\"text-align: right;\">\n",
       "      <th></th>\n",
       "      <th>height</th>\n",
       "      <th>weight</th>\n",
       "      <th>collage</th>\n",
       "      <th>born</th>\n",
       "      <th>G</th>\n",
       "      <th>MP</th>\n",
       "      <th>FG</th>\n",
       "      <th>FGA</th>\n",
       "      <th>FT</th>\n",
       "      <th>FTA</th>\n",
       "      <th>...</th>\n",
       "      <th>2PA</th>\n",
       "      <th>ORB</th>\n",
       "      <th>DRB</th>\n",
       "      <th>TRB</th>\n",
       "      <th>AST</th>\n",
       "      <th>STL</th>\n",
       "      <th>BLK</th>\n",
       "      <th>TOV</th>\n",
       "      <th>PF</th>\n",
       "      <th>PTS</th>\n",
       "    </tr>\n",
       "    <tr>\n",
       "      <th>Player</th>\n",
       "      <th></th>\n",
       "      <th></th>\n",
       "      <th></th>\n",
       "      <th></th>\n",
       "      <th></th>\n",
       "      <th></th>\n",
       "      <th></th>\n",
       "      <th></th>\n",
       "      <th></th>\n",
       "      <th></th>\n",
       "      <th></th>\n",
       "      <th></th>\n",
       "      <th></th>\n",
       "      <th></th>\n",
       "      <th></th>\n",
       "      <th></th>\n",
       "      <th></th>\n",
       "      <th></th>\n",
       "      <th></th>\n",
       "      <th></th>\n",
       "      <th></th>\n",
       "    </tr>\n",
       "  </thead>\n",
       "  <tbody>\n",
       "    <tr>\n",
       "      <th>A.C. Green</th>\n",
       "      <td>203.0</td>\n",
       "      <td>106.0</td>\n",
       "      <td>NaN</td>\n",
       "      <td>1960.0</td>\n",
       "      <td>1361.0</td>\n",
       "      <td>39044.0</td>\n",
       "      <td>4778.0</td>\n",
       "      <td>9686.0</td>\n",
       "      <td>3247.0</td>\n",
       "      <td>4447.0</td>\n",
       "      <td>...</td>\n",
       "      <td>9177.0</td>\n",
       "      <td>3576.0</td>\n",
       "      <td>6553.0</td>\n",
       "      <td>10129.0</td>\n",
       "      <td>1469.0</td>\n",
       "      <td>1103.0</td>\n",
       "      <td>562.0</td>\n",
       "      <td>1508.0</td>\n",
       "      <td>2581.0</td>\n",
       "      <td>12928.0</td>\n",
       "    </tr>\n",
       "    <tr>\n",
       "      <th>A.J. Bramlett</th>\n",
       "      <td>196.0</td>\n",
       "      <td>88.0</td>\n",
       "      <td>NaN</td>\n",
       "      <td>1973.0</td>\n",
       "      <td>8.0</td>\n",
       "      <td>61.0</td>\n",
       "      <td>4.0</td>\n",
       "      <td>21.0</td>\n",
       "      <td>0.0</td>\n",
       "      <td>0.0</td>\n",
       "      <td>...</td>\n",
       "      <td>21.0</td>\n",
       "      <td>12.0</td>\n",
       "      <td>10.0</td>\n",
       "      <td>22.0</td>\n",
       "      <td>0.0</td>\n",
       "      <td>1.0</td>\n",
       "      <td>0.0</td>\n",
       "      <td>3.0</td>\n",
       "      <td>13.0</td>\n",
       "      <td>8.0</td>\n",
       "    </tr>\n",
       "    <tr>\n",
       "      <th>A.J. English</th>\n",
       "      <td>196.0</td>\n",
       "      <td>95.0</td>\n",
       "      <td>NaN</td>\n",
       "      <td>1963.0</td>\n",
       "      <td>151.0</td>\n",
       "      <td>3108.0</td>\n",
       "      <td>617.0</td>\n",
       "      <td>1418.0</td>\n",
       "      <td>259.0</td>\n",
       "      <td>333.0</td>\n",
       "      <td>...</td>\n",
       "      <td>1353.0</td>\n",
       "      <td>140.0</td>\n",
       "      <td>175.0</td>\n",
       "      <td>315.0</td>\n",
       "      <td>320.0</td>\n",
       "      <td>57.0</td>\n",
       "      <td>24.0</td>\n",
       "      <td>203.0</td>\n",
       "      <td>287.0</td>\n",
       "      <td>1502.0</td>\n",
       "    </tr>\n",
       "    <tr>\n",
       "      <th>A.J. Guyton</th>\n",
       "      <td>208.0</td>\n",
       "      <td>99.0</td>\n",
       "      <td>NaN</td>\n",
       "      <td>1976.0</td>\n",
       "      <td>80.0</td>\n",
       "      <td>1246.0</td>\n",
       "      <td>166.0</td>\n",
       "      <td>440.0</td>\n",
       "      <td>37.0</td>\n",
       "      <td>45.0</td>\n",
       "      <td>...</td>\n",
       "      <td>247.0</td>\n",
       "      <td>22.0</td>\n",
       "      <td>58.0</td>\n",
       "      <td>80.0</td>\n",
       "      <td>147.0</td>\n",
       "      <td>20.0</td>\n",
       "      <td>12.0</td>\n",
       "      <td>62.0</td>\n",
       "      <td>58.0</td>\n",
       "      <td>442.0</td>\n",
       "    </tr>\n",
       "    <tr>\n",
       "      <th>A.J. Hammons</th>\n",
       "      <td>198.0</td>\n",
       "      <td>99.0</td>\n",
       "      <td>NaN</td>\n",
       "      <td>1993.0</td>\n",
       "      <td>22.0</td>\n",
       "      <td>163.0</td>\n",
       "      <td>17.0</td>\n",
       "      <td>42.0</td>\n",
       "      <td>9.0</td>\n",
       "      <td>20.0</td>\n",
       "      <td>...</td>\n",
       "      <td>32.0</td>\n",
       "      <td>8.0</td>\n",
       "      <td>28.0</td>\n",
       "      <td>36.0</td>\n",
       "      <td>4.0</td>\n",
       "      <td>1.0</td>\n",
       "      <td>13.0</td>\n",
       "      <td>10.0</td>\n",
       "      <td>21.0</td>\n",
       "      <td>48.0</td>\n",
       "    </tr>\n",
       "  </tbody>\n",
       "</table>\n",
       "<p>5 rows × 23 columns</p>\n",
       "</div>"
      ],
      "text/plain": [
       "               height  weight collage    born       G       MP      FG   \n",
       "Player                                                                   \n",
       "A.C. Green      203.0   106.0     NaN  1960.0  1361.0  39044.0  4778.0  \\\n",
       "A.J. Bramlett   196.0    88.0     NaN  1973.0     8.0     61.0     4.0   \n",
       "A.J. English    196.0    95.0     NaN  1963.0   151.0   3108.0   617.0   \n",
       "A.J. Guyton     208.0    99.0     NaN  1976.0    80.0   1246.0   166.0   \n",
       "A.J. Hammons    198.0    99.0     NaN  1993.0    22.0    163.0    17.0   \n",
       "\n",
       "                  FGA      FT     FTA  ...     2PA     ORB     DRB      TRB   \n",
       "Player                                 ...                                    \n",
       "A.C. Green     9686.0  3247.0  4447.0  ...  9177.0  3576.0  6553.0  10129.0  \\\n",
       "A.J. Bramlett    21.0     0.0     0.0  ...    21.0    12.0    10.0     22.0   \n",
       "A.J. English   1418.0   259.0   333.0  ...  1353.0   140.0   175.0    315.0   \n",
       "A.J. Guyton     440.0    37.0    45.0  ...   247.0    22.0    58.0     80.0   \n",
       "A.J. Hammons     42.0     9.0    20.0  ...    32.0     8.0    28.0     36.0   \n",
       "\n",
       "                  AST     STL    BLK     TOV      PF      PTS  \n",
       "Player                                                         \n",
       "A.C. Green     1469.0  1103.0  562.0  1508.0  2581.0  12928.0  \n",
       "A.J. Bramlett     0.0     1.0    0.0     3.0    13.0      8.0  \n",
       "A.J. English    320.0    57.0   24.0   203.0   287.0   1502.0  \n",
       "A.J. Guyton     147.0    20.0   12.0    62.0    58.0    442.0  \n",
       "A.J. Hammons      4.0     1.0   13.0    10.0    21.0     48.0  \n",
       "\n",
       "[5 rows x 23 columns]"
      ]
     },
     "execution_count": 3,
     "metadata": {},
     "output_type": "execute_result"
    }
   ],
   "source": [
    "df.head()"
   ]
  },
  {
   "cell_type": "code",
   "execution_count": 4,
   "id": "abb00690",
   "metadata": {},
   "outputs": [],
   "source": [
    "# Game info\n",
    "games_played = df['G']\n",
    "minutes_played = df['MP']\n",
    "\n",
    "# Field Goals info\n",
    "field_goals = df['FG']\n",
    "field_goals_attempts = df['FGA']\n",
    "\n",
    "# Free Throws info\n",
    "free_throws = df['FT']\n",
    "free_throws_attempts = df['FTA']"
   ]
  },
  {
   "cell_type": "code",
   "execution_count": 5,
   "id": "c48b8429",
   "metadata": {},
   "outputs": [
    {
     "data": {
      "text/plain": [
       "Player\n",
       "A.C. Green       1361.0\n",
       "A.J. Bramlett       8.0\n",
       "A.J. English      151.0\n",
       "A.J. Guyton        80.0\n",
       "A.J. Hammons       22.0\n",
       "Name: G, dtype: float64"
      ]
     },
     "execution_count": 5,
     "metadata": {},
     "output_type": "execute_result"
    }
   ],
   "source": [
    "games_played.head()"
   ]
  },
  {
   "cell_type": "code",
   "execution_count": 6,
   "id": "4cca7066",
   "metadata": {},
   "outputs": [
    {
     "data": {
      "text/plain": [
       "Player\n",
       "A.C. Green       4778.0\n",
       "A.J. Bramlett       4.0\n",
       "A.J. English      617.0\n",
       "A.J. Guyton       166.0\n",
       "A.J. Hammons       17.0\n",
       "Name: FG, dtype: float64"
      ]
     },
     "execution_count": 6,
     "metadata": {},
     "output_type": "execute_result"
    }
   ],
   "source": [
    "field_goals.head()"
   ]
  },
  {
   "cell_type": "code",
   "execution_count": 7,
   "id": "392c141d",
   "metadata": {},
   "outputs": [
    {
     "data": {
      "text/plain": [
       "Player\n",
       "A.C. Green       9686.0\n",
       "A.J. Bramlett      21.0\n",
       "A.J. English     1418.0\n",
       "A.J. Guyton       440.0\n",
       "A.J. Hammons       42.0\n",
       "Name: FGA, dtype: float64"
      ]
     },
     "execution_count": 7,
     "metadata": {},
     "output_type": "execute_result"
    }
   ],
   "source": [
    "field_goals_attempts.head()"
   ]
  },
  {
   "cell_type": "markdown",
   "id": "bad4c4b4",
   "metadata": {},
   "source": [
    "MJ's Field Goals:"
   ]
  },
  {
   "cell_type": "code",
   "execution_count": 8,
   "id": "9704f64c",
   "metadata": {},
   "outputs": [
    {
     "data": {
      "text/plain": [
       "12192.0"
      ]
     },
     "execution_count": 8,
     "metadata": {},
     "output_type": "execute_result"
    }
   ],
   "source": [
    "field_goals.loc['Michael Jordan*']"
   ]
  },
  {
   "cell_type": "markdown",
   "id": "2cfa0e9e",
   "metadata": {},
   "source": [
    "### Arithmetic Operations"
   ]
  },
  {
   "cell_type": "markdown",
   "id": "bc857747",
   "metadata": {},
   "source": [
    "##### 1. Calculate field goal accuracy"
   ]
  },
  {
   "cell_type": "code",
   "execution_count": 9,
   "id": "6a24cf78",
   "metadata": {},
   "outputs": [
    {
     "data": {
      "text/plain": [
       "Player\n",
       "A.C. Green            49.328928\n",
       "A.J. Bramlett         19.047619\n",
       "A.J. English          43.511989\n",
       "A.J. Guyton           37.727273\n",
       "A.J. Hammons          40.476190\n",
       "                        ...    \n",
       "Zeljko Rebraca        52.043868\n",
       "Zendon Hamilton       44.202899\n",
       "Zoran Dragic          36.666667\n",
       "Zoran Planinic        40.534979\n",
       "Zydrunas Ilgauskas    47.579733\n",
       "Length: 2553, dtype: float64"
      ]
     },
     "execution_count": 9,
     "metadata": {},
     "output_type": "execute_result"
    }
   ],
   "source": [
    "field_goal_perc = (field_goals / field_goals_attempts)*100\n",
    "field_goal_perc"
   ]
  },
  {
   "cell_type": "markdown",
   "id": "f7a9bf65",
   "metadata": {},
   "source": [
    "##### 2. What's the FG% of Michael Jordan"
   ]
  },
  {
   "cell_type": "code",
   "execution_count": 10,
   "id": "80f3d2d9-a4c8-4ad2-baa5-6fc0aa1d33e8",
   "metadata": {},
   "outputs": [
    {
     "data": {
      "text/plain": [
       "Player\n",
       "Michael Jordan*    49.688226\n",
       "dtype: float64"
      ]
     },
     "execution_count": 10,
     "metadata": {},
     "output_type": "execute_result"
    }
   ],
   "source": [
    "field_goal_perc[field_goal_perc.index == 'Michael Jordan*']"
   ]
  },
  {
   "cell_type": "markdown",
   "id": "cc22fead",
   "metadata": {},
   "source": [
    "##### 3. Field goals per Game"
   ]
  },
  {
   "cell_type": "code",
   "execution_count": 11,
   "id": "0dbedf90",
   "metadata": {},
   "outputs": [],
   "source": [
    "field_goals_per_game = field_goals / games_played"
   ]
  },
  {
   "cell_type": "markdown",
   "id": "e44096f5",
   "metadata": {},
   "source": [
    "##### 4. Which player has the highest 'Field Goal per Game' value?"
   ]
  },
  {
   "cell_type": "code",
   "execution_count": 12,
   "id": "2ace660a-580d-41ce-9fb1-67b4c8a2a949",
   "metadata": {},
   "outputs": [
    {
     "data": {
      "text/plain": [
       "Player\n",
       "Michael Jordan*    11.373134\n",
       "dtype: float64"
      ]
     },
     "execution_count": 12,
     "metadata": {},
     "output_type": "execute_result"
    }
   ],
   "source": [
    "field_goals_per_game.sort_values(ascending=False).head(1)"
   ]
  },
  {
   "cell_type": "markdown",
   "id": "3db6d1ce",
   "metadata": {},
   "source": [
    "##### 5. Calculate \"Total Points\""
   ]
  },
  {
   "cell_type": "code",
   "execution_count": 13,
   "id": "1b880151",
   "metadata": {},
   "outputs": [
    {
     "data": {
      "text/plain": [
       "Player\n",
       "A.C. Green            12803.0\n",
       "A.J. Bramlett             8.0\n",
       "A.J. English           1493.0\n",
       "A.J. Guyton             369.0\n",
       "A.J. Hammons             43.0\n",
       "                       ...   \n",
       "Zeljko Rebraca         1367.0\n",
       "Zendon Hamilton         611.0\n",
       "Zoran Dragic             50.0\n",
       "Zoran Planinic          524.0\n",
       "Zydrunas Ilgauskas    10945.0\n",
       "Length: 2553, dtype: float64"
      ]
     },
     "execution_count": 13,
     "metadata": {},
     "output_type": "execute_result"
    }
   ],
   "source": [
    "total_points =(field_goals * 2) + free_throws\n",
    "total_points"
   ]
  },
  {
   "cell_type": "markdown",
   "id": "129863fb",
   "metadata": {},
   "source": [
    "##### 6. Who's the player with the most Total Points?"
   ]
  },
  {
   "cell_type": "code",
   "execution_count": 14,
   "id": "ea4a9ab7",
   "metadata": {},
   "outputs": [
    {
     "data": {
      "text/plain": [
       "Player\n",
       "Karl Malone*    36843.0\n",
       "dtype: float64"
      ]
     },
     "execution_count": 14,
     "metadata": {},
     "output_type": "execute_result"
    }
   ],
   "source": [
    "total_points.sort_values(ascending=False).head(1)"
   ]
  },
  {
   "cell_type": "markdown",
   "id": "67a39ab0",
   "metadata": {},
   "source": [
    "##### 7. Total Points per Minute"
   ]
  },
  {
   "cell_type": "code",
   "execution_count": 15,
   "id": "42fbd615",
   "metadata": {},
   "outputs": [],
   "source": [
    "points_per_minute = total_points / minutes_played"
   ]
  },
  {
   "cell_type": "markdown",
   "id": "777f4f9b",
   "metadata": {},
   "source": [
    "##### 8. Who has a better Points per Minute score; MJ or Kevin Durant?"
   ]
  },
  {
   "cell_type": "code",
   "execution_count": 16,
   "id": "b18d91b8",
   "metadata": {},
   "outputs": [
    {
     "name": "stdout",
     "output_type": "stream",
     "text": [
      "Player\n",
      "Michael Jordan*    0.773232\n",
      "dtype: float64\n"
     ]
    },
    {
     "data": {
      "text/plain": [
       "Player\n",
       "Kevin Durant    0.679694\n",
       "dtype: float64"
      ]
     },
     "execution_count": 16,
     "metadata": {},
     "output_type": "execute_result"
    }
   ],
   "source": [
    "print(points_per_minute[points_per_minute.index == 'Michael Jordan*'])\n",
    "points_per_minute[points_per_minute.index == 'Kevin Durant']"
   ]
  },
  {
   "cell_type": "markdown",
   "id": "2bcb7938",
   "metadata": {},
   "source": [
    "##### 9. Calculate FT%"
   ]
  },
  {
   "cell_type": "code",
   "execution_count": 17,
   "id": "566f5207",
   "metadata": {},
   "outputs": [],
   "source": [
    "ft_perc = free_throws / free_throws_attempts"
   ]
  },
  {
   "cell_type": "markdown",
   "id": "01dd8998",
   "metadata": {},
   "source": [
    "##### 10. Who's the player with best FT% record: MJ or Larry Bird?"
   ]
  },
  {
   "cell_type": "code",
   "execution_count": 18,
   "id": "705300b9-5a56-4b90-83af-59ece80a3f9d",
   "metadata": {},
   "outputs": [
    {
     "name": "stdout",
     "output_type": "stream",
     "text": [
      "Player\n",
      "Michael Jordan*    0.773232\n",
      "dtype: float64\n"
     ]
    },
    {
     "data": {
      "text/plain": [
       "Player\n",
       "Larry Bird*    0.634138\n",
       "dtype: float64"
      ]
     },
     "execution_count": 18,
     "metadata": {},
     "output_type": "execute_result"
    }
   ],
   "source": [
    "print(points_per_minute[ft_perc.index == 'Michael Jordan*'])\n",
    "points_per_minute[ft_perc.index == 'Larry Bird*']"
   ]
  },
  {
   "cell_type": "markdown",
   "id": "09482cf8",
   "metadata": {},
   "source": [
    "### Boolean Operations"
   ]
  },
  {
   "cell_type": "markdown",
   "id": "c621804e",
   "metadata": {},
   "source": [
    "##### 11. Find the top 25% players by \"free throw accuracy\""
   ]
  },
  {
   "cell_type": "code",
   "execution_count": 19,
   "id": "4d0363b4",
   "metadata": {},
   "outputs": [
    {
     "data": {
      "text/plain": [
       "Player\n",
       "A.C. Green            False\n",
       "A.J. Bramlett         False\n",
       "A.J. English          False\n",
       "A.J. Guyton            True\n",
       "A.J. Hammons          False\n",
       "                      ...  \n",
       "Zeljko Rebraca        False\n",
       "Zendon Hamilton       False\n",
       "Zoran Dragic          False\n",
       "Zoran Planinic        False\n",
       "Zydrunas Ilgauskas    False\n",
       "Length: 2553, dtype: bool"
      ]
     },
     "execution_count": 19,
     "metadata": {},
     "output_type": "execute_result"
    }
   ],
   "source": [
    "ft_top_25 = ft_perc >= ft_perc.quantile(.75)\n",
    "ft_top_25"
   ]
  },
  {
   "cell_type": "markdown",
   "id": "098d7923",
   "metadata": {},
   "source": [
    "##### 12. How many players are in the top 25% by free throw accuracy?"
   ]
  },
  {
   "cell_type": "code",
   "execution_count": 20,
   "id": "6949619e",
   "metadata": {},
   "outputs": [
    {
     "data": {
      "text/plain": [
       "613"
      ]
     },
     "execution_count": 20,
     "metadata": {},
     "output_type": "execute_result"
    }
   ],
   "source": [
    "len(ft_top_25[ft_top_25])"
   ]
  },
  {
   "cell_type": "markdown",
   "id": "5812d77f",
   "metadata": {},
   "source": [
    "##### 13. Find those players that scored `0` points in their history"
   ]
  },
  {
   "cell_type": "code",
   "execution_count": 21,
   "id": "40754a41",
   "metadata": {},
   "outputs": [],
   "source": [
    "players_0_points = total_points == 0"
   ]
  },
  {
   "cell_type": "markdown",
   "id": "bc97cd70",
   "metadata": {},
   "source": [
    "##### 14. How many players have scored 0 points?"
   ]
  },
  {
   "cell_type": "code",
   "execution_count": 22,
   "id": "7baec3b5",
   "metadata": {},
   "outputs": [
    {
     "data": {
      "text/plain": [
       "41"
      ]
     },
     "execution_count": 22,
     "metadata": {},
     "output_type": "execute_result"
    }
   ],
   "source": [
    "total_points[players_0_points].size"
   ]
  },
  {
   "cell_type": "markdown",
   "id": "6664f7d8",
   "metadata": {},
   "source": [
    "### The End!"
   ]
  },
  {
   "cell_type": "code",
   "execution_count": null,
   "id": "c9253e4a",
   "metadata": {},
   "outputs": [],
   "source": []
  }
 ],
 "metadata": {
  "kernelspec": {
   "display_name": "Python 3",
   "language": "python",
   "name": "python3"
  },
  "language_info": {
   "codemirror_mode": {
    "name": "ipython",
    "version": 3
   },
   "file_extension": ".py",
   "mimetype": "text/x-python",
   "name": "python",
   "nbconvert_exporter": "python",
   "pygments_lexer": "ipython3",
   "version": "3.8.8"
  }
 },
 "nbformat": 4,
 "nbformat_minor": 5
}
