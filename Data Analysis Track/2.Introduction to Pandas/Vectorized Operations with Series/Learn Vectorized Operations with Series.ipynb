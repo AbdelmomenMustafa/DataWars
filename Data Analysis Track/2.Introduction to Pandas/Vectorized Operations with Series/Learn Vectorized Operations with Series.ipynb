{
 "cells": [
  {
   "cell_type": "code",
   "execution_count": 1,
   "id": "88548d62-b7ce-402a-9d14-9048dc9bcb7a",
   "metadata": {},
   "outputs": [],
   "source": [
    "import pandas as pd"
   ]
  },
  {
   "cell_type": "code",
   "execution_count": 2,
   "id": "229963c9-431e-45b7-851a-d47a9e1c3cf0",
   "metadata": {},
   "outputs": [],
   "source": [
    "companies = [\n",
    "    'Apple', 'Samsung', 'Alphabet', 'Foxconn',\n",
    "    'Microsoft', 'Huawei', 'Dell Technologies',\n",
    "    'Meta', 'Sony', 'Hitachi', 'Intel',\n",
    "    'IBM', 'Tencent', 'Panasonic'\n",
    "]"
   ]
  },
  {
   "cell_type": "code",
   "execution_count": 3,
   "id": "e9c86d8c-cfb9-4906-8ddb-dab84647a68a",
   "metadata": {},
   "outputs": [],
   "source": [
    "revenue_in_millions = pd.Series([\n",
    "    274515, 200734, 182527, 181945, 143015,\n",
    "    129184, 92224, 85965, 84893, 82345,\n",
    "    77867, 73620, 69864, 63191],\n",
    "    index=companies,\n",
    "    name=\"Top Technology Companies by Revenue\")"
   ]
  },
  {
   "cell_type": "markdown",
   "id": "12308e80-d164-4f1a-a67d-75dc6565fc57",
   "metadata": {},
   "source": [
    "#### Understanding Vectorized Operations\n",
    "\n",
    "We'll now compute the revenue in Billions:"
   ]
  },
  {
   "cell_type": "code",
   "execution_count": 4,
   "id": "ed885244-e5cf-4503-bbbf-9ab539a51363",
   "metadata": {},
   "outputs": [],
   "source": [
    "revenue_in_billions = revenue_in_millions / 1000"
   ]
  },
  {
   "cell_type": "code",
   "execution_count": 6,
   "id": "20f3b4a4-a1fb-4e96-b6f4-d79e4bf4acb4",
   "metadata": {},
   "outputs": [
    {
     "data": {
      "text/plain": [
       "Apple                274.515\n",
       "Samsung              200.734\n",
       "Alphabet             182.527\n",
       "Foxconn              181.945\n",
       "Microsoft            143.015\n",
       "Huawei               129.184\n",
       "Dell Technologies     92.224\n",
       "Meta                  85.965\n",
       "Sony                  84.893\n",
       "Hitachi               82.345\n",
       "Intel                 77.867\n",
       "IBM                   73.620\n",
       "Tencent               69.864\n",
       "Panasonic             63.191\n",
       "Name: Top Technology Companies by Revenue, dtype: float64"
      ]
     },
     "execution_count": 6,
     "metadata": {},
     "output_type": "execute_result"
    }
   ],
   "source": [
    "revenue_in_billions"
   ]
  },
  {
   "cell_type": "markdown",
   "id": "4e08567e-2dcb-4532-aab7-14488f533bd6",
   "metadata": {},
   "source": [
    "#### Activities"
   ]
  },
  {
   "cell_type": "markdown",
   "id": "5fd2d34e-44c7-4478-a8f6-b5a0f3b39c46",
   "metadata": {},
   "source": [
    "##### Subtract $50B from all companies in `revenue_in_billions`"
   ]
  },
  {
   "cell_type": "code",
   "execution_count": 7,
   "id": "522301df-f55f-4977-a9ad-c7c762888411",
   "metadata": {},
   "outputs": [],
   "source": [
    "revenue_recession = revenue_in_billions-50"
   ]
  },
  {
   "cell_type": "markdown",
   "id": "e1a54ffa-f022-4c00-bbf9-6d90bc90cb4f",
   "metadata": {},
   "source": [
    "##### Create a new series expressing revenue in dollars (units)"
   ]
  },
  {
   "cell_type": "code",
   "execution_count": 11,
   "id": "18fc7e48-eea3-47ec-ac03-509217838b51",
   "metadata": {},
   "outputs": [],
   "source": [
    "revenue_in_dollars = revenue_in_millions*1_000_000"
   ]
  },
  {
   "cell_type": "markdown",
   "id": "16633d8e-b45b-4e61-8006-adcb215d9167",
   "metadata": {},
   "source": [
    "### Operations between Series"
   ]
  },
  {
   "cell_type": "code",
   "execution_count": 12,
   "id": "6b32a8e2-4000-4de1-9649-b71a0bac0e43",
   "metadata": {},
   "outputs": [
    {
     "data": {
      "text/plain": [
       "Apple                0.91\n",
       "Samsung              0.93\n",
       "Alphabet             0.98\n",
       "Foxconn              0.97\n",
       "Microsoft            0.99\n",
       "Huawei               0.89\n",
       "Dell Technologies    0.87\n",
       "Meta                 0.82\n",
       "Sony                 0.93\n",
       "Hitachi              0.93\n",
       "Intel                0.89\n",
       "IBM                  0.97\n",
       "Tencent              0.97\n",
       "Panasonic            0.94\n",
       "dtype: float64"
      ]
     },
     "execution_count": 12,
     "metadata": {},
     "output_type": "execute_result"
    }
   ],
   "source": [
    "recession_impact = pd.Series([\n",
    "    0.91, 0.93, 0.98, 0.97, 0.99, 0.89, 0.87,\n",
    "    0.82, 0.93, 0.93, 0.89, 0.97, 0.97, 0.94], index=companies)\n",
    "recession_impact"
   ]
  },
  {
   "cell_type": "markdown",
   "id": "f76e8df2-3218-4f58-b550-7af5aff34e49",
   "metadata": {},
   "source": [
    "The result of applying the recession impact:"
   ]
  },
  {
   "cell_type": "code",
   "execution_count": 13,
   "id": "30374688-80af-487d-b601-3f1c00b980fb",
   "metadata": {},
   "outputs": [
    {
     "data": {
      "text/plain": [
       "Apple                249808.65\n",
       "Samsung              186682.62\n",
       "Alphabet             178876.46\n",
       "Foxconn              176486.65\n",
       "Microsoft            141584.85\n",
       "Huawei               114973.76\n",
       "Dell Technologies     80234.88\n",
       "Meta                  70491.30\n",
       "Sony                  78950.49\n",
       "Hitachi               76580.85\n",
       "Intel                 69301.63\n",
       "IBM                   71411.40\n",
       "Tencent               67768.08\n",
       "Panasonic             59399.54\n",
       "dtype: float64"
      ]
     },
     "execution_count": 13,
     "metadata": {},
     "output_type": "execute_result"
    }
   ],
   "source": [
    "revenue_in_millions * recession_impact"
   ]
  },
  {
   "cell_type": "markdown",
   "id": "eb986c5f-7ca6-4cb0-ac80-7192ed1d363b",
   "metadata": {},
   "source": [
    "We can calculate the dollar amount of the impact by combining multiple operations:"
   ]
  },
  {
   "cell_type": "code",
   "execution_count": 14,
   "id": "85dbdb59-bb33-4d62-baa2-7ac8b0b66bd1",
   "metadata": {},
   "outputs": [
    {
     "data": {
      "text/plain": [
       "Apple                24706.35\n",
       "Samsung              14051.38\n",
       "Alphabet              3650.54\n",
       "Foxconn               5458.35\n",
       "Microsoft             1430.15\n",
       "Huawei               14210.24\n",
       "Dell Technologies    11989.12\n",
       "Meta                 15473.70\n",
       "Sony                  5942.51\n",
       "Hitachi               5764.15\n",
       "Intel                 8565.37\n",
       "IBM                   2208.60\n",
       "Tencent               2095.92\n",
       "Panasonic             3791.46\n",
       "dtype: float64"
      ]
     },
     "execution_count": 14,
     "metadata": {},
     "output_type": "execute_result"
    }
   ],
   "source": [
    "# Absolute impact in Millions\n",
    "revenue_in_millions - (revenue_in_millions * recession_impact)"
   ]
  },
  {
   "cell_type": "code",
   "execution_count": 15,
   "id": "a58e0309-b657-4978-bfe0-9d67d2c2a04b",
   "metadata": {},
   "outputs": [
    {
     "data": {
      "text/plain": [
       "Apple                24.70635\n",
       "Samsung              14.05138\n",
       "Alphabet              3.65054\n",
       "Foxconn               5.45835\n",
       "Microsoft             1.43015\n",
       "Huawei               14.21024\n",
       "Dell Technologies    11.98912\n",
       "Meta                 15.47370\n",
       "Sony                  5.94251\n",
       "Hitachi               5.76415\n",
       "Intel                 8.56537\n",
       "IBM                   2.20860\n",
       "Tencent               2.09592\n",
       "Panasonic             3.79146\n",
       "dtype: float64"
      ]
     },
     "execution_count": 15,
     "metadata": {},
     "output_type": "execute_result"
    }
   ],
   "source": [
    "# Absolute impact in Billions\n",
    "(revenue_in_millions - (revenue_in_millions * recession_impact)) / 1_000"
   ]
  },
  {
   "cell_type": "markdown",
   "id": "33b017a7-3ff3-44dd-8a17-20e2a87602f0",
   "metadata": {},
   "source": [
    "#### Activities"
   ]
  },
  {
   "cell_type": "markdown",
   "id": "cc5df4f7-ba95-4aa1-8621-532b10fcdacf",
   "metadata": {},
   "source": [
    "##### Calculate revenue per employee, in dollars"
   ]
  },
  {
   "cell_type": "code",
   "execution_count": 16,
   "id": "fa19757a-073a-4f61-a384-1c224870e350",
   "metadata": {},
   "outputs": [],
   "source": [
    "number_of_employees = pd.Series([\n",
    "    164000, 266673, 150028, 1290000, 221000, 195000,\n",
    "    165000, 71970, 109700, 368250, 121100, 282100, 112771, 240198\n",
    "], index=companies)"
   ]
  },
  {
   "cell_type": "code",
   "execution_count": 17,
   "id": "7b5edced-382a-40b4-bfeb-37279ce60e80",
   "metadata": {},
   "outputs": [],
   "source": [
    "revenue_per_employee = revenue_in_dollars / number_of_employees"
   ]
  },
  {
   "cell_type": "code",
   "execution_count": null,
   "id": "b9f8e785",
   "metadata": {},
   "outputs": [],
   "source": []
  }
 ],
 "metadata": {
  "kernelspec": {
   "display_name": "Python 3",
   "language": "python",
   "name": "python3"
  },
  "language_info": {
   "codemirror_mode": {
    "name": "ipython",
    "version": 3
   },
   "file_extension": ".py",
   "mimetype": "text/x-python",
   "name": "python",
   "nbconvert_exporter": "python",
   "pygments_lexer": "ipython3",
   "version": "3.8.8"
  }
 },
 "nbformat": 4,
 "nbformat_minor": 5
}
