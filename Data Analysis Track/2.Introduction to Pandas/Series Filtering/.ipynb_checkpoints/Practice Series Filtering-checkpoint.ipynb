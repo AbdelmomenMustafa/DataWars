{
 "cells": [
  {
   "cell_type": "markdown",
   "id": "af7f0549",
   "metadata": {},
   "source": [
    "### Take a deep look at the dataset and Pandas series we are working with"
   ]
  },
  {
   "cell_type": "code",
   "execution_count": 1,
   "id": "481bdb84",
   "metadata": {},
   "outputs": [],
   "source": [
    "# Import the Pandas library\n",
    "import pandas as pd"
   ]
  },
  {
   "cell_type": "code",
   "execution_count": 2,
   "id": "f83ed79b",
   "metadata": {},
   "outputs": [
    {
     "data": {
      "text/html": [
       "<div>\n",
       "<style scoped>\n",
       "    .dataframe tbody tr th:only-of-type {\n",
       "        vertical-align: middle;\n",
       "    }\n",
       "\n",
       "    .dataframe tbody tr th {\n",
       "        vertical-align: top;\n",
       "    }\n",
       "\n",
       "    .dataframe thead th {\n",
       "        text-align: right;\n",
       "    }\n",
       "</style>\n",
       "<table border=\"1\" class=\"dataframe\">\n",
       "  <thead>\n",
       "    <tr style=\"text-align: right;\">\n",
       "      <th></th>\n",
       "      <th>Player</th>\n",
       "      <th>I</th>\n",
       "      <th>R</th>\n",
       "      <th>B</th>\n",
       "      <th>Outs</th>\n",
       "      <th>Avg</th>\n",
       "      <th>SR</th>\n",
       "      <th>HS</th>\n",
       "      <th>4s</th>\n",
       "      <th>6s</th>\n",
       "      <th>50</th>\n",
       "      <th>100</th>\n",
       "    </tr>\n",
       "  </thead>\n",
       "  <tbody>\n",
       "    <tr>\n",
       "      <th>0</th>\n",
       "      <td>A Bagai</td>\n",
       "      <td>15</td>\n",
       "      <td>343</td>\n",
       "      <td>556</td>\n",
       "      <td>13</td>\n",
       "      <td>26.38</td>\n",
       "      <td>61.69</td>\n",
       "      <td>84</td>\n",
       "      <td>38</td>\n",
       "      <td>0</td>\n",
       "      <td>2</td>\n",
       "      <td>0</td>\n",
       "    </tr>\n",
       "    <tr>\n",
       "      <th>1</th>\n",
       "      <td>A Balbirnie</td>\n",
       "      <td>6</td>\n",
       "      <td>236</td>\n",
       "      <td>260</td>\n",
       "      <td>6</td>\n",
       "      <td>39.33</td>\n",
       "      <td>90.77</td>\n",
       "      <td>97</td>\n",
       "      <td>20</td>\n",
       "      <td>4</td>\n",
       "      <td>2</td>\n",
       "      <td>0</td>\n",
       "    </tr>\n",
       "    <tr>\n",
       "      <th>2</th>\n",
       "      <td>A Codrington</td>\n",
       "      <td>5</td>\n",
       "      <td>28</td>\n",
       "      <td>65</td>\n",
       "      <td>5</td>\n",
       "      <td>5.60</td>\n",
       "      <td>43.08</td>\n",
       "      <td>16</td>\n",
       "      <td>2</td>\n",
       "      <td>0</td>\n",
       "      <td>0</td>\n",
       "      <td>0</td>\n",
       "    </tr>\n",
       "    <tr>\n",
       "      <th>3</th>\n",
       "      <td>A Flintoff</td>\n",
       "      <td>12</td>\n",
       "      <td>248</td>\n",
       "      <td>357</td>\n",
       "      <td>12</td>\n",
       "      <td>20.67</td>\n",
       "      <td>69.47</td>\n",
       "      <td>64</td>\n",
       "      <td>20</td>\n",
       "      <td>7</td>\n",
       "      <td>1</td>\n",
       "      <td>0</td>\n",
       "    </tr>\n",
       "    <tr>\n",
       "      <th>4</th>\n",
       "      <td>A Flower</td>\n",
       "      <td>7</td>\n",
       "      <td>332</td>\n",
       "      <td>459</td>\n",
       "      <td>7</td>\n",
       "      <td>47.43</td>\n",
       "      <td>72.33</td>\n",
       "      <td>71</td>\n",
       "      <td>30</td>\n",
       "      <td>1</td>\n",
       "      <td>3</td>\n",
       "      <td>0</td>\n",
       "    </tr>\n",
       "    <tr>\n",
       "      <th>...</th>\n",
       "      <td>...</td>\n",
       "      <td>...</td>\n",
       "      <td>...</td>\n",
       "      <td>...</td>\n",
       "      <td>...</td>\n",
       "      <td>...</td>\n",
       "      <td>...</td>\n",
       "      <td>...</td>\n",
       "      <td>...</td>\n",
       "      <td>...</td>\n",
       "      <td>...</td>\n",
       "      <td>...</td>\n",
       "    </tr>\n",
       "    <tr>\n",
       "      <th>643</th>\n",
       "      <td>Younis Khan</td>\n",
       "      <td>17</td>\n",
       "      <td>349</td>\n",
       "      <td>493</td>\n",
       "      <td>16</td>\n",
       "      <td>21.81</td>\n",
       "      <td>70.79</td>\n",
       "      <td>72</td>\n",
       "      <td>23</td>\n",
       "      <td>1</td>\n",
       "      <td>2</td>\n",
       "      <td>0</td>\n",
       "    </tr>\n",
       "    <tr>\n",
       "      <th>644</th>\n",
       "      <td>YS Chahal</td>\n",
       "      <td>1</td>\n",
       "      <td>5</td>\n",
       "      <td>5</td>\n",
       "      <td>1</td>\n",
       "      <td>5.00</td>\n",
       "      <td>100.00</td>\n",
       "      <td>5</td>\n",
       "      <td>1</td>\n",
       "      <td>0</td>\n",
       "      <td>0</td>\n",
       "      <td>0</td>\n",
       "    </tr>\n",
       "    <tr>\n",
       "      <th>645</th>\n",
       "      <td>Yuvraj Singh</td>\n",
       "      <td>21</td>\n",
       "      <td>738</td>\n",
       "      <td>817</td>\n",
       "      <td>14</td>\n",
       "      <td>52.71</td>\n",
       "      <td>90.33</td>\n",
       "      <td>113</td>\n",
       "      <td>68</td>\n",
       "      <td>13</td>\n",
       "      <td>7</td>\n",
       "      <td>1</td>\n",
       "    </tr>\n",
       "    <tr>\n",
       "      <th>646</th>\n",
       "      <td>Z Khan</td>\n",
       "      <td>10</td>\n",
       "      <td>52</td>\n",
       "      <td>70</td>\n",
       "      <td>9</td>\n",
       "      <td>5.78</td>\n",
       "      <td>74.29</td>\n",
       "      <td>15</td>\n",
       "      <td>6</td>\n",
       "      <td>0</td>\n",
       "      <td>0</td>\n",
       "      <td>0</td>\n",
       "    </tr>\n",
       "    <tr>\n",
       "      <th>647</th>\n",
       "      <td>ZE Surkari</td>\n",
       "      <td>6</td>\n",
       "      <td>104</td>\n",
       "      <td>231</td>\n",
       "      <td>6</td>\n",
       "      <td>17.33</td>\n",
       "      <td>45.02</td>\n",
       "      <td>34</td>\n",
       "      <td>7</td>\n",
       "      <td>0</td>\n",
       "      <td>0</td>\n",
       "      <td>0</td>\n",
       "    </tr>\n",
       "  </tbody>\n",
       "</table>\n",
       "<p>648 rows × 12 columns</p>\n",
       "</div>"
      ],
      "text/plain": [
       "           Player   I    R    B  Outs    Avg      SR   HS  4s  6s  50  100\n",
       "0         A Bagai  15  343  556    13  26.38   61.69   84  38   0   2    0\n",
       "1     A Balbirnie   6  236  260     6  39.33   90.77   97  20   4   2    0\n",
       "2    A Codrington   5   28   65     5   5.60   43.08   16   2   0   0    0\n",
       "3      A Flintoff  12  248  357    12  20.67   69.47   64  20   7   1    0\n",
       "4        A Flower   7  332  459     7  47.43   72.33   71  30   1   3    0\n",
       "..            ...  ..  ...  ...   ...    ...     ...  ...  ..  ..  ..  ...\n",
       "643   Younis Khan  17  349  493    16  21.81   70.79   72  23   1   2    0\n",
       "644     YS Chahal   1    5    5     1   5.00  100.00    5   1   0   0    0\n",
       "645  Yuvraj Singh  21  738  817    14  52.71   90.33  113  68  13   7    1\n",
       "646        Z Khan  10   52   70     9   5.78   74.29   15   6   0   0    0\n",
       "647    ZE Surkari   6  104  231     6  17.33   45.02   34   7   0   0    0\n",
       "\n",
       "[648 rows x 12 columns]"
      ]
     },
     "execution_count": 2,
     "metadata": {},
     "output_type": "execute_result"
    }
   ],
   "source": [
    "# Read in the data from the CSV file\n",
    "data = pd.read_csv('leadersdata.csv')\n",
    "data"
   ]
  },
  {
   "cell_type": "code",
   "execution_count": 3,
   "id": "28eac48a",
   "metadata": {},
   "outputs": [
    {
     "data": {
      "text/plain": [
       "Index(['Player', 'I', 'R', 'B', 'Outs', 'Avg', 'SR', 'HS', '4s', '6s', '50',\n",
       "       '100'],\n",
       "      dtype='object')"
      ]
     },
     "execution_count": 3,
     "metadata": {},
     "output_type": "execute_result"
    }
   ],
   "source": [
    "data.columns"
   ]
  },
  {
   "cell_type": "code",
   "execution_count": 4,
   "id": "2501096e",
   "metadata": {},
   "outputs": [],
   "source": [
    "# Setting Player's Name as the index\n",
    "data.set_index('Player', inplace=True)"
   ]
  },
  {
   "cell_type": "code",
   "execution_count": 5,
   "id": "21bc6de4",
   "metadata": {},
   "outputs": [],
   "source": [
    "# Creating pandas series for each column\n",
    "innings = data['I']\n",
    "runs = data['R']\n",
    "balls = data['B']\n",
    "outs = data['Outs']\n",
    "batting_average = data['Avg']\n",
    "strike_rate = data['SR']\n",
    "highest_score = data['HS']\n",
    "number_of_fours = data['4s']\n",
    "number_of_sixes = data['6s']\n",
    "number_of_fifties = data['50']\n",
    "number_of_hundreds = data['100']\n"
   ]
  },
  {
   "cell_type": "code",
   "execution_count": 6,
   "id": "75a85e8d",
   "metadata": {},
   "outputs": [
    {
     "name": "stdout",
     "output_type": "stream",
     "text": [
      "Innings:\n",
      " Player\n",
      "A Bagai         15\n",
      "A Balbirnie      6\n",
      "A Codrington     5\n",
      "A Flintoff      12\n",
      "A Flower         7\n",
      "Name: I, dtype: int64\n",
      "Runs:\n",
      " Player\n",
      "A Bagai         343\n",
      "A Balbirnie     236\n",
      "A Codrington     28\n",
      "A Flintoff      248\n",
      "A Flower        332\n",
      "Name: R, dtype: int64\n",
      "Balls:\n",
      " Player\n",
      "A Bagai         556\n",
      "A Balbirnie     260\n",
      "A Codrington     65\n",
      "A Flintoff      357\n",
      "A Flower        459\n",
      "Name: B, dtype: int64\n",
      "Outs:\n",
      " Player\n",
      "A Bagai         13\n",
      "A Balbirnie      6\n",
      "A Codrington     5\n",
      "A Flintoff      12\n",
      "A Flower         7\n",
      "Name: Outs, dtype: int64\n",
      "Batting Average:\n",
      " Player\n",
      "A Bagai         26.38\n",
      "A Balbirnie     39.33\n",
      "A Codrington     5.60\n",
      "A Flintoff      20.67\n",
      "A Flower        47.43\n",
      "Name: Avg, dtype: float64\n",
      "Strike Rate:\n",
      " Player\n",
      "A Bagai         61.69\n",
      "A Balbirnie     90.77\n",
      "A Codrington    43.08\n",
      "A Flintoff      69.47\n",
      "A Flower        72.33\n",
      "Name: SR, dtype: float64\n",
      "Highest Score:\n",
      " Player\n",
      "A Bagai         84\n",
      "A Balbirnie     97\n",
      "A Codrington    16\n",
      "A Flintoff      64\n",
      "A Flower        71\n",
      "Name: HS, dtype: int64\n",
      "Number of Fours:\n",
      " Player\n",
      "A Bagai         38\n",
      "A Balbirnie     20\n",
      "A Codrington     2\n",
      "A Flintoff      20\n",
      "A Flower        30\n",
      "Name: 4s, dtype: int64\n",
      "Number of Sixes:\n",
      " Player\n",
      "A Bagai         0\n",
      "A Balbirnie     4\n",
      "A Codrington    0\n",
      "A Flintoff      7\n",
      "A Flower        1\n",
      "Name: 6s, dtype: int64\n",
      "Number of Fifties:\n",
      " Player\n",
      "A Bagai         2\n",
      "A Balbirnie     2\n",
      "A Codrington    0\n",
      "A Flintoff      1\n",
      "A Flower        3\n",
      "Name: 50, dtype: int64\n",
      "Number of Hundreds:\n",
      " Player\n",
      "A Bagai         0\n",
      "A Balbirnie     0\n",
      "A Codrington    0\n",
      "A Flintoff      0\n",
      "A Flower        0\n",
      "Name: 100, dtype: int64\n"
     ]
    }
   ],
   "source": [
    "# Printing the first 5 rows of each series\n",
    "print(\"Innings:\\n\", innings.head())\n",
    "print(\"Runs:\\n\", runs.head())\n",
    "print(\"Balls:\\n\", balls.head())\n",
    "print(\"Outs:\\n\", outs.head())\n",
    "print(\"Batting Average:\\n\", batting_average.head())\n",
    "print(\"Strike Rate:\\n\", strike_rate.head())\n",
    "print(\"Highest Score:\\n\", highest_score.head())\n",
    "print(\"Number of Fours:\\n\", number_of_fours.head())\n",
    "print(\"Number of Sixes:\\n\", number_of_sixes.head())\n",
    "print(\"Number of Fifties:\\n\", number_of_fifties.head())\n",
    "print(\"Number of Hundreds:\\n\", number_of_hundreds.head())"
   ]
  },
  {
   "cell_type": "markdown",
   "id": "9a569e30",
   "metadata": {},
   "source": [
    "### Activities"
   ]
  },
  {
   "cell_type": "markdown",
   "id": "4f6079bb",
   "metadata": {},
   "source": [
    "##### 1. How many players have a batting average greater than 30 in the `batting_average` series"
   ]
  },
  {
   "cell_type": "code",
   "execution_count": 7,
   "id": "96072d91",
   "metadata": {},
   "outputs": [
    {
     "data": {
      "text/plain": [
       "169"
      ]
     },
     "execution_count": 7,
     "metadata": {},
     "output_type": "execute_result"
    }
   ],
   "source": [
    "batting_average[batting_average>30].size"
   ]
  },
  {
   "cell_type": "markdown",
   "id": "6e4412e1",
   "metadata": {},
   "source": [
    "##### 2. What is the maximum number of runs scored by a player in the `runs` series"
   ]
  },
  {
   "cell_type": "code",
   "execution_count": 8,
   "id": "65442126",
   "metadata": {},
   "outputs": [
    {
     "data": {
      "text/plain": [
       "1532"
      ]
     },
     "execution_count": 8,
     "metadata": {},
     "output_type": "execute_result"
    }
   ],
   "source": [
    "runs.max()"
   ]
  },
  {
   "cell_type": "markdown",
   "id": "8500314a",
   "metadata": {},
   "source": [
    "##### 3. Name the player with maximum runs"
   ]
  },
  {
   "cell_type": "code",
   "execution_count": 9,
   "id": "88f65018",
   "metadata": {},
   "outputs": [
    {
     "data": {
      "text/plain": [
       "Player\n",
       "KC Sangakkara    1532\n",
       "Name: R, dtype: int64"
      ]
     },
     "execution_count": 9,
     "metadata": {},
     "output_type": "execute_result"
    }
   ],
   "source": [
    "runs[runs==runs.max()]"
   ]
  },
  {
   "cell_type": "markdown",
   "id": "502b3585",
   "metadata": {},
   "source": [
    "##### 4. Name the player who played least number of balls"
   ]
  },
  {
   "cell_type": "code",
   "execution_count": 10,
   "id": "d2a23b8c",
   "metadata": {},
   "outputs": [
    {
     "data": {
      "text/plain": [
       "Player\n",
       "CJ Jordan     1\n",
       "XJ Doherty    1\n",
       "Name: B, dtype: int64"
      ]
     },
     "execution_count": 10,
     "metadata": {},
     "output_type": "execute_result"
    }
   ],
   "source": [
    "balls[balls==balls.min()][[0,-1]]"
   ]
  },
  {
   "cell_type": "markdown",
   "id": "eac1f041",
   "metadata": {},
   "source": [
    "##### 5. How many players have played more than 500 balls in the `balls` series"
   ]
  },
  {
   "cell_type": "code",
   "execution_count": 11,
   "id": "a766b692",
   "metadata": {},
   "outputs": [
    {
     "data": {
      "text/plain": [
       "70"
      ]
     },
     "execution_count": 11,
     "metadata": {},
     "output_type": "execute_result"
    }
   ],
   "source": [
    "balls[balls>500].size"
   ]
  },
  {
   "cell_type": "markdown",
   "id": "bf20e68a",
   "metadata": {},
   "source": [
    "##### 6. What is the mean value of the `batting_average` series"
   ]
  },
  {
   "cell_type": "code",
   "execution_count": 12,
   "id": "94ffb68b",
   "metadata": {},
   "outputs": [
    {
     "data": {
      "text/plain": [
       "20.89378086419753"
      ]
     },
     "execution_count": 12,
     "metadata": {},
     "output_type": "execute_result"
    }
   ],
   "source": [
    "batting_average.mean()"
   ]
  },
  {
   "cell_type": "markdown",
   "id": "2d9c7f7c",
   "metadata": {},
   "source": [
    "##### 7. How many players have a strike rate less than 70 in the `strike_rate` series "
   ]
  },
  {
   "cell_type": "code",
   "execution_count": 13,
   "id": "1659903b",
   "metadata": {},
   "outputs": [
    {
     "data": {
      "text/plain": [
       "309"
      ]
     },
     "execution_count": 13,
     "metadata": {},
     "output_type": "execute_result"
    }
   ],
   "source": [
    "strike_rate[strike_rate<70].size"
   ]
  },
  {
   "cell_type": "markdown",
   "id": "4907111d",
   "metadata": {},
   "source": [
    "##### 8. What is the minimum number of innings played by a player in the `innings` series"
   ]
  },
  {
   "cell_type": "code",
   "execution_count": 14,
   "id": "05dfa992",
   "metadata": {},
   "outputs": [
    {
     "data": {
      "text/plain": [
       "1"
      ]
     },
     "execution_count": 14,
     "metadata": {},
     "output_type": "execute_result"
    }
   ],
   "source": [
    "innings.min()"
   ]
  },
  {
   "cell_type": "markdown",
   "id": "68fe9459",
   "metadata": {},
   "source": [
    "##### 9. How many players have a batting average greater than 50 in the `batting_average` series"
   ]
  },
  {
   "cell_type": "code",
   "execution_count": 15,
   "id": "efd160a1",
   "metadata": {},
   "outputs": [
    {
     "data": {
      "text/plain": [
       "52"
      ]
     },
     "execution_count": 15,
     "metadata": {},
     "output_type": "execute_result"
    }
   ],
   "source": [
    "batting_average[batting_average>50].size"
   ]
  },
  {
   "cell_type": "markdown",
   "id": "22127721",
   "metadata": {},
   "source": [
    "##### 10. How many players have a batting average between 20 and 30 (inclusive) in the `batting_average` series"
   ]
  },
  {
   "cell_type": "code",
   "execution_count": 16,
   "id": "e5171dc8",
   "metadata": {},
   "outputs": [
    {
     "data": {
      "text/plain": [
       "113"
      ]
     },
     "execution_count": 16,
     "metadata": {},
     "output_type": "execute_result"
    }
   ],
   "source": [
    "# batting_average[batting_average.between(20,30)].size\n",
    "batting_average[(batting_average>=20) & (batting_average<=30)].size"
   ]
  },
  {
   "cell_type": "markdown",
   "id": "1314c464",
   "metadata": {},
   "source": [
    "##### 11. Calculating the Average Balls Faced by a Player"
   ]
  },
  {
   "cell_type": "code",
   "execution_count": 17,
   "id": "183336d6",
   "metadata": {},
   "outputs": [
    {
     "data": {
      "text/plain": [
       "195.14969135802468"
      ]
     },
     "execution_count": 17,
     "metadata": {},
     "output_type": "execute_result"
    }
   ],
   "source": [
    "balls.mean()"
   ]
  },
  {
   "cell_type": "markdown",
   "id": "a3b91d91",
   "metadata": {},
   "source": [
    "##### 12. How many players have a strike rate greater than 120 in the `strike_rate` series"
   ]
  },
  {
   "cell_type": "code",
   "execution_count": 18,
   "id": "dacf7088",
   "metadata": {},
   "outputs": [
    {
     "data": {
      "text/plain": [
       "39"
      ]
     },
     "execution_count": 18,
     "metadata": {},
     "output_type": "execute_result"
    }
   ],
   "source": [
    "strike_rate[strike_rate>120].size"
   ]
  },
  {
   "cell_type": "markdown",
   "id": "5599eb44",
   "metadata": {},
   "source": [
    "##### 13. Provide the names of the top three players from the `strike_rate` series"
   ]
  },
  {
   "cell_type": "code",
   "execution_count": 19,
   "id": "49ea1788",
   "metadata": {},
   "outputs": [
    {
     "data": {
      "text/plain": [
       "Player\n",
       "KD Mills        233.33\n",
       "LD Chandimal    216.67\n",
       "F Behardien     205.56\n",
       "Name: SR, dtype: float64"
      ]
     },
     "execution_count": 19,
     "metadata": {},
     "output_type": "execute_result"
    }
   ],
   "source": [
    "strike_rate.sort_values(ascending=False).head(3)"
   ]
  },
  {
   "cell_type": "markdown",
   "id": "6858891b",
   "metadata": {},
   "source": [
    "##### 14. Sum of Maximums from `number_of_fours` and `number_of_sixes` Series"
   ]
  },
  {
   "cell_type": "code",
   "execution_count": 20,
   "id": "8b6a8bf8",
   "metadata": {},
   "outputs": [
    {
     "data": {
      "text/plain": [
       "196"
      ]
     },
     "execution_count": 20,
     "metadata": {},
     "output_type": "execute_result"
    }
   ],
   "source": [
    "# number_of_fours[number_of_fours==number_of_fours.max()][0] + number_of_sixes[number_of_sixes==number_of_sixes.max()][0]\n",
    "number_of_fours.max()+number_of_sixes.max()"
   ]
  },
  {
   "cell_type": "markdown",
   "id": "f411ad41",
   "metadata": {},
   "source": [
    "##### 15. How many players have a batting average below 10 in the `batting_average` series"
   ]
  },
  {
   "cell_type": "code",
   "execution_count": 21,
   "id": "ed38c688",
   "metadata": {},
   "outputs": [
    {
     "data": {
      "text/plain": [
       "Player\n",
       "A Bagai          True\n",
       "A Balbirnie      True\n",
       "A Codrington    False\n",
       "A Flintoff      False\n",
       "A Flower         True\n",
       "                ...  \n",
       "Younis Khan      True\n",
       "YS Chahal       False\n",
       "Yuvraj Singh     True\n",
       "Z Khan          False\n",
       "ZE Surkari      False\n",
       "Name: Avg, Length: 648, dtype: bool"
      ]
     },
     "execution_count": 21,
     "metadata": {},
     "output_type": "execute_result"
    }
   ],
   "source": [
    "batting_average>batting_average.mean()"
   ]
  },
  {
   "cell_type": "code",
   "execution_count": 22,
   "id": "d971bf3a",
   "metadata": {},
   "outputs": [
    {
     "data": {
      "text/plain": [
       "220"
      ]
     },
     "execution_count": 22,
     "metadata": {},
     "output_type": "execute_result"
    }
   ],
   "source": [
    "len(batting_average[batting_average<10])"
   ]
  },
  {
   "cell_type": "markdown",
   "id": "9ab1ae2f",
   "metadata": {},
   "source": [
    "##### 16. Name the player who hit maximum sixes"
   ]
  },
  {
   "cell_type": "code",
   "execution_count": 23,
   "id": "93e6b05c",
   "metadata": {},
   "outputs": [
    {
     "data": {
      "text/plain": [
       "Player\n",
       "CH Gayle    49\n",
       "Name: 6s, dtype: int64"
      ]
     },
     "execution_count": 23,
     "metadata": {},
     "output_type": "execute_result"
    }
   ],
   "source": [
    "number_of_sixes[number_of_sixes==number_of_sixes.max()]"
   ]
  },
  {
   "cell_type": "markdown",
   "id": "e62ffeec",
   "metadata": {},
   "source": [
    "##### 17. How many players have a strike rate between 80 and 90 (inclusive) in the `strike_rate` series"
   ]
  },
  {
   "cell_type": "code",
   "execution_count": 24,
   "id": "2e8126fb",
   "metadata": {},
   "outputs": [
    {
     "data": {
      "text/plain": [
       "92"
      ]
     },
     "execution_count": 24,
     "metadata": {},
     "output_type": "execute_result"
    }
   ],
   "source": [
    "len(strike_rate[strike_rate.between(80,90)])"
   ]
  },
  {
   "cell_type": "markdown",
   "id": "bdb221aa",
   "metadata": {},
   "source": [
    "##### 18. What is the total number of runs scored by all players in the `runs` series"
   ]
  },
  {
   "cell_type": "code",
   "execution_count": 25,
   "id": "50b6c5b6",
   "metadata": {},
   "outputs": [
    {
     "data": {
      "text/plain": [
       "102041"
      ]
     },
     "execution_count": 25,
     "metadata": {},
     "output_type": "execute_result"
    }
   ],
   "source": [
    "runs.sum()"
   ]
  },
  {
   "cell_type": "markdown",
   "id": "f2e2601e",
   "metadata": {},
   "source": [
    "##### 19. What is the range (difference between the maximum and minimum values) of the `number_of_fifties` series"
   ]
  },
  {
   "cell_type": "code",
   "execution_count": 26,
   "id": "34330e05",
   "metadata": {},
   "outputs": [
    {
     "data": {
      "text/plain": [
       "10"
      ]
     },
     "execution_count": 26,
     "metadata": {},
     "output_type": "execute_result"
    }
   ],
   "source": [
    "number_of_fifties.max() - number_of_fifties.min()"
   ]
  },
  {
   "cell_type": "markdown",
   "id": "5faf0bab",
   "metadata": {},
   "source": [
    "How many players have a strike rate below 60 in the `strike_rate` seriesHow many players have a strike rate below 60?"
   ]
  },
  {
   "cell_type": "code",
   "execution_count": 27,
   "id": "b3bc257f",
   "metadata": {},
   "outputs": [
    {
     "data": {
      "text/plain": [
       "221"
      ]
     },
     "execution_count": 27,
     "metadata": {},
     "output_type": "execute_result"
    }
   ],
   "source": [
    "strike_rate[strike_rate<60].size"
   ]
  },
  {
   "cell_type": "markdown",
   "id": "13eb5464",
   "metadata": {},
   "source": [
    "##### 21. Calculating the Mean Number of Boundaries (Fours + Sixes) Hit by a Player"
   ]
  },
  {
   "cell_type": "code",
   "execution_count": 28,
   "id": "58bc0187",
   "metadata": {},
   "outputs": [
    {
     "data": {
      "text/plain": [
       "17.566358024691358"
      ]
     },
     "execution_count": 28,
     "metadata": {},
     "output_type": "execute_result"
    }
   ],
   "source": [
    "number_of_fours.mean()+number_of_sixes.mean()"
   ]
  },
  {
   "cell_type": "markdown",
   "id": "aa8b8dea",
   "metadata": {},
   "source": [
    "##### 22. Players with highest score in `highest_score` series"
   ]
  },
  {
   "cell_type": "code",
   "execution_count": 29,
   "id": "80f693a1",
   "metadata": {},
   "outputs": [],
   "source": [
    "# try your code here\n",
    "top_five_scores = highest_score.sort_values(ascending=False).head(5)"
   ]
  },
  {
   "cell_type": "markdown",
   "id": "761752b0",
   "metadata": {},
   "source": [
    "### The End!"
   ]
  }
 ],
 "metadata": {
  "kernelspec": {
   "display_name": "Python 3",
   "language": "python",
   "name": "python3"
  },
  "language_info": {
   "codemirror_mode": {
    "name": "ipython",
    "version": 3
   },
   "file_extension": ".py",
   "mimetype": "text/x-python",
   "name": "python",
   "nbconvert_exporter": "python",
   "pygments_lexer": "ipython3",
   "version": "3.8.8"
  }
 },
 "nbformat": 4,
 "nbformat_minor": 5
}
