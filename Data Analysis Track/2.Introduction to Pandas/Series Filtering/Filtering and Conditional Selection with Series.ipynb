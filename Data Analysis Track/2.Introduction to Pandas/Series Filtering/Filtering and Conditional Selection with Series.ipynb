{
 "cells": [
  {
   "cell_type": "code",
   "execution_count": 1,
   "id": "f5b01e02",
   "metadata": {},
   "outputs": [],
   "source": [
    "import pandas as pd"
   ]
  },
  {
   "cell_type": "code",
   "execution_count": 2,
   "id": "ea57a40e",
   "metadata": {},
   "outputs": [],
   "source": [
    "companies = [\n",
    "    'Apple', 'Samsung', 'Alphabet', 'Foxconn',\n",
    "    'Microsoft', 'Huawei', 'Dell Technologies',\n",
    "    'Meta', 'Sony', 'Hitachi', 'Intel',\n",
    "    'IBM', 'Tencent', 'Panasonic'\n",
    "]"
   ]
  },
  {
   "cell_type": "code",
   "execution_count": 3,
   "id": "bd095ca2",
   "metadata": {},
   "outputs": [],
   "source": [
    "s = pd.Series([\n",
    "    274515, 200734, 182527, 181945, 143015,\n",
    "    129184, 92224, 85965, 84893, 82345,\n",
    "    77867, 73620, 69864, 63191],\n",
    "    index=companies,\n",
    "    name=\"Top Technology Companies by Revenue\")"
   ]
  },
  {
   "cell_type": "code",
   "execution_count": 4,
   "id": "74c2b322",
   "metadata": {},
   "outputs": [
    {
     "data": {
      "text/plain": [
       "Apple                274515\n",
       "Samsung              200734\n",
       "Alphabet             182527\n",
       "Foxconn              181945\n",
       "Microsoft            143015\n",
       "Huawei               129184\n",
       "Dell Technologies     92224\n",
       "Meta                  85965\n",
       "Sony                  84893\n",
       "Hitachi               82345\n",
       "Intel                 77867\n",
       "IBM                   73620\n",
       "Tencent               69864\n",
       "Panasonic             63191\n",
       "Name: Top Technology Companies by Revenue, dtype: int64"
      ]
     },
     "execution_count": 4,
     "metadata": {},
     "output_type": "execute_result"
    }
   ],
   "source": [
    "s"
   ]
  },
  {
   "cell_type": "markdown",
   "id": "fe7597bd",
   "metadata": {},
   "source": [
    "### Boolean Arrays"
   ]
  },
  {
   "cell_type": "code",
   "execution_count": 5,
   "id": "8c3071bc",
   "metadata": {},
   "outputs": [
    {
     "data": {
      "text/plain": [
       "Apple                274515\n",
       "Alphabet             182527\n",
       "Microsoft            143015\n",
       "Dell Technologies     92224\n",
       "Meta                  85965\n",
       "Intel                 77867\n",
       "IBM                   73620\n",
       "Name: Top Technology Companies by Revenue, dtype: int64"
      ]
     },
     "execution_count": 5,
     "metadata": {},
     "output_type": "execute_result"
    }
   ],
   "source": [
    "s.loc[[\n",
    "    True,      # Apple\n",
    "    False,     # Samsung\n",
    "    True,      # Alphabet\n",
    "    False,     # Foxconn\n",
    "    True,      # Microsoft\n",
    "    False,     # Huawei\n",
    "    True,      # Dell\n",
    "    True,      # Meta\n",
    "    False,     # Sony\n",
    "    False,     # Hitachi\n",
    "    True,      # Intel\n",
    "    True,      # IBM\n",
    "    False,     # Tencent\n",
    "    False,     # Panasonic\n",
    "]]"
   ]
  },
  {
   "cell_type": "markdown",
   "id": "f59086a5",
   "metadata": {},
   "source": [
    "#### Activities\n",
    "\n",
    "##### 1. Select only the Japanese companies"
   ]
  },
  {
   "cell_type": "code",
   "execution_count": 6,
   "id": "4554584e",
   "metadata": {},
   "outputs": [],
   "source": [
    "#japanese_boolean_array = [False, False, True, False, etc...]\n",
    "japanese_boolean_array = [\n",
    "    False,      # Apple\n",
    "    False,     # Samsung\n",
    "    False,      # Alphabet\n",
    "    False,     # Foxconn\n",
    "    False,      # Microsoft\n",
    "    False,     # Huawei\n",
    "    False,      # Dell\n",
    "    False,      # Meta\n",
    "    True,     # Sony\n",
    "    True,     # Hitachi\n",
    "    False,      # Intel\n",
    "    False,      # IBM\n",
    "    False,     # Tencent\n",
    "    True,     # Panasonic\n",
    "]"
   ]
  },
  {
   "cell_type": "code",
   "execution_count": 7,
   "id": "8ff6bc7d",
   "metadata": {},
   "outputs": [
    {
     "data": {
      "text/plain": [
       "Sony         84893\n",
       "Hitachi      82345\n",
       "Panasonic    63191\n",
       "Name: Top Technology Companies by Revenue, dtype: int64"
      ]
     },
     "execution_count": 7,
     "metadata": {},
     "output_type": "execute_result"
    }
   ],
   "source": [
    "japanese_companies = s[japanese_boolean_array]\n",
    "japanese_companies"
   ]
  },
  {
   "cell_type": "markdown",
   "id": "cd4b3ab6",
   "metadata": {},
   "source": [
    "### Conditional Selection"
   ]
  },
  {
   "cell_type": "code",
   "execution_count": 8,
   "id": "23f1eb20",
   "metadata": {},
   "outputs": [
    {
     "data": {
      "text/plain": [
       "Apple                274515\n",
       "Samsung              200734\n",
       "Alphabet             182527\n",
       "Foxconn              181945\n",
       "Microsoft            143015\n",
       "Huawei               129184\n",
       "Dell Technologies     92224\n",
       "Meta                  85965\n",
       "Sony                  84893\n",
       "Hitachi               82345\n",
       "Intel                 77867\n",
       "IBM                   73620\n",
       "Tencent               69864\n",
       "Panasonic             63191\n",
       "Name: Top Technology Companies by Revenue, dtype: int64"
      ]
     },
     "execution_count": 8,
     "metadata": {},
     "output_type": "execute_result"
    }
   ],
   "source": [
    "s"
   ]
  },
  {
   "cell_type": "code",
   "execution_count": 9,
   "id": "ae2747ed",
   "metadata": {},
   "outputs": [
    {
     "data": {
      "text/plain": [
       "Apple                 True\n",
       "Samsung               True\n",
       "Alphabet              True\n",
       "Foxconn               True\n",
       "Microsoft             True\n",
       "Huawei                True\n",
       "Dell Technologies    False\n",
       "Meta                 False\n",
       "Sony                 False\n",
       "Hitachi              False\n",
       "Intel                False\n",
       "IBM                  False\n",
       "Tencent              False\n",
       "Panasonic            False\n",
       "Name: Top Technology Companies by Revenue, dtype: bool"
      ]
     },
     "execution_count": 9,
     "metadata": {},
     "output_type": "execute_result"
    }
   ],
   "source": [
    "s > 100_000"
   ]
  },
  {
   "cell_type": "markdown",
   "id": "1d596a87",
   "metadata": {},
   "source": [
    "##### What are the companies which revenues exceed the $100 billion dollars?"
   ]
  },
  {
   "cell_type": "code",
   "execution_count": 10,
   "id": "d319a2b7",
   "metadata": {},
   "outputs": [
    {
     "data": {
      "text/plain": [
       "Apple        274515\n",
       "Samsung      200734\n",
       "Alphabet     182527\n",
       "Foxconn      181945\n",
       "Microsoft    143015\n",
       "Huawei       129184\n",
       "Name: Top Technology Companies by Revenue, dtype: int64"
      ]
     },
     "execution_count": 10,
     "metadata": {},
     "output_type": "execute_result"
    }
   ],
   "source": [
    "s.loc[s > 100_000]"
   ]
  },
  {
   "cell_type": "markdown",
   "id": "8522110e",
   "metadata": {},
   "source": [
    "#### Activities"
   ]
  },
  {
   "cell_type": "markdown",
   "id": "9913edb6",
   "metadata": {},
   "source": [
    "##### 1. Select companies with less than $90,000M in Revenue"
   ]
  },
  {
   "cell_type": "code",
   "execution_count": 11,
   "id": "dd32bfca",
   "metadata": {},
   "outputs": [],
   "source": [
    "less_90_rev = s.loc[s < 90_000]"
   ]
  },
  {
   "cell_type": "markdown",
   "id": "72562894",
   "metadata": {},
   "source": [
    "##### 2. Select companies with revenue of more than $150,000M"
   ]
  },
  {
   "cell_type": "code",
   "execution_count": 12,
   "id": "e648473f",
   "metadata": {},
   "outputs": [],
   "source": [
    "more_150_rev = s[s>150_000]"
   ]
  },
  {
   "cell_type": "markdown",
   "id": "817c5e6b",
   "metadata": {},
   "source": [
    "### Combining Series methods with comparison operators"
   ]
  },
  {
   "cell_type": "markdown",
   "id": "966f7c0b",
   "metadata": {},
   "source": [
    "##### Company with the most revenue"
   ]
  },
  {
   "cell_type": "code",
   "execution_count": 13,
   "id": "0a355767",
   "metadata": {},
   "outputs": [
    {
     "data": {
      "text/plain": [
       "274515"
      ]
     },
     "execution_count": 13,
     "metadata": {},
     "output_type": "execute_result"
    }
   ],
   "source": [
    "s.max()"
   ]
  },
  {
   "cell_type": "code",
   "execution_count": 14,
   "id": "571ebd40",
   "metadata": {},
   "outputs": [
    {
     "data": {
      "text/plain": [
       "Apple    274515\n",
       "Name: Top Technology Companies by Revenue, dtype: int64"
      ]
     },
     "execution_count": 14,
     "metadata": {},
     "output_type": "execute_result"
    }
   ],
   "source": [
    "s.loc[s == s.max()]"
   ]
  },
  {
   "cell_type": "markdown",
   "id": "924b43aa",
   "metadata": {},
   "source": [
    "##### Company with the revenue above average:"
   ]
  },
  {
   "cell_type": "code",
   "execution_count": 15,
   "id": "7b435ea0",
   "metadata": {},
   "outputs": [
    {
     "data": {
      "text/plain": [
       "124420.64285714286"
      ]
     },
     "execution_count": 15,
     "metadata": {},
     "output_type": "execute_result"
    }
   ],
   "source": [
    "s.mean()"
   ]
  },
  {
   "cell_type": "code",
   "execution_count": 16,
   "id": "87cc8daa",
   "metadata": {},
   "outputs": [
    {
     "data": {
      "text/plain": [
       "Apple        274515\n",
       "Samsung      200734\n",
       "Alphabet     182527\n",
       "Foxconn      181945\n",
       "Microsoft    143015\n",
       "Huawei       129184\n",
       "Name: Top Technology Companies by Revenue, dtype: int64"
      ]
     },
     "execution_count": 16,
     "metadata": {},
     "output_type": "execute_result"
    }
   ],
   "source": [
    "s.loc[s >= s.mean()]"
   ]
  },
  {
   "cell_type": "markdown",
   "id": "5eb6d3a6",
   "metadata": {},
   "source": [
    "##### Companies who's revenue is greater than the average + 1 standard deviation:"
   ]
  },
  {
   "cell_type": "code",
   "execution_count": 17,
   "id": "980098b0",
   "metadata": {},
   "outputs": [
    {
     "data": {
      "text/plain": [
       "Apple      274515\n",
       "Samsung    200734\n",
       "Name: Top Technology Companies by Revenue, dtype: int64"
      ]
     },
     "execution_count": 17,
     "metadata": {},
     "output_type": "execute_result"
    }
   ],
   "source": [
    "s.loc[s > (s.mean() + s.std())]"
   ]
  },
  {
   "cell_type": "markdown",
   "id": "aebacf81",
   "metadata": {},
   "source": [
    "### Boolean Operators"
   ]
  },
  {
   "cell_type": "code",
   "execution_count": 18,
   "id": "61029b27",
   "metadata": {},
   "outputs": [
    {
     "data": {
      "text/plain": [
       "Apple                274515\n",
       "Samsung              200734\n",
       "Alphabet             182527\n",
       "Foxconn              181945\n",
       "Microsoft            143015\n",
       "Huawei               129184\n",
       "Dell Technologies     92224\n",
       "Meta                  85965\n",
       "Sony                  84893\n",
       "Hitachi               82345\n",
       "Intel                 77867\n",
       "IBM                   73620\n",
       "Tencent               69864\n",
       "Panasonic             63191\n",
       "Name: Top Technology Companies by Revenue, dtype: int64"
      ]
     },
     "execution_count": 18,
     "metadata": {},
     "output_type": "execute_result"
    }
   ],
   "source": [
    "s"
   ]
  },
  {
   "cell_type": "markdown",
   "id": "d8964244",
   "metadata": {},
   "source": [
    "#### Companies with revenue greater than `$150,000M` or less than `$80,000M`"
   ]
  },
  {
   "cell_type": "markdown",
   "id": "69afa2da",
   "metadata": {},
   "source": [
    "##### Revenue greater than `$150,000M`"
   ]
  },
  {
   "cell_type": "code",
   "execution_count": 19,
   "id": "662e87cb",
   "metadata": {},
   "outputs": [
    {
     "data": {
      "text/plain": [
       "Apple                 True\n",
       "Samsung               True\n",
       "Alphabet              True\n",
       "Foxconn               True\n",
       "Microsoft            False\n",
       "Huawei               False\n",
       "Dell Technologies    False\n",
       "Meta                 False\n",
       "Sony                 False\n",
       "Hitachi              False\n",
       "Intel                False\n",
       "IBM                  False\n",
       "Tencent              False\n",
       "Panasonic            False\n",
       "Name: Top Technology Companies by Revenue, dtype: bool"
      ]
     },
     "execution_count": 19,
     "metadata": {},
     "output_type": "execute_result"
    }
   ],
   "source": [
    "s > 150_000"
   ]
  },
  {
   "cell_type": "markdown",
   "id": "6d3cb837",
   "metadata": {},
   "source": [
    "##### Revenue less than `$80,000M`"
   ]
  },
  {
   "cell_type": "code",
   "execution_count": 20,
   "id": "51ce94e5",
   "metadata": {},
   "outputs": [
    {
     "data": {
      "text/plain": [
       "Apple                False\n",
       "Samsung              False\n",
       "Alphabet             False\n",
       "Foxconn              False\n",
       "Microsoft            False\n",
       "Huawei               False\n",
       "Dell Technologies    False\n",
       "Meta                 False\n",
       "Sony                 False\n",
       "Hitachi              False\n",
       "Intel                 True\n",
       "IBM                   True\n",
       "Tencent               True\n",
       "Panasonic             True\n",
       "Name: Top Technology Companies by Revenue, dtype: bool"
      ]
     },
     "execution_count": 20,
     "metadata": {},
     "output_type": "execute_result"
    }
   ],
   "source": [
    "s < 80_000"
   ]
  },
  {
   "cell_type": "markdown",
   "id": "fc4114c5",
   "metadata": {},
   "source": [
    "##### Putting it altogether:"
   ]
  },
  {
   "cell_type": "code",
   "execution_count": 21,
   "id": "17e0c32f",
   "metadata": {},
   "outputs": [
    {
     "data": {
      "text/plain": [
       "Apple                 True\n",
       "Samsung               True\n",
       "Alphabet              True\n",
       "Foxconn               True\n",
       "Microsoft            False\n",
       "Huawei               False\n",
       "Dell Technologies    False\n",
       "Meta                 False\n",
       "Sony                 False\n",
       "Hitachi              False\n",
       "Intel                 True\n",
       "IBM                   True\n",
       "Tencent               True\n",
       "Panasonic             True\n",
       "Name: Top Technology Companies by Revenue, dtype: bool"
      ]
     },
     "execution_count": 21,
     "metadata": {},
     "output_type": "execute_result"
    }
   ],
   "source": [
    "(s > 150_000) | (s < 80_000)"
   ]
  },
  {
   "cell_type": "markdown",
   "id": "8c3b7a88",
   "metadata": {},
   "source": [
    "#### Selecting the companies matching the expression:"
   ]
  },
  {
   "cell_type": "code",
   "execution_count": 22,
   "id": "065b6d9f",
   "metadata": {},
   "outputs": [
    {
     "data": {
      "text/plain": [
       "Apple        274515\n",
       "Samsung      200734\n",
       "Alphabet     182527\n",
       "Foxconn      181945\n",
       "Intel         77867\n",
       "IBM           73620\n",
       "Tencent       69864\n",
       "Panasonic     63191\n",
       "Name: Top Technology Companies by Revenue, dtype: int64"
      ]
     },
     "execution_count": 22,
     "metadata": {},
     "output_type": "execute_result"
    }
   ],
   "source": [
    "s.loc[(s > 150_000) | (s < 80_000)]"
   ]
  },
  {
   "cell_type": "markdown",
   "id": "b05093e7",
   "metadata": {},
   "source": [
    "#### The NOT (`~`) operator"
   ]
  },
  {
   "cell_type": "code",
   "execution_count": 23,
   "id": "38a12779",
   "metadata": {},
   "outputs": [
    {
     "data": {
      "text/plain": [
       "Apple       274515\n",
       "Samsung     200734\n",
       "Alphabet    182527\n",
       "Foxconn     181945\n",
       "Name: Top Technology Companies by Revenue, dtype: int64"
      ]
     },
     "execution_count": 23,
     "metadata": {},
     "output_type": "execute_result"
    }
   ],
   "source": [
    "s.loc[s >= 150_000]"
   ]
  },
  {
   "cell_type": "code",
   "execution_count": 24,
   "id": "d107fc19",
   "metadata": {},
   "outputs": [
    {
     "data": {
      "text/plain": [
       "Apple       274515\n",
       "Samsung     200734\n",
       "Alphabet    182527\n",
       "Foxconn     181945\n",
       "Name: Top Technology Companies by Revenue, dtype: int64"
      ]
     },
     "execution_count": 24,
     "metadata": {},
     "output_type": "execute_result"
    }
   ],
   "source": [
    "s.loc[~(s < 150_000)]"
   ]
  },
  {
   "cell_type": "markdown",
   "id": "d4c94748",
   "metadata": {},
   "source": [
    "#### Activities"
   ]
  },
  {
   "cell_type": "markdown",
   "id": "6f00d48b",
   "metadata": {},
   "source": [
    "##### 1. Select companies the companies with the MOST and LESS revenue"
   ]
  },
  {
   "cell_type": "code",
   "execution_count": 25,
   "id": "441b6f32",
   "metadata": {},
   "outputs": [
    {
     "data": {
      "text/plain": [
       "Apple        274515\n",
       "Panasonic     63191\n",
       "Name: Top Technology Companies by Revenue, dtype: int64"
      ]
     },
     "execution_count": 25,
     "metadata": {},
     "output_type": "execute_result"
    }
   ],
   "source": [
    "most_and_less_rev = s.loc[(s==s.min())|(s==s.max())]\n",
    "most_and_less_rev"
   ]
  },
  {
   "cell_type": "markdown",
   "id": "f087ee13",
   "metadata": {},
   "source": [
    "##### 2. Select companies with revenue between `$80,000M` and `$150,000M`"
   ]
  },
  {
   "cell_type": "code",
   "execution_count": 26,
   "id": "a7ac0d9e",
   "metadata": {},
   "outputs": [],
   "source": [
    "between_80_and_150 = s.loc[(s>80_000) & (s<150_000)]"
   ]
  }
 ],
 "metadata": {
  "kernelspec": {
   "display_name": "Python 3",
   "language": "python",
   "name": "python3"
  },
  "language_info": {
   "codemirror_mode": {
    "name": "ipython",
    "version": 3
   },
   "file_extension": ".py",
   "mimetype": "text/x-python",
   "name": "python",
   "nbconvert_exporter": "python",
   "pygments_lexer": "ipython3",
   "version": "3.8.8"
  }
 },
 "nbformat": 4,
 "nbformat_minor": 5
}
