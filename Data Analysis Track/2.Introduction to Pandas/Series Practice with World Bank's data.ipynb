{
 "cells": [
  {
   "cell_type": "markdown",
   "id": "88dac45c",
   "metadata": {},
   "source": [
    "# Take a look at raw data"
   ]
  },
  {
   "cell_type": "code",
   "execution_count": 1,
   "id": "45a63cf7",
   "metadata": {},
   "outputs": [
    {
     "name": "stdout",
     "output_type": "stream",
     "text": [
      "Country Name,Region Code,Country Code,\"GDP, PPP (current international $)\",\" Population, total \",Population CGR 1960-2015,Internet users (per 100 people),Popltn Largest City % of Urban Pop,\"2014 Life expectancy at birth, total (years)\",\"Literacy rate, adult female (% of females ages 15 and above)\",Exports of goods and services (% of GDP)\r\n",
      "Aruba,MA,ABW,,\" 103,889 \",1.19%,88.7,,75.5,97.5139617919922,\r\n",
      "Andorra,EU,AND,,\" 70,473 \",3.06%,96.9,,,,\r\n",
      "Afghanistan,ME,AFG,\" 62,912,669,167 \",\" 32,526,562 \",2.36%,8.3,53.4%,60.4,23.8738498687744,0.073278411818003\r\n",
      "Angola,AF,AGO,\" 184,437,662,368 \",\" 25,021,974 \",2.87%,12.4,50.0%,52.3,60.744800567627,0.373074223085945\r\n",
      "Albania,EU,ALB,\" 32,663,238,936 \",\" 2,889,167 \",1.07%,63.3,27.3%,77.8,96.7696914672852,0.271049844901716\r\n",
      "Arab World,,ARB,\" 6,435,291,560,152 \",\" 392,022,276 \",2.66%,39.5,29.8%,70.6,,\r\n",
      "United Arab Emirates,ME,ARE,\" 643,166,288,737 \",\" 9,156,963 \",8.71%,91.2,30.8%,77.4,95.0763397216797,\r\n",
      "Argentina,SA,ARG,\" 882,358,844,160 \",\" 43,416,755 \",1.36%,69.4,38.1%,76.2,98.1347808837891,0.110578189784346\r\n",
      "Armenia,RU,ARM,\" 25,329,201,238 \",\" 3,017,712 \",0.88%,58.2,55.2%,74.7,99.73046875,0.297333847463774\r\n"
     ]
    }
   ],
   "source": [
    "!head world_data.csv"
   ]
  },
  {
   "cell_type": "code",
   "execution_count": 2,
   "id": "8cf84575",
   "metadata": {},
   "outputs": [
    {
     "data": {
      "text/html": [
       "<div>\n",
       "<style scoped>\n",
       "    .dataframe tbody tr th:only-of-type {\n",
       "        vertical-align: middle;\n",
       "    }\n",
       "\n",
       "    .dataframe tbody tr th {\n",
       "        vertical-align: top;\n",
       "    }\n",
       "\n",
       "    .dataframe thead th {\n",
       "        text-align: right;\n",
       "    }\n",
       "</style>\n",
       "<table border=\"1\" class=\"dataframe\">\n",
       "  <thead>\n",
       "    <tr style=\"text-align: right;\">\n",
       "      <th></th>\n",
       "      <th>Country Name</th>\n",
       "      <th>Region Code</th>\n",
       "      <th>Country Code</th>\n",
       "      <th>GDP, PPP (current international $)</th>\n",
       "      <th>Population, total</th>\n",
       "      <th>Population CGR 1960-2015</th>\n",
       "      <th>Internet users (per 100 people)</th>\n",
       "      <th>Popltn Largest City % of Urban Pop</th>\n",
       "      <th>2014 Life expectancy at birth, total (years)</th>\n",
       "      <th>Literacy rate, adult female (% of females ages 15 and above)</th>\n",
       "      <th>Exports of goods and services (% of GDP)</th>\n",
       "    </tr>\n",
       "  </thead>\n",
       "  <tbody>\n",
       "    <tr>\n",
       "      <th>0</th>\n",
       "      <td>Aruba</td>\n",
       "      <td>MA</td>\n",
       "      <td>ABW</td>\n",
       "      <td>NaN</td>\n",
       "      <td>103,889</td>\n",
       "      <td>1.19%</td>\n",
       "      <td>88.7</td>\n",
       "      <td>NaN</td>\n",
       "      <td>75.5</td>\n",
       "      <td>97.513962</td>\n",
       "      <td>NaN</td>\n",
       "    </tr>\n",
       "    <tr>\n",
       "      <th>1</th>\n",
       "      <td>Andorra</td>\n",
       "      <td>EU</td>\n",
       "      <td>AND</td>\n",
       "      <td>NaN</td>\n",
       "      <td>70,473</td>\n",
       "      <td>3.06%</td>\n",
       "      <td>96.9</td>\n",
       "      <td>NaN</td>\n",
       "      <td>NaN</td>\n",
       "      <td>NaN</td>\n",
       "      <td>NaN</td>\n",
       "    </tr>\n",
       "    <tr>\n",
       "      <th>2</th>\n",
       "      <td>Afghanistan</td>\n",
       "      <td>ME</td>\n",
       "      <td>AFG</td>\n",
       "      <td>62,912,669,167</td>\n",
       "      <td>32,526,562</td>\n",
       "      <td>2.36%</td>\n",
       "      <td>8.3</td>\n",
       "      <td>53.4%</td>\n",
       "      <td>60.4</td>\n",
       "      <td>23.873850</td>\n",
       "      <td>0.073278</td>\n",
       "    </tr>\n",
       "    <tr>\n",
       "      <th>3</th>\n",
       "      <td>Angola</td>\n",
       "      <td>AF</td>\n",
       "      <td>AGO</td>\n",
       "      <td>184,437,662,368</td>\n",
       "      <td>25,021,974</td>\n",
       "      <td>2.87%</td>\n",
       "      <td>12.4</td>\n",
       "      <td>50.0%</td>\n",
       "      <td>52.3</td>\n",
       "      <td>60.744801</td>\n",
       "      <td>0.373074</td>\n",
       "    </tr>\n",
       "    <tr>\n",
       "      <th>4</th>\n",
       "      <td>Albania</td>\n",
       "      <td>EU</td>\n",
       "      <td>ALB</td>\n",
       "      <td>32,663,238,936</td>\n",
       "      <td>2,889,167</td>\n",
       "      <td>1.07%</td>\n",
       "      <td>63.3</td>\n",
       "      <td>27.3%</td>\n",
       "      <td>77.8</td>\n",
       "      <td>96.769691</td>\n",
       "      <td>0.271050</td>\n",
       "    </tr>\n",
       "    <tr>\n",
       "      <th>...</th>\n",
       "      <td>...</td>\n",
       "      <td>...</td>\n",
       "      <td>...</td>\n",
       "      <td>...</td>\n",
       "      <td>...</td>\n",
       "      <td>...</td>\n",
       "      <td>...</td>\n",
       "      <td>...</td>\n",
       "      <td>...</td>\n",
       "      <td>...</td>\n",
       "      <td>...</td>\n",
       "    </tr>\n",
       "    <tr>\n",
       "      <th>259</th>\n",
       "      <td>Yemen, Rep.</td>\n",
       "      <td>ME</td>\n",
       "      <td>YEM</td>\n",
       "      <td>NaN</td>\n",
       "      <td>26,832,215</td>\n",
       "      <td>3.04%</td>\n",
       "      <td>25.1</td>\n",
       "      <td>31.9%</td>\n",
       "      <td>63.8</td>\n",
       "      <td>54.850632</td>\n",
       "      <td>NaN</td>\n",
       "    </tr>\n",
       "    <tr>\n",
       "      <th>260</th>\n",
       "      <td>South Africa</td>\n",
       "      <td>AF</td>\n",
       "      <td>ZAF</td>\n",
       "      <td>723,515,991,686</td>\n",
       "      <td>54,956,920</td>\n",
       "      <td>2.11%</td>\n",
       "      <td>51.9</td>\n",
       "      <td>26.4%</td>\n",
       "      <td>57.2</td>\n",
       "      <td>93.428932</td>\n",
       "      <td>0.308972</td>\n",
       "    </tr>\n",
       "    <tr>\n",
       "      <th>261</th>\n",
       "      <td>Congo, Dem. Rep.</td>\n",
       "      <td>AF</td>\n",
       "      <td>COD</td>\n",
       "      <td>60,482,256,092</td>\n",
       "      <td>77,266,814</td>\n",
       "      <td>2.99%</td>\n",
       "      <td>3.8</td>\n",
       "      <td>35.3%</td>\n",
       "      <td>58.7</td>\n",
       "      <td>65.897346</td>\n",
       "      <td>0.294904</td>\n",
       "    </tr>\n",
       "    <tr>\n",
       "      <th>262</th>\n",
       "      <td>Zambia</td>\n",
       "      <td>AF</td>\n",
       "      <td>ZMB</td>\n",
       "      <td>62,458,409,612</td>\n",
       "      <td>16,211,767</td>\n",
       "      <td>3.08%</td>\n",
       "      <td>21.0</td>\n",
       "      <td>32.9%</td>\n",
       "      <td>60.0</td>\n",
       "      <td>80.566971</td>\n",
       "      <td>NaN</td>\n",
       "    </tr>\n",
       "    <tr>\n",
       "      <th>263</th>\n",
       "      <td>Zimbabwe</td>\n",
       "      <td>AF</td>\n",
       "      <td>ZWE</td>\n",
       "      <td>27,984,877,195</td>\n",
       "      <td>15,602,751</td>\n",
       "      <td>2.62%</td>\n",
       "      <td>16.4</td>\n",
       "      <td>29.7%</td>\n",
       "      <td>57.5</td>\n",
       "      <td>85.285133</td>\n",
       "      <td>0.262450</td>\n",
       "    </tr>\n",
       "  </tbody>\n",
       "</table>\n",
       "<p>264 rows × 11 columns</p>\n",
       "</div>"
      ],
      "text/plain": [
       "         Country Name Region Code Country Code   \n",
       "0               Aruba          MA          ABW  \\\n",
       "1             Andorra          EU          AND   \n",
       "2         Afghanistan          ME          AFG   \n",
       "3              Angola          AF          AGO   \n",
       "4             Albania          EU          ALB   \n",
       "..                ...         ...          ...   \n",
       "259       Yemen, Rep.          ME          YEM   \n",
       "260      South Africa          AF          ZAF   \n",
       "261  Congo, Dem. Rep.          AF          COD   \n",
       "262            Zambia          AF          ZMB   \n",
       "263          Zimbabwe          AF          ZWE   \n",
       "\n",
       "    GDP, PPP (current international $)  Population, total    \n",
       "0                                  NaN            103,889   \\\n",
       "1                                  NaN             70,473    \n",
       "2                      62,912,669,167          32,526,562    \n",
       "3                     184,437,662,368          25,021,974    \n",
       "4                      32,663,238,936           2,889,167    \n",
       "..                                 ...                 ...   \n",
       "259                                NaN         26,832,215    \n",
       "260                   723,515,991,686          54,956,920    \n",
       "261                    60,482,256,092          77,266,814    \n",
       "262                    62,458,409,612          16,211,767    \n",
       "263                    27,984,877,195          15,602,751    \n",
       "\n",
       "    Population CGR 1960-2015  Internet users (per 100 people)   \n",
       "0                      1.19%                             88.7  \\\n",
       "1                      3.06%                             96.9   \n",
       "2                      2.36%                              8.3   \n",
       "3                      2.87%                             12.4   \n",
       "4                      1.07%                             63.3   \n",
       "..                       ...                              ...   \n",
       "259                    3.04%                             25.1   \n",
       "260                    2.11%                             51.9   \n",
       "261                    2.99%                              3.8   \n",
       "262                    3.08%                             21.0   \n",
       "263                    2.62%                             16.4   \n",
       "\n",
       "    Popltn Largest City % of Urban Pop   \n",
       "0                                  NaN  \\\n",
       "1                                  NaN   \n",
       "2                                53.4%   \n",
       "3                                50.0%   \n",
       "4                                27.3%   \n",
       "..                                 ...   \n",
       "259                              31.9%   \n",
       "260                              26.4%   \n",
       "261                              35.3%   \n",
       "262                              32.9%   \n",
       "263                              29.7%   \n",
       "\n",
       "     2014 Life expectancy at birth, total (years)   \n",
       "0                                            75.5  \\\n",
       "1                                             NaN   \n",
       "2                                            60.4   \n",
       "3                                            52.3   \n",
       "4                                            77.8   \n",
       "..                                            ...   \n",
       "259                                          63.8   \n",
       "260                                          57.2   \n",
       "261                                          58.7   \n",
       "262                                          60.0   \n",
       "263                                          57.5   \n",
       "\n",
       "     Literacy rate, adult female (% of females ages 15 and above)   \n",
       "0                                            97.513962             \\\n",
       "1                                                  NaN              \n",
       "2                                            23.873850              \n",
       "3                                            60.744801              \n",
       "4                                            96.769691              \n",
       "..                                                 ...              \n",
       "259                                          54.850632              \n",
       "260                                          93.428932              \n",
       "261                                          65.897346              \n",
       "262                                          80.566971              \n",
       "263                                          85.285133              \n",
       "\n",
       "     Exports of goods and services (% of GDP)  \n",
       "0                                         NaN  \n",
       "1                                         NaN  \n",
       "2                                    0.073278  \n",
       "3                                    0.373074  \n",
       "4                                    0.271050  \n",
       "..                                        ...  \n",
       "259                                       NaN  \n",
       "260                                  0.308972  \n",
       "261                                  0.294904  \n",
       "262                                       NaN  \n",
       "263                                  0.262450  \n",
       "\n",
       "[264 rows x 11 columns]"
      ]
     },
     "execution_count": 2,
     "metadata": {},
     "output_type": "execute_result"
    }
   ],
   "source": [
    "import pandas as pd\n",
    "df = pd.read_csv('world_data.csv')\n",
    "df"
   ]
  },
  {
   "cell_type": "code",
   "execution_count": 3,
   "id": "c1c1a8f9",
   "metadata": {},
   "outputs": [
    {
     "data": {
      "text/plain": [
       "Index(['Country Name', 'Region Code', 'Country Code',\n",
       "       'GDP, PPP (current international $)', ' Population, total ',\n",
       "       'Population CGR 1960-2015', 'Internet users (per 100 people)',\n",
       "       'Popltn Largest City % of Urban Pop',\n",
       "       '2014 Life expectancy at birth, total (years)',\n",
       "       'Literacy rate, adult female (% of females ages 15 and above)',\n",
       "       'Exports of goods and services (% of GDP)'],\n",
       "      dtype='object')"
      ]
     },
     "execution_count": 3,
     "metadata": {},
     "output_type": "execute_result"
    }
   ],
   "source": [
    "df.columns"
   ]
  },
  {
   "cell_type": "markdown",
   "id": "44f045f8",
   "metadata": {},
   "source": [
    "Creating a pandas series from a dataframe `df` "
   ]
  },
  {
   "cell_type": "code",
   "execution_count": 4,
   "id": "e2c1708c",
   "metadata": {},
   "outputs": [],
   "source": [
    "# Converting columns to pandas series\n",
    "country_name = pd.Series(df['Country Name'])\n",
    "country_code = pd.Series(df['Country Code'])\n",
    "population = pd.Series(df[' Population, total '])\n",
    "gdp = pd.Series(df['GDP, PPP (current international $)'])\n",
    "internet_users = pd.Series(df['Internet users (per 100 people)'])\n",
    "life_expectancy = pd.Series(df['2014 Life expectancy at birth, total (years)'])\n",
    "literacy_rate = pd.Series(df['Literacy rate, adult female (% of females ages 15 and above)'])\n",
    "exports = pd.Series(df['Exports of goods and services (% of GDP)'])"
   ]
  },
  {
   "cell_type": "code",
   "execution_count": 5,
   "id": "74a0ab85",
   "metadata": {},
   "outputs": [
    {
     "data": {
      "text/plain": [
       "0          Aruba\n",
       "1        Andorra\n",
       "2    Afghanistan\n",
       "3         Angola\n",
       "4        Albania\n",
       "Name: Country Name, dtype: object"
      ]
     },
     "execution_count": 5,
     "metadata": {},
     "output_type": "execute_result"
    }
   ],
   "source": [
    "country_name.head()"
   ]
  },
  {
   "cell_type": "code",
   "execution_count": 6,
   "id": "5c2a939d",
   "metadata": {},
   "outputs": [
    {
     "data": {
      "text/plain": [
       "0    ABW\n",
       "1    AND\n",
       "2    AFG\n",
       "3    AGO\n",
       "4    ALB\n",
       "Name: Country Code, dtype: object"
      ]
     },
     "execution_count": 6,
     "metadata": {},
     "output_type": "execute_result"
    }
   ],
   "source": [
    "country_code.head()"
   ]
  },
  {
   "cell_type": "code",
   "execution_count": 7,
   "id": "9761c94e",
   "metadata": {},
   "outputs": [
    {
     "data": {
      "text/plain": [
       "0        103,889 \n",
       "1         70,473 \n",
       "2     32,526,562 \n",
       "3     25,021,974 \n",
       "4      2,889,167 \n",
       "Name:  Population, total , dtype: object"
      ]
     },
     "execution_count": 7,
     "metadata": {},
     "output_type": "execute_result"
    }
   ],
   "source": [
    "population.head()"
   ]
  },
  {
   "cell_type": "code",
   "execution_count": 8,
   "id": "040804c3",
   "metadata": {},
   "outputs": [
    {
     "data": {
      "text/plain": [
       "0                  NaN\n",
       "1                  NaN\n",
       "2      62,912,669,167 \n",
       "3     184,437,662,368 \n",
       "4      32,663,238,936 \n",
       "Name: GDP, PPP (current international $), dtype: object"
      ]
     },
     "execution_count": 8,
     "metadata": {},
     "output_type": "execute_result"
    }
   ],
   "source": [
    "gdp.head()"
   ]
  },
  {
   "cell_type": "code",
   "execution_count": 9,
   "id": "951d342d",
   "metadata": {},
   "outputs": [
    {
     "data": {
      "text/plain": [
       "0    88.7\n",
       "1    96.9\n",
       "2     8.3\n",
       "3    12.4\n",
       "4    63.3\n",
       "Name: Internet users (per 100 people), dtype: float64"
      ]
     },
     "execution_count": 9,
     "metadata": {},
     "output_type": "execute_result"
    }
   ],
   "source": [
    "internet_users.head()"
   ]
  },
  {
   "cell_type": "code",
   "execution_count": 10,
   "id": "f637fb5b",
   "metadata": {},
   "outputs": [
    {
     "data": {
      "text/plain": [
       "0    75.5\n",
       "1     NaN\n",
       "2    60.4\n",
       "3    52.3\n",
       "4    77.8\n",
       "Name: 2014 Life expectancy at birth, total (years), dtype: float64"
      ]
     },
     "execution_count": 10,
     "metadata": {},
     "output_type": "execute_result"
    }
   ],
   "source": [
    "life_expectancy.head()"
   ]
  },
  {
   "cell_type": "code",
   "execution_count": 11,
   "id": "f84dea76",
   "metadata": {},
   "outputs": [
    {
     "data": {
      "text/plain": [
       "0    97.513962\n",
       "1          NaN\n",
       "2    23.873850\n",
       "3    60.744801\n",
       "4    96.769691\n",
       "Name: Literacy rate, adult female (% of females ages 15 and above), dtype: float64"
      ]
     },
     "execution_count": 11,
     "metadata": {},
     "output_type": "execute_result"
    }
   ],
   "source": [
    "literacy_rate.head()"
   ]
  },
  {
   "cell_type": "code",
   "execution_count": 12,
   "id": "2b252804",
   "metadata": {},
   "outputs": [
    {
     "data": {
      "text/plain": [
       "0         NaN\n",
       "1         NaN\n",
       "2    0.073278\n",
       "3    0.373074\n",
       "4    0.271050\n",
       "Name: Exports of goods and services (% of GDP), dtype: float64"
      ]
     },
     "execution_count": 12,
     "metadata": {},
     "output_type": "execute_result"
    }
   ],
   "source": [
    "exports.head()"
   ]
  },
  {
   "cell_type": "markdown",
   "id": "042e1e40",
   "metadata": {},
   "source": [
    "### Activities"
   ]
  },
  {
   "cell_type": "markdown",
   "id": "8690759c",
   "metadata": {},
   "source": [
    "##### 1: What is the data type?"
   ]
  },
  {
   "cell_type": "code",
   "execution_count": 37,
   "id": "76d1048a",
   "metadata": {},
   "outputs": [
    {
     "name": "stdout",
     "output_type": "stream",
     "text": [
      "<class 'pandas.core.series.Series'>\n",
      "RangeIndex: 264 entries, 0 to 263\n",
      "Series name: Country Name\n",
      "Non-Null Count  Dtype \n",
      "--------------  ----- \n",
      "264 non-null    object\n",
      "dtypes: object(1)\n",
      "memory usage: 2.2+ KB\n"
     ]
    }
   ],
   "source": [
    "country_name.info()"
   ]
  },
  {
   "cell_type": "markdown",
   "id": "cece4645",
   "metadata": {},
   "source": [
    "##### 2: What is the size of the series?"
   ]
  },
  {
   "cell_type": "code",
   "execution_count": 38,
   "id": "ab4e7503",
   "metadata": {},
   "outputs": [
    {
     "data": {
      "text/plain": [
       "(264,)"
      ]
     },
     "execution_count": 38,
     "metadata": {},
     "output_type": "execute_result"
    }
   ],
   "source": [
    "gdp.shape"
   ]
  },
  {
   "cell_type": "markdown",
   "id": "61a86f67",
   "metadata": {},
   "source": [
    "##### 3: What is the data type?"
   ]
  },
  {
   "cell_type": "code",
   "execution_count": 39,
   "id": "cb7c98ea",
   "metadata": {},
   "outputs": [
    {
     "name": "stdout",
     "output_type": "stream",
     "text": [
      "<class 'pandas.core.series.Series'>\n",
      "RangeIndex: 264 entries, 0 to 263\n",
      "Series name: Internet users (per 100 people)\n",
      "Non-Null Count  Dtype  \n",
      "--------------  -----  \n",
      "248 non-null    float64\n",
      "dtypes: float64(1)\n",
      "memory usage: 2.2 KB\n"
     ]
    }
   ],
   "source": [
    "internet_users.info()"
   ]
  },
  {
   "cell_type": "markdown",
   "id": "c3edca8f",
   "metadata": {},
   "source": [
    "##### 4: What is the value of the first element?"
   ]
  },
  {
   "cell_type": "code",
   "execution_count": 45,
   "id": "a655aa9d",
   "metadata": {},
   "outputs": [
    {
     "data": {
      "text/plain": [
       "' 103,889 '"
      ]
     },
     "execution_count": 45,
     "metadata": {},
     "output_type": "execute_result"
    }
   ],
   "source": [
    "population.iloc[0]"
   ]
  },
  {
   "cell_type": "markdown",
   "id": "1b96629f",
   "metadata": {},
   "source": [
    "##### 5: What is the value of the last element?"
   ]
  },
  {
   "cell_type": "code",
   "execution_count": 44,
   "id": "ea61bcb2",
   "metadata": {},
   "outputs": [
    {
     "data": {
      "text/plain": [
       "57.5"
      ]
     },
     "execution_count": 44,
     "metadata": {},
     "output_type": "execute_result"
    }
   ],
   "source": [
    "life_expectancy.iloc[-1]"
   ]
  },
  {
   "cell_type": "code",
   "execution_count": 50,
   "id": "2faf64a1",
   "metadata": {},
   "outputs": [
    {
     "data": {
      "text/plain": [
       "57.5"
      ]
     },
     "execution_count": 50,
     "metadata": {},
     "output_type": "execute_result"
    }
   ],
   "source": [
    "life_expectancy.iloc[-1]"
   ]
  },
  {
   "cell_type": "markdown",
   "id": "3bf229fe",
   "metadata": {},
   "source": [
    "##### 6: What is the value of the element with index 29?"
   ]
  },
  {
   "cell_type": "code",
   "execution_count": 51,
   "id": "4ee63c86",
   "metadata": {},
   "outputs": [
    {
     "data": {
      "text/plain": [
       "95.4420318603516"
      ]
     },
     "execution_count": 51,
     "metadata": {},
     "output_type": "execute_result"
    }
   ],
   "source": [
    "literacy_rate[29]"
   ]
  },
  {
   "cell_type": "markdown",
   "id": "e724cb73",
   "metadata": {},
   "source": [
    "##### 7: What is the value of the last element in the series?"
   ]
  },
  {
   "cell_type": "code",
   "execution_count": 54,
   "id": "98f48870",
   "metadata": {},
   "outputs": [
    {
     "data": {
      "text/plain": [
       "' 27,984,877,195 '"
      ]
     },
     "execution_count": 54,
     "metadata": {},
     "output_type": "execute_result"
    }
   ],
   "source": [
    "gdp.iloc[-1]"
   ]
  },
  {
   "cell_type": "markdown",
   "id": "fc591a84",
   "metadata": {},
   "source": [
    "##### 8: What is the mean of the series?"
   ]
  },
  {
   "cell_type": "code",
   "execution_count": 55,
   "id": "2ab5b676",
   "metadata": {},
   "outputs": [
    {
     "data": {
      "text/plain": [
       "47.557258064516134"
      ]
     },
     "execution_count": 55,
     "metadata": {},
     "output_type": "execute_result"
    }
   ],
   "source": [
    "internet_users.mean()"
   ]
  },
  {
   "cell_type": "markdown",
   "id": "45c3d703",
   "metadata": {},
   "source": [
    "##### 9: What is the standard deviation?"
   ]
  },
  {
   "cell_type": "code",
   "execution_count": 56,
   "id": "5acbb498",
   "metadata": {},
   "outputs": [
    {
     "data": {
      "text/plain": [
       "27.690496399160462"
      ]
     },
     "execution_count": 56,
     "metadata": {},
     "output_type": "execute_result"
    }
   ],
   "source": [
    "internet_users.std()"
   ]
  },
  {
   "cell_type": "markdown",
   "id": "071ed247",
   "metadata": {},
   "source": [
    "##### 10: What is the median of the series?"
   ]
  },
  {
   "cell_type": "code",
   "execution_count": 58,
   "id": "860ba346",
   "metadata": {},
   "outputs": [
    {
     "data": {
      "text/plain": [
       "0.30183071080490154"
      ]
     },
     "execution_count": 58,
     "metadata": {},
     "output_type": "execute_result"
    }
   ],
   "source": [
    "exports.median()"
   ]
  },
  {
   "cell_type": "markdown",
   "id": "c61f41f0",
   "metadata": {},
   "source": [
    "##### 11: What is the minimum value of the series?"
   ]
  },
  {
   "cell_type": "code",
   "execution_count": 59,
   "id": "a10892eb",
   "metadata": {},
   "outputs": [
    {
     "data": {
      "text/plain": [
       "48.9"
      ]
     },
     "execution_count": 59,
     "metadata": {},
     "output_type": "execute_result"
    }
   ],
   "source": [
    "life_expectancy.min()"
   ]
  },
  {
   "cell_type": "markdown",
   "id": "09e623d3",
   "metadata": {},
   "source": [
    "##### 12: What is the average literacy rate?"
   ]
  },
  {
   "cell_type": "code",
   "execution_count": 61,
   "id": "58c13e91",
   "metadata": {},
   "outputs": [
    {
     "data": {
      "text/plain": [
       "80.91936549162253"
      ]
     },
     "execution_count": 61,
     "metadata": {},
     "output_type": "execute_result"
    }
   ],
   "source": [
    "literacy_rate.mean()"
   ]
  },
  {
   "cell_type": "markdown",
   "id": "771fe324",
   "metadata": {},
   "source": [
    "### Sorting"
   ]
  },
  {
   "cell_type": "markdown",
   "id": "c1833751",
   "metadata": {},
   "source": [
    "##### 13: Sort the series in ascending order"
   ]
  },
  {
   "cell_type": "code",
   "execution_count": 65,
   "id": "be006efa",
   "metadata": {},
   "outputs": [],
   "source": [
    "# try your code here\n",
    "country_name_sorted = country_name.sort_values()"
   ]
  },
  {
   "cell_type": "markdown",
   "id": "74791e6b",
   "metadata": {},
   "source": [
    "##### 14: Sort multiple series at once"
   ]
  },
  {
   "cell_type": "code",
   "execution_count": 71,
   "id": "dcdaacec",
   "metadata": {},
   "outputs": [],
   "source": [
    "# try your code here\n",
    "literacy_rate_sorted = literacy_rate.sort_values()\n",
    "country_name_sorted_by_literacy_rate = country_name[literacy_rate_sorted.sort_values().index]"
   ]
  },
  {
   "cell_type": "markdown",
   "id": "537742fc",
   "metadata": {},
   "source": [
    "## The End!"
   ]
  }
 ],
 "metadata": {
  "kernelspec": {
   "display_name": "Python 3",
   "language": "python",
   "name": "python3"
  },
  "language_info": {
   "codemirror_mode": {
    "name": "ipython",
    "version": 3
   },
   "file_extension": ".py",
   "mimetype": "text/x-python",
   "name": "python",
   "nbconvert_exporter": "python",
   "pygments_lexer": "ipython3",
   "version": "3.8.8"
  }
 },
 "nbformat": 4,
 "nbformat_minor": 5
}
