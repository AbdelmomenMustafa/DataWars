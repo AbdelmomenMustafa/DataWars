{
 "cells": [
  {
   "cell_type": "markdown",
   "id": "46a964ef-9592-4af7-bbc0-c8d6a452bda0",
   "metadata": {},
   "source": [
    "#### Take a look at the raw data:"
   ]
  },
  {
   "cell_type": "markdown",
   "id": "1f2946e4-4fae-4880-b480-d950eddfd339",
   "metadata": {},
   "source": [
    "Company stock symbols"
   ]
  },
  {
   "cell_type": "code",
   "execution_count": 1,
   "id": "40af8406-bceb-4d73-80aa-701fe4d2d588",
   "metadata": {},
   "outputs": [
    {
     "name": "stdout",
     "output_type": "stream",
     "text": [
      "Name,Symbol\r\n",
      "3M Company,MMM\r\n",
      "A.O. Smith Corp,AOS\r\n",
      "Abbott Laboratories,ABT\r\n",
      "AbbVie Inc.,ABBV\r\n",
      "Accenture plc,ACN\r\n",
      "Activision Blizzard,ATVI\r\n",
      "Acuity Brands Inc,AYI\r\n",
      "Adobe Systems Inc,ADBE\r\n",
      "Advance Auto Parts,AAP\r\n"
     ]
    }
   ],
   "source": [
    "!head sp500-symbols.csv"
   ]
  },
  {
   "cell_type": "markdown",
   "id": "480039f2-ada5-4508-a824-55595b61d47e",
   "metadata": {},
   "source": [
    "Market cap raw data:"
   ]
  },
  {
   "cell_type": "code",
   "execution_count": 2,
   "id": "5b758d73-79ac-48e8-89a0-6d68334ad1a6",
   "metadata": {},
   "outputs": [
    {
     "name": "stdout",
     "output_type": "stream",
     "text": [
      "Symbol,Market Cap\r\n",
      "MMM,138721055226\r\n",
      "AOS,10783419933\r\n",
      "ABT,102121042306\r\n",
      "ABBV,181386347059\r\n",
      "ACN,98765855553\r\n",
      "ATVI,52518668144\r\n",
      "AYI,6242377704\r\n",
      "ADBE,94550214268\r\n",
      "AAP,8123611867\r\n"
     ]
    }
   ],
   "source": [
    "!head sp500-marketcap.csv"
   ]
  },
  {
   "cell_type": "code",
   "execution_count": 3,
   "id": "ab43a568-32a2-47e2-849d-8808de323bbf",
   "metadata": {},
   "outputs": [],
   "source": [
    "import pandas as pd"
   ]
  },
  {
   "cell_type": "code",
   "execution_count": 4,
   "id": "5181c916-0086-43ad-a73a-0dbf6b433dad",
   "metadata": {},
   "outputs": [
    {
     "data": {
      "text/plain": [
       "Symbol\n",
       "MMM     138721055226\n",
       "AOS      10783419933\n",
       "ABT     102121042306\n",
       "ABBV    181386347059\n",
       "ACN      98765855553\n",
       "Name: Market Cap, dtype: int64"
      ]
     },
     "execution_count": 4,
     "metadata": {},
     "output_type": "execute_result"
    }
   ],
   "source": [
    "market_cap = pd.read_csv(\"sp500-marketcap.csv\", index_col=\"Symbol\")['Market Cap']\n",
    "market_cap.head()"
   ]
  },
  {
   "cell_type": "code",
   "execution_count": 5,
   "id": "92cd6676-f194-4c35-b6ba-b76dccc4491a",
   "metadata": {},
   "outputs": [
    {
     "data": {
      "text/plain": [
       "Name\n",
       "3M Company              MMM\n",
       "A.O. Smith Corp         AOS\n",
       "Abbott Laboratories     ABT\n",
       "AbbVie Inc.            ABBV\n",
       "Accenture plc           ACN\n",
       "Name: Symbol, dtype: object"
      ]
     },
     "execution_count": 5,
     "metadata": {},
     "output_type": "execute_result"
    }
   ],
   "source": [
    "symbols = pd.read_csv(\"sp500-symbols.csv\", index_col=\"Name\")['Symbol']\n",
    "symbols.head()"
   ]
  },
  {
   "cell_type": "markdown",
   "id": "9cb06b27-6c28-4ea0-8fa6-6d78a4df5dc9",
   "metadata": {},
   "source": [
    "### Basic Series Attributes"
   ]
  },
  {
   "cell_type": "markdown",
   "id": "207ee8b4-5026-4b84-ab29-56251a75226e",
   "metadata": {},
   "source": [
    "##### 1. Name of the `market_cap` Series"
   ]
  },
  {
   "cell_type": "code",
   "execution_count": 6,
   "id": "9f8da5b4-bca3-4546-874c-314200c24168",
   "metadata": {},
   "outputs": [
    {
     "data": {
      "text/plain": [
       "'Market Cap'"
      ]
     },
     "execution_count": 6,
     "metadata": {},
     "output_type": "execute_result"
    }
   ],
   "source": [
    "market_cap.name"
   ]
  },
  {
   "cell_type": "markdown",
   "id": "6c096156-47a7-4a55-aca9-a5728fb870af",
   "metadata": {},
   "source": [
    "##### 2. Name of the `symbols` Series"
   ]
  },
  {
   "cell_type": "code",
   "execution_count": 7,
   "id": "06842aaf-1c97-4570-94d4-447b3cbb47cd",
   "metadata": {},
   "outputs": [
    {
     "data": {
      "text/plain": [
       "'Symbol'"
      ]
     },
     "execution_count": 7,
     "metadata": {},
     "output_type": "execute_result"
    }
   ],
   "source": [
    "symbols.name"
   ]
  },
  {
   "cell_type": "markdown",
   "id": "96f1ba82-e7da-48c6-966b-288619ed13d1",
   "metadata": {},
   "source": [
    "##### 3. What's the dtype of `market_cap`"
   ]
  },
  {
   "cell_type": "code",
   "execution_count": 8,
   "id": "b8163a6a-b2f6-4a84-b577-a1812e3540c2",
   "metadata": {},
   "outputs": [
    {
     "data": {
      "text/plain": [
       "dtype('int64')"
      ]
     },
     "execution_count": 8,
     "metadata": {},
     "output_type": "execute_result"
    }
   ],
   "source": [
    "market_cap.dtype"
   ]
  },
  {
   "cell_type": "markdown",
   "id": "fa85eae4-3f5d-4845-a94f-32b62be1cad1",
   "metadata": {},
   "source": [
    "##### 4. What's the dtype of `symbols`"
   ]
  },
  {
   "cell_type": "code",
   "execution_count": 9,
   "id": "c2dd435e-8f0b-4743-a781-276151ac52f2",
   "metadata": {},
   "outputs": [
    {
     "data": {
      "text/plain": [
       "dtype('O')"
      ]
     },
     "execution_count": 9,
     "metadata": {},
     "output_type": "execute_result"
    }
   ],
   "source": [
    "symbols.dtype"
   ]
  },
  {
   "cell_type": "markdown",
   "id": "fc510a76-6358-4f42-a6c7-da2c1534fe1f",
   "metadata": {},
   "source": [
    "##### 5. How many elements do the series have?"
   ]
  },
  {
   "cell_type": "code",
   "execution_count": 10,
   "id": "e6c412a3-7007-43ce-8974-b9126fecb5ea",
   "metadata": {},
   "outputs": [
    {
     "data": {
      "text/plain": [
       "505"
      ]
     },
     "execution_count": 10,
     "metadata": {},
     "output_type": "execute_result"
    }
   ],
   "source": [
    "# symbols.size\n",
    "\n",
    "len(symbols)"
   ]
  },
  {
   "cell_type": "markdown",
   "id": "fd9f493d-2825-484f-b57d-4d23efcb6647",
   "metadata": {},
   "source": [
    "##### 6. What's the minimum value for Market Cap?"
   ]
  },
  {
   "cell_type": "code",
   "execution_count": 11,
   "id": "d791dbb8-a1f0-49e4-9329-9a21212f769a",
   "metadata": {},
   "outputs": [
    {
     "data": {
      "text/plain": [
       "2626102121"
      ]
     },
     "execution_count": 11,
     "metadata": {},
     "output_type": "execute_result"
    }
   ],
   "source": [
    "# market_cap.min()\n",
    "market_cap.sort_values()[0]"
   ]
  },
  {
   "cell_type": "markdown",
   "id": "f29edcdf-6bcf-4d9a-af42-c8ee484940ec",
   "metadata": {},
   "source": [
    "##### 7. What's the maximum value for Market Cap?"
   ]
  },
  {
   "cell_type": "code",
   "execution_count": 12,
   "id": "22410a52-afe6-4bbc-b714-dfde26268575",
   "metadata": {},
   "outputs": [
    {
     "data": {
      "text/plain": [
       "809508034020"
      ]
     },
     "execution_count": 12,
     "metadata": {},
     "output_type": "execute_result"
    }
   ],
   "source": [
    "# market_cap.Max()\n",
    "market_cap.sort_values(ascending=False)[0]"
   ]
  },
  {
   "cell_type": "markdown",
   "id": "b6a276ef-c1bd-4160-8853-326063511653",
   "metadata": {},
   "source": [
    "##### 8. What's the average Market Cap?"
   ]
  },
  {
   "cell_type": "code",
   "execution_count": 13,
   "id": "45165793-a472-4437-8fc2-01fe52486412",
   "metadata": {},
   "outputs": [
    {
     "data": {
      "text/plain": [
       "49239436929.50495"
      ]
     },
     "execution_count": 13,
     "metadata": {},
     "output_type": "execute_result"
    }
   ],
   "source": [
    "market_cap.mean()"
   ]
  },
  {
   "cell_type": "markdown",
   "id": "678a9aa8-507a-4033-b42d-3aa0ec7f6707",
   "metadata": {},
   "source": [
    "##### 9. What's the median Market Cap?"
   ]
  },
  {
   "cell_type": "code",
   "execution_count": 14,
   "id": "39d76197-36ea-4bea-a649-6d17150c0f97",
   "metadata": {},
   "outputs": [
    {
     "data": {
      "text/plain": [
       "21400952517.0"
      ]
     },
     "execution_count": 14,
     "metadata": {},
     "output_type": "execute_result"
    }
   ],
   "source": [
    "market_cap.median()"
   ]
  },
  {
   "cell_type": "markdown",
   "id": "f931f69f-a8d9-4e94-9ba2-3a6f7e386dfa",
   "metadata": {},
   "source": [
    "### Selection and Indexing"
   ]
  },
  {
   "cell_type": "code",
   "execution_count": 15,
   "id": "852a8bca-e463-4c38-acb0-bddb99c2cf6d",
   "metadata": {},
   "outputs": [
    {
     "data": {
      "text/plain": [
       "Symbol\n",
       "MMM     138721055226\n",
       "AOS      10783419933\n",
       "ABT     102121042306\n",
       "ABBV    181386347059\n",
       "ACN      98765855553\n",
       "Name: Market Cap, dtype: int64"
      ]
     },
     "execution_count": 15,
     "metadata": {},
     "output_type": "execute_result"
    }
   ],
   "source": [
    "market_cap.head()"
   ]
  },
  {
   "cell_type": "markdown",
   "id": "2bdf7cc9-fac5-4e9b-8341-2075be2161ca",
   "metadata": {},
   "source": [
    "##### 1. What's the symbol of `Oracle Corp.`?"
   ]
  },
  {
   "cell_type": "code",
   "execution_count": 16,
   "id": "014d64d0-a816-4045-ba19-f28396cf8e8e",
   "metadata": {},
   "outputs": [
    {
     "data": {
      "text/plain": [
       "'ORCL'"
      ]
     },
     "execution_count": 16,
     "metadata": {},
     "output_type": "execute_result"
    }
   ],
   "source": [
    "symbols['Oracle Corp.']"
   ]
  },
  {
   "cell_type": "markdown",
   "id": "deb836e3-76c2-4263-b536-bfadbcfb3acd",
   "metadata": {},
   "source": [
    "##### 2. What's the Market Cap of `Oracle Corp.`?"
   ]
  },
  {
   "cell_type": "code",
   "execution_count": 17,
   "id": "e3173c29-8e7f-44fc-80ea-9587c3c93661",
   "metadata": {},
   "outputs": [
    {
     "data": {
      "text/plain": [
       "202302349740"
      ]
     },
     "execution_count": 17,
     "metadata": {},
     "output_type": "execute_result"
    }
   ],
   "source": [
    "market_cap[symbols['Oracle Corp.']]"
   ]
  },
  {
   "cell_type": "markdown",
   "id": "5d2d869a-1139-4ead-8e04-9cbffde92185",
   "metadata": {},
   "source": [
    "##### 3. What's the Market Cap of `Wal-Mart Stores`?"
   ]
  },
  {
   "cell_type": "code",
   "execution_count": 18,
   "id": "1ab7f5ac-da56-4a00-ae13-386d7c495669",
   "metadata": {},
   "outputs": [
    {
     "data": {
      "text/plain": [
       "304680931618"
      ]
     },
     "execution_count": 18,
     "metadata": {},
     "output_type": "execute_result"
    }
   ],
   "source": [
    "market_cap[symbols['Wal-Mart Stores']]"
   ]
  },
  {
   "cell_type": "markdown",
   "id": "9c9008d3-5439-42f6-8c64-135bb3fdda7d",
   "metadata": {},
   "source": [
    "##### 4. What's the symbol of the *129th* company?"
   ]
  },
  {
   "cell_type": "code",
   "execution_count": 19,
   "id": "35bd6fbc-78b5-4de3-9410-6a6c4310938c",
   "metadata": {},
   "outputs": [
    {
     "data": {
      "text/plain": [
       "'STZ'"
      ]
     },
     "execution_count": 19,
     "metadata": {},
     "output_type": "execute_result"
    }
   ],
   "source": [
    "symbols[128]"
   ]
  },
  {
   "cell_type": "markdown",
   "id": "024e862b-f2a1-4718-8f5a-d560beb55b02",
   "metadata": {},
   "source": [
    "##### 5. What's the Market Cap of the 88th company in `symbols`?"
   ]
  },
  {
   "cell_type": "code",
   "execution_count": 20,
   "id": "548136cc-8471-4aec-8151-9b452c997de4",
   "metadata": {},
   "outputs": [
    {
     "data": {
      "text/plain": [
       "13467193376"
      ]
     },
     "execution_count": 20,
     "metadata": {},
     "output_type": "execute_result"
    }
   ],
   "source": [
    "market_cap[symbols[87]]"
   ]
  },
  {
   "cell_type": "markdown",
   "id": "758c63aa-383e-4777-9038-5fdac463f343",
   "metadata": {},
   "source": [
    "##### 6. Create a new series only with FAANG Stocks"
   ]
  },
  {
   "cell_type": "code",
   "execution_count": 21,
   "id": "4bf8630f-f4ab-4df7-9cb3-4a44b16d7282",
   "metadata": {},
   "outputs": [
    {
     "data": {
      "text/plain": [
       "Symbol\n",
       "AMZN     685873374731\n",
       "AAPL     809508034020\n",
       "MSFT     689978437468\n",
       "GOOGL    733823966137\n",
       "FB       523423036576\n",
       "NFLX     114805404842\n",
       "Name: Market Cap, dtype: int64"
      ]
     },
     "execution_count": 21,
     "metadata": {},
     "output_type": "execute_result"
    }
   ],
   "source": [
    "faang_market_cap = market_cap[symbols[['Amazon.com Inc',\n",
    "                                       'Apple Inc.',\n",
    "                                       'Microsoft Corp.',\n",
    "                                      'Alphabet Inc Class A',\n",
    "                                      'Facebook, Inc.',\n",
    "                                      'Netflix Inc.']]]\n",
    "faang_market_cap"
   ]
  },
  {
   "cell_type": "markdown",
   "id": "65fdfb46-26b5-4c64-b96d-04ac7a81bb50",
   "metadata": {},
   "source": [
    "##### 7. Select the market cap of companies in position 1st, 100th, 200th, etc."
   ]
  },
  {
   "cell_type": "code",
   "execution_count": 22,
   "id": "8ed28a46-743e-429e-be2b-270b873236f8",
   "metadata": {},
   "outputs": [
    {
     "data": {
      "text/plain": [
       "Symbol\n",
       "MMM    138721055226\n",
       "CTL     18237196861\n",
       "FL       5819080328\n",
       "MAT      5843402350\n",
       "ROP     27247789759\n",
       "XL      10753423590\n",
       "Name: Market Cap, dtype: int64"
      ]
     },
     "execution_count": 22,
     "metadata": {},
     "output_type": "execute_result"
    }
   ],
   "source": [
    "position_companies=market_cap[[0,99,199,299,399,499]]\n",
    "position_companies"
   ]
  },
  {
   "cell_type": "markdown",
   "id": "9747fe17-ba6a-47aa-b266-94e028218c4f",
   "metadata": {},
   "source": [
    "### Sorting Series"
   ]
  },
  {
   "cell_type": "markdown",
   "id": "c276ec6a-16d2-4ca5-9d1b-57132df2b995",
   "metadata": {},
   "source": [
    "##### 1. What's the 4th company sorted lexicographically by their symbol?"
   ]
  },
  {
   "cell_type": "code",
   "execution_count": 23,
   "id": "cf09d558-90fb-4433-b491-9b755bfcf83c",
   "metadata": {},
   "outputs": [
    {
     "data": {
      "text/plain": [
       "'Apple Inc.'"
      ]
     },
     "execution_count": 23,
     "metadata": {},
     "output_type": "execute_result"
    }
   ],
   "source": [
    "symbols.sort_values().index[3]"
   ]
  },
  {
   "cell_type": "markdown",
   "id": "9677f532-b629-4378-a536-b7479ff75c96",
   "metadata": {},
   "source": [
    "##### 2. What's the Market Cap of the 7th company (in descending order)?"
   ]
  },
  {
   "cell_type": "code",
   "execution_count": 24,
   "id": "ea584255-5aa2-4bc6-ac0e-31f8c085419e",
   "metadata": {},
   "outputs": [
    {
     "data": {
      "text/plain": [
       "13390513478"
      ]
     },
     "execution_count": 24,
     "metadata": {},
     "output_type": "execute_result"
    }
   ],
   "source": [
    "market_cap.sort_index(ascending=False)[6]"
   ]
  }
 ],
 "metadata": {
  "kernelspec": {
   "display_name": "Python 3",
   "language": "python",
   "name": "python3"
  },
  "language_info": {
   "codemirror_mode": {
    "name": "ipython",
    "version": 3
   },
   "file_extension": ".py",
   "mimetype": "text/x-python",
   "name": "python",
   "nbconvert_exporter": "python",
   "pygments_lexer": "ipython3",
   "version": "3.8.8"
  }
 },
 "nbformat": 4,
 "nbformat_minor": 5
}
