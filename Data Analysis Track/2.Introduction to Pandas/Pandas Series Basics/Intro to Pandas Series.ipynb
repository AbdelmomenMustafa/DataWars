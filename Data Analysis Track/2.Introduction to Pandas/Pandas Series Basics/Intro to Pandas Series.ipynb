{
 "cells": [
  {
   "cell_type": "code",
   "execution_count": 1,
   "id": "8da58cfc-285c-4373-9879-ca5bc76b9725",
   "metadata": {},
   "outputs": [],
   "source": [
    "import pandas as pd"
   ]
  },
  {
   "cell_type": "markdown",
   "id": "38637ce9-4675-49c9-b6f0-2287303c2c5b",
   "metadata": {},
   "source": [
    "### Intro to Series"
   ]
  },
  {
   "cell_type": "markdown",
   "id": "5ce94c4c-3bda-4739-be7f-5c1d7f6c33db",
   "metadata": {},
   "source": [
    "Let's make our first series and represent them in the following way:"
   ]
  },
  {
   "cell_type": "code",
   "execution_count": 2,
   "id": "9ce9cdef-2c04-480b-8ac3-1c130879994d",
   "metadata": {},
   "outputs": [],
   "source": [
    "companies = [\n",
    "    'Apple', 'Samsung', 'Alphabet', 'Foxconn',\n",
    "    'Microsoft', 'Huawei', 'Dell Technologies',\n",
    "    'Meta', 'Sony', 'Hitachi', 'Intel',\n",
    "    'IBM', 'Tencent', 'Panasonic'\n",
    "]"
   ]
  },
  {
   "cell_type": "code",
   "execution_count": 3,
   "id": "aaaf340a-174f-4f14-93e7-59e9b39a387e",
   "metadata": {},
   "outputs": [],
   "source": [
    "s = pd.Series([\n",
    "    274515, 200734, 182527, 181945, 143015,\n",
    "    129184, 92224, 85965, 84893, 82345,\n",
    "    77867, 73620, 69864, 63191],\n",
    "    index=companies,\n",
    "    name=\"Top Technology Companies by Revenue\")"
   ]
  },
  {
   "cell_type": "code",
   "execution_count": 4,
   "id": "4728ccef-3c26-44fa-b2e2-8d37507266eb",
   "metadata": {},
   "outputs": [
    {
     "data": {
      "text/plain": [
       "Apple                274515\n",
       "Samsung              200734\n",
       "Alphabet             182527\n",
       "Foxconn              181945\n",
       "Microsoft            143015\n",
       "Huawei               129184\n",
       "Dell Technologies     92224\n",
       "Meta                  85965\n",
       "Sony                  84893\n",
       "Hitachi               82345\n",
       "Intel                 77867\n",
       "IBM                   73620\n",
       "Tencent               69864\n",
       "Panasonic             63191\n",
       "Name: Top Technology Companies by Revenue, dtype: int64"
      ]
     },
     "execution_count": 4,
     "metadata": {},
     "output_type": "execute_result"
    }
   ],
   "source": [
    "s"
   ]
  },
  {
   "cell_type": "markdown",
   "id": "33881fd8-d06d-4983-a018-84166fe8f83c",
   "metadata": {},
   "source": [
    "##### 1. Check your knowledge: build a series\n",
    "\n",
    "Create a series called `my_series`"
   ]
  },
  {
   "cell_type": "code",
   "execution_count": 5,
   "id": "360dca71-d116-4e44-9a32-5ffe468f0971",
   "metadata": {},
   "outputs": [
    {
     "data": {
      "text/plain": [
       "a     9\n",
       "b    11\n",
       "c    -5\n",
       "Name: My First Series, dtype: int64"
      ]
     },
     "execution_count": 5,
     "metadata": {},
     "output_type": "execute_result"
    }
   ],
   "source": [
    "my_series = pd.Series([9,11,-5],['a','b','c'],name='My First Series')\n",
    "my_series"
   ]
  },
  {
   "cell_type": "markdown",
   "id": "95d07a5e-2950-401d-ae90-6c7f65e5eddc",
   "metadata": {},
   "source": [
    "### Basic selection and location"
   ]
  },
  {
   "cell_type": "markdown",
   "id": "f81d91ef-f5ad-46a3-bb3f-8567f8457072",
   "metadata": {},
   "source": [
    "#### Selecting by index:"
   ]
  },
  {
   "cell_type": "code",
   "execution_count": 6,
   "id": "90730254-7ffe-40c5-85ef-7ba446697e3b",
   "metadata": {},
   "outputs": [
    {
     "data": {
      "text/plain": [
       "274515"
      ]
     },
     "execution_count": 6,
     "metadata": {},
     "output_type": "execute_result"
    }
   ],
   "source": [
    "s['Apple']"
   ]
  },
  {
   "cell_type": "markdown",
   "id": "c5f27743-b3cd-4df0-8d01-c355ebd5a733",
   "metadata": {},
   "source": [
    "`.loc` is the preferred way:"
   ]
  },
  {
   "cell_type": "code",
   "execution_count": 7,
   "id": "fed73b4c-9e14-4a02-aaab-5b8069d447c9",
   "metadata": {},
   "outputs": [
    {
     "data": {
      "text/plain": [
       "274515"
      ]
     },
     "execution_count": 7,
     "metadata": {},
     "output_type": "execute_result"
    }
   ],
   "source": [
    "s.loc['Apple']"
   ]
  },
  {
   "cell_type": "markdown",
   "id": "0fea7e6f-9150-4444-9590-e0d3e846faf8",
   "metadata": {},
   "source": [
    "#### Selection by position:"
   ]
  },
  {
   "cell_type": "code",
   "execution_count": 8,
   "id": "a924e228-46e2-4e63-936c-3a2d393a7ad3",
   "metadata": {},
   "outputs": [
    {
     "data": {
      "text/plain": [
       "274515"
      ]
     },
     "execution_count": 8,
     "metadata": {},
     "output_type": "execute_result"
    }
   ],
   "source": [
    "s.iloc[0]"
   ]
  },
  {
   "cell_type": "code",
   "execution_count": 9,
   "id": "554def23-00c5-4f66-9708-c06eab6e7d78",
   "metadata": {},
   "outputs": [
    {
     "data": {
      "text/plain": [
       "63191"
      ]
     },
     "execution_count": 9,
     "metadata": {},
     "output_type": "execute_result"
    }
   ],
   "source": [
    "s.iloc[-1]"
   ]
  },
  {
   "cell_type": "markdown",
   "id": "c17bd9a0-5d02-4d51-b59c-bfe9a4b1379b",
   "metadata": {},
   "source": [
    "#### Errors in selection:"
   ]
  },
  {
   "cell_type": "code",
   "execution_count": 10,
   "id": "c6156f8e-86ff-4f4a-bc52-7812acb2ca9b",
   "metadata": {},
   "outputs": [
    {
     "ename": "KeyError",
     "evalue": "'Non existent company'",
     "output_type": "error",
     "traceback": [
      "\u001b[0;31m---------------------------------------------------------------------------\u001b[0m",
      "\u001b[0;31mKeyError\u001b[0m                                  Traceback (most recent call last)",
      "File \u001b[0;32m/usr/local/lib/python3.11/site-packages/pandas/core/indexes/base.py:3652\u001b[0m, in \u001b[0;36mIndex.get_loc\u001b[0;34m(self, key)\u001b[0m\n\u001b[1;32m   3651\u001b[0m \u001b[38;5;28;01mtry\u001b[39;00m:\n\u001b[0;32m-> 3652\u001b[0m     \u001b[38;5;28;01mreturn\u001b[39;00m \u001b[38;5;28;43mself\u001b[39;49m\u001b[38;5;241;43m.\u001b[39;49m\u001b[43m_engine\u001b[49m\u001b[38;5;241;43m.\u001b[39;49m\u001b[43mget_loc\u001b[49m\u001b[43m(\u001b[49m\u001b[43mcasted_key\u001b[49m\u001b[43m)\u001b[49m\n\u001b[1;32m   3653\u001b[0m \u001b[38;5;28;01mexcept\u001b[39;00m \u001b[38;5;167;01mKeyError\u001b[39;00m \u001b[38;5;28;01mas\u001b[39;00m err:\n",
      "File \u001b[0;32m/usr/local/lib/python3.11/site-packages/pandas/_libs/index.pyx:147\u001b[0m, in \u001b[0;36mpandas._libs.index.IndexEngine.get_loc\u001b[0;34m()\u001b[0m\n",
      "File \u001b[0;32m/usr/local/lib/python3.11/site-packages/pandas/_libs/index.pyx:176\u001b[0m, in \u001b[0;36mpandas._libs.index.IndexEngine.get_loc\u001b[0;34m()\u001b[0m\n",
      "File \u001b[0;32mpandas/_libs/hashtable_class_helper.pxi:7080\u001b[0m, in \u001b[0;36mpandas._libs.hashtable.PyObjectHashTable.get_item\u001b[0;34m()\u001b[0m\n",
      "File \u001b[0;32mpandas/_libs/hashtable_class_helper.pxi:7088\u001b[0m, in \u001b[0;36mpandas._libs.hashtable.PyObjectHashTable.get_item\u001b[0;34m()\u001b[0m\n",
      "\u001b[0;31mKeyError\u001b[0m: 'Non existent company'",
      "\nThe above exception was the direct cause of the following exception:\n",
      "\u001b[0;31mKeyError\u001b[0m                                  Traceback (most recent call last)",
      "Cell \u001b[0;32mIn[10], line 2\u001b[0m\n\u001b[1;32m      1\u001b[0m \u001b[38;5;66;03m# this code will fail\u001b[39;00m\n\u001b[0;32m----> 2\u001b[0m \u001b[43ms\u001b[49m\u001b[38;5;241;43m.\u001b[39;49m\u001b[43mloc\u001b[49m\u001b[43m[\u001b[49m\u001b[38;5;124;43m\"\u001b[39;49m\u001b[38;5;124;43mNon existent company\u001b[39;49m\u001b[38;5;124;43m\"\u001b[39;49m\u001b[43m]\u001b[49m\n",
      "File \u001b[0;32m/usr/local/lib/python3.11/site-packages/pandas/core/indexing.py:1103\u001b[0m, in \u001b[0;36m_LocationIndexer.__getitem__\u001b[0;34m(self, key)\u001b[0m\n\u001b[1;32m   1100\u001b[0m axis \u001b[38;5;241m=\u001b[39m \u001b[38;5;28mself\u001b[39m\u001b[38;5;241m.\u001b[39maxis \u001b[38;5;129;01mor\u001b[39;00m \u001b[38;5;241m0\u001b[39m\n\u001b[1;32m   1102\u001b[0m maybe_callable \u001b[38;5;241m=\u001b[39m com\u001b[38;5;241m.\u001b[39mapply_if_callable(key, \u001b[38;5;28mself\u001b[39m\u001b[38;5;241m.\u001b[39mobj)\n\u001b[0;32m-> 1103\u001b[0m \u001b[38;5;28;01mreturn\u001b[39;00m \u001b[38;5;28;43mself\u001b[39;49m\u001b[38;5;241;43m.\u001b[39;49m\u001b[43m_getitem_axis\u001b[49m\u001b[43m(\u001b[49m\u001b[43mmaybe_callable\u001b[49m\u001b[43m,\u001b[49m\u001b[43m \u001b[49m\u001b[43maxis\u001b[49m\u001b[38;5;241;43m=\u001b[39;49m\u001b[43maxis\u001b[49m\u001b[43m)\u001b[49m\n",
      "File \u001b[0;32m/usr/local/lib/python3.11/site-packages/pandas/core/indexing.py:1343\u001b[0m, in \u001b[0;36m_LocIndexer._getitem_axis\u001b[0;34m(self, key, axis)\u001b[0m\n\u001b[1;32m   1341\u001b[0m \u001b[38;5;66;03m# fall thru to straight lookup\u001b[39;00m\n\u001b[1;32m   1342\u001b[0m \u001b[38;5;28mself\u001b[39m\u001b[38;5;241m.\u001b[39m_validate_key(key, axis)\n\u001b[0;32m-> 1343\u001b[0m \u001b[38;5;28;01mreturn\u001b[39;00m \u001b[38;5;28;43mself\u001b[39;49m\u001b[38;5;241;43m.\u001b[39;49m\u001b[43m_get_label\u001b[49m\u001b[43m(\u001b[49m\u001b[43mkey\u001b[49m\u001b[43m,\u001b[49m\u001b[43m \u001b[49m\u001b[43maxis\u001b[49m\u001b[38;5;241;43m=\u001b[39;49m\u001b[43maxis\u001b[49m\u001b[43m)\u001b[49m\n",
      "File \u001b[0;32m/usr/local/lib/python3.11/site-packages/pandas/core/indexing.py:1293\u001b[0m, in \u001b[0;36m_LocIndexer._get_label\u001b[0;34m(self, label, axis)\u001b[0m\n\u001b[1;32m   1291\u001b[0m \u001b[38;5;28;01mdef\u001b[39;00m \u001b[38;5;21m_get_label\u001b[39m(\u001b[38;5;28mself\u001b[39m, label, axis: AxisInt):\n\u001b[1;32m   1292\u001b[0m     \u001b[38;5;66;03m# GH#5567 this will fail if the label is not present in the axis.\u001b[39;00m\n\u001b[0;32m-> 1293\u001b[0m     \u001b[38;5;28;01mreturn\u001b[39;00m \u001b[38;5;28;43mself\u001b[39;49m\u001b[38;5;241;43m.\u001b[39;49m\u001b[43mobj\u001b[49m\u001b[38;5;241;43m.\u001b[39;49m\u001b[43mxs\u001b[49m\u001b[43m(\u001b[49m\u001b[43mlabel\u001b[49m\u001b[43m,\u001b[49m\u001b[43m \u001b[49m\u001b[43maxis\u001b[49m\u001b[38;5;241;43m=\u001b[39;49m\u001b[43maxis\u001b[49m\u001b[43m)\u001b[49m\n",
      "File \u001b[0;32m/usr/local/lib/python3.11/site-packages/pandas/core/generic.py:4095\u001b[0m, in \u001b[0;36mNDFrame.xs\u001b[0;34m(self, key, axis, level, drop_level)\u001b[0m\n\u001b[1;32m   4093\u001b[0m             new_index \u001b[38;5;241m=\u001b[39m index[loc]\n\u001b[1;32m   4094\u001b[0m \u001b[38;5;28;01melse\u001b[39;00m:\n\u001b[0;32m-> 4095\u001b[0m     loc \u001b[38;5;241m=\u001b[39m \u001b[43mindex\u001b[49m\u001b[38;5;241;43m.\u001b[39;49m\u001b[43mget_loc\u001b[49m\u001b[43m(\u001b[49m\u001b[43mkey\u001b[49m\u001b[43m)\u001b[49m\n\u001b[1;32m   4097\u001b[0m     \u001b[38;5;28;01mif\u001b[39;00m \u001b[38;5;28misinstance\u001b[39m(loc, np\u001b[38;5;241m.\u001b[39mndarray):\n\u001b[1;32m   4098\u001b[0m         \u001b[38;5;28;01mif\u001b[39;00m loc\u001b[38;5;241m.\u001b[39mdtype \u001b[38;5;241m==\u001b[39m np\u001b[38;5;241m.\u001b[39mbool_:\n",
      "File \u001b[0;32m/usr/local/lib/python3.11/site-packages/pandas/core/indexes/base.py:3654\u001b[0m, in \u001b[0;36mIndex.get_loc\u001b[0;34m(self, key)\u001b[0m\n\u001b[1;32m   3652\u001b[0m     \u001b[38;5;28;01mreturn\u001b[39;00m \u001b[38;5;28mself\u001b[39m\u001b[38;5;241m.\u001b[39m_engine\u001b[38;5;241m.\u001b[39mget_loc(casted_key)\n\u001b[1;32m   3653\u001b[0m \u001b[38;5;28;01mexcept\u001b[39;00m \u001b[38;5;167;01mKeyError\u001b[39;00m \u001b[38;5;28;01mas\u001b[39;00m err:\n\u001b[0;32m-> 3654\u001b[0m     \u001b[38;5;28;01mraise\u001b[39;00m \u001b[38;5;167;01mKeyError\u001b[39;00m(key) \u001b[38;5;28;01mfrom\u001b[39;00m \u001b[38;5;21;01merr\u001b[39;00m\n\u001b[1;32m   3655\u001b[0m \u001b[38;5;28;01mexcept\u001b[39;00m \u001b[38;5;167;01mTypeError\u001b[39;00m:\n\u001b[1;32m   3656\u001b[0m     \u001b[38;5;66;03m# If we have a listlike key, _check_indexing_error will raise\u001b[39;00m\n\u001b[1;32m   3657\u001b[0m     \u001b[38;5;66;03m#  InvalidIndexError. Otherwise we fall through and re-raise\u001b[39;00m\n\u001b[1;32m   3658\u001b[0m     \u001b[38;5;66;03m#  the TypeError.\u001b[39;00m\n\u001b[1;32m   3659\u001b[0m     \u001b[38;5;28mself\u001b[39m\u001b[38;5;241m.\u001b[39m_check_indexing_error(key)\n",
      "\u001b[0;31mKeyError\u001b[0m: 'Non existent company'"
     ]
    }
   ],
   "source": [
    "# this code will fail\n",
    "s.loc[\"Non existent company\"]"
   ]
  },
  {
   "cell_type": "code",
   "execution_count": 11,
   "id": "7d454cfd-6277-460f-a943-c2aa09b611ac",
   "metadata": {},
   "outputs": [
    {
     "ename": "IndexError",
     "evalue": "single positional indexer is out-of-bounds",
     "output_type": "error",
     "traceback": [
      "\u001b[0;31m---------------------------------------------------------------------------\u001b[0m",
      "\u001b[0;31mIndexError\u001b[0m                                Traceback (most recent call last)",
      "Cell \u001b[0;32mIn[11], line 3\u001b[0m\n\u001b[1;32m      1\u001b[0m \u001b[38;5;66;03m# This code also fails, 132 it's out of boundaries\u001b[39;00m\n\u001b[1;32m      2\u001b[0m \u001b[38;5;66;03m# (there are not so many elements in the Series)\u001b[39;00m\n\u001b[0;32m----> 3\u001b[0m \u001b[43ms\u001b[49m\u001b[38;5;241;43m.\u001b[39;49m\u001b[43miloc\u001b[49m\u001b[43m[\u001b[49m\u001b[38;5;241;43m132\u001b[39;49m\u001b[43m]\u001b[49m\n",
      "File \u001b[0;32m/usr/local/lib/python3.11/site-packages/pandas/core/indexing.py:1103\u001b[0m, in \u001b[0;36m_LocationIndexer.__getitem__\u001b[0;34m(self, key)\u001b[0m\n\u001b[1;32m   1100\u001b[0m axis \u001b[38;5;241m=\u001b[39m \u001b[38;5;28mself\u001b[39m\u001b[38;5;241m.\u001b[39maxis \u001b[38;5;129;01mor\u001b[39;00m \u001b[38;5;241m0\u001b[39m\n\u001b[1;32m   1102\u001b[0m maybe_callable \u001b[38;5;241m=\u001b[39m com\u001b[38;5;241m.\u001b[39mapply_if_callable(key, \u001b[38;5;28mself\u001b[39m\u001b[38;5;241m.\u001b[39mobj)\n\u001b[0;32m-> 1103\u001b[0m \u001b[38;5;28;01mreturn\u001b[39;00m \u001b[38;5;28;43mself\u001b[39;49m\u001b[38;5;241;43m.\u001b[39;49m\u001b[43m_getitem_axis\u001b[49m\u001b[43m(\u001b[49m\u001b[43mmaybe_callable\u001b[49m\u001b[43m,\u001b[49m\u001b[43m \u001b[49m\u001b[43maxis\u001b[49m\u001b[38;5;241;43m=\u001b[39;49m\u001b[43maxis\u001b[49m\u001b[43m)\u001b[49m\n",
      "File \u001b[0;32m/usr/local/lib/python3.11/site-packages/pandas/core/indexing.py:1656\u001b[0m, in \u001b[0;36m_iLocIndexer._getitem_axis\u001b[0;34m(self, key, axis)\u001b[0m\n\u001b[1;32m   1653\u001b[0m     \u001b[38;5;28;01mraise\u001b[39;00m \u001b[38;5;167;01mTypeError\u001b[39;00m(\u001b[38;5;124m\"\u001b[39m\u001b[38;5;124mCannot index by location index with a non-integer key\u001b[39m\u001b[38;5;124m\"\u001b[39m)\n\u001b[1;32m   1655\u001b[0m \u001b[38;5;66;03m# validate the location\u001b[39;00m\n\u001b[0;32m-> 1656\u001b[0m \u001b[38;5;28;43mself\u001b[39;49m\u001b[38;5;241;43m.\u001b[39;49m\u001b[43m_validate_integer\u001b[49m\u001b[43m(\u001b[49m\u001b[43mkey\u001b[49m\u001b[43m,\u001b[49m\u001b[43m \u001b[49m\u001b[43maxis\u001b[49m\u001b[43m)\u001b[49m\n\u001b[1;32m   1658\u001b[0m \u001b[38;5;28;01mreturn\u001b[39;00m \u001b[38;5;28mself\u001b[39m\u001b[38;5;241m.\u001b[39mobj\u001b[38;5;241m.\u001b[39m_ixs(key, axis\u001b[38;5;241m=\u001b[39maxis)\n",
      "File \u001b[0;32m/usr/local/lib/python3.11/site-packages/pandas/core/indexing.py:1589\u001b[0m, in \u001b[0;36m_iLocIndexer._validate_integer\u001b[0;34m(self, key, axis)\u001b[0m\n\u001b[1;32m   1587\u001b[0m len_axis \u001b[38;5;241m=\u001b[39m \u001b[38;5;28mlen\u001b[39m(\u001b[38;5;28mself\u001b[39m\u001b[38;5;241m.\u001b[39mobj\u001b[38;5;241m.\u001b[39m_get_axis(axis))\n\u001b[1;32m   1588\u001b[0m \u001b[38;5;28;01mif\u001b[39;00m key \u001b[38;5;241m>\u001b[39m\u001b[38;5;241m=\u001b[39m len_axis \u001b[38;5;129;01mor\u001b[39;00m key \u001b[38;5;241m<\u001b[39m \u001b[38;5;241m-\u001b[39mlen_axis:\n\u001b[0;32m-> 1589\u001b[0m     \u001b[38;5;28;01mraise\u001b[39;00m \u001b[38;5;167;01mIndexError\u001b[39;00m(\u001b[38;5;124m\"\u001b[39m\u001b[38;5;124msingle positional indexer is out-of-bounds\u001b[39m\u001b[38;5;124m\"\u001b[39m)\n",
      "\u001b[0;31mIndexError\u001b[0m: single positional indexer is out-of-bounds"
     ]
    }
   ],
   "source": [
    "# This code also fails, 132 it's out of boundaries\n",
    "# (there are not so many elements in the Series)\n",
    "s.iloc[132]"
   ]
  },
  {
   "cell_type": "markdown",
   "id": "4e9be139-7cd8-41d2-96c1-63e712392160",
   "metadata": {},
   "source": [
    "We could prevent these errors using the membership check `in`:"
   ]
  },
  {
   "cell_type": "code",
   "execution_count": 12,
   "id": "2b1df7fb-dae5-4584-9ed8-50e651d7f290",
   "metadata": {},
   "outputs": [
    {
     "data": {
      "text/plain": [
       "True"
      ]
     },
     "execution_count": 12,
     "metadata": {},
     "output_type": "execute_result"
    }
   ],
   "source": [
    "\"Apple\" in s"
   ]
  },
  {
   "cell_type": "code",
   "execution_count": 13,
   "id": "cc048606-b821-494f-8d1e-2cf597033b0e",
   "metadata": {},
   "outputs": [
    {
     "data": {
      "text/plain": [
       "False"
      ]
     },
     "execution_count": 13,
     "metadata": {},
     "output_type": "execute_result"
    }
   ],
   "source": [
    "\"Snapchat\" in s"
   ]
  },
  {
   "cell_type": "markdown",
   "id": "2c552c35-8a1c-4f01-899f-3ac50850a960",
   "metadata": {},
   "source": [
    "#### Multiple selection:"
   ]
  },
  {
   "cell_type": "markdown",
   "id": "f92e3620-d420-48ea-807a-1f9ad4dd13c4",
   "metadata": {},
   "source": [
    "By index:"
   ]
  },
  {
   "cell_type": "code",
   "execution_count": 14,
   "id": "493648f6-ad43-40a1-9d4c-338737cec3ae",
   "metadata": {},
   "outputs": [
    {
     "data": {
      "text/plain": [
       "Apple    274515\n",
       "Intel     77867\n",
       "Sony      84893\n",
       "Name: Top Technology Companies by Revenue, dtype: int64"
      ]
     },
     "execution_count": 14,
     "metadata": {},
     "output_type": "execute_result"
    }
   ],
   "source": [
    "s[['Apple', 'Intel', 'Sony']]"
   ]
  },
  {
   "cell_type": "markdown",
   "id": "84757d08-cc33-423f-a1d4-3e04ca7445ec",
   "metadata": {},
   "source": [
    "By position:"
   ]
  },
  {
   "cell_type": "code",
   "execution_count": 15,
   "id": "dc23f4d5-ae5a-4877-82a9-dfbeaa37dc9c",
   "metadata": {},
   "outputs": [
    {
     "data": {
      "text/plain": [
       "Apple        274515\n",
       "Huawei       129184\n",
       "Panasonic     63191\n",
       "Name: Top Technology Companies by Revenue, dtype: int64"
      ]
     },
     "execution_count": 15,
     "metadata": {},
     "output_type": "execute_result"
    }
   ],
   "source": [
    "s.iloc[[0, 5, -1]]"
   ]
  },
  {
   "cell_type": "markdown",
   "id": "e63eeb1c-91b8-42ac-a1e1-48bb568c1f73",
   "metadata": {},
   "source": [
    "#### Activities:"
   ]
  },
  {
   "cell_type": "markdown",
   "id": "b823f42b-4390-49f2-9e05-2abe639c629d",
   "metadata": {},
   "source": [
    "##### 2. Check your knowledge: location by index\n",
    "\n",
    "Select the revenue of `Intel` and store it in a variable named `intel_revenue`:"
   ]
  },
  {
   "cell_type": "code",
   "execution_count": 16,
   "id": "0d9d3039-633e-4e52-925a-19ef26bac278",
   "metadata": {},
   "outputs": [],
   "source": [
    "intel_revenue = s.loc['Intel']"
   ]
  },
  {
   "cell_type": "markdown",
   "id": "41ebef24-542e-43fa-b9a9-ebdcdd2a46ef",
   "metadata": {},
   "source": [
    "##### 3. Check your knowledge: location by position\n",
    "\n",
    "Select the revenue of the \"second to last\" element in our series `s` and store it in a variable named `second_to_last`:"
   ]
  },
  {
   "cell_type": "code",
   "execution_count": 17,
   "id": "a47482c4-fcd2-4089-a848-98b44a3cb4fc",
   "metadata": {},
   "outputs": [],
   "source": [
    "second_to_last = s.iloc[-2]"
   ]
  },
  {
   "cell_type": "markdown",
   "id": "d6309e36-a88e-4ec0-972f-98dfbeae0d2b",
   "metadata": {},
   "source": [
    "##### 4. Check your knowledge: multiple selection\n",
    "\n",
    "Use multiple label selection to retrieve the revenues of the companies:\n",
    "\n",
    "* Samsung\n",
    "* Dell Technologies\n",
    "* Panasonic\n",
    "* Microsoft"
   ]
  },
  {
   "cell_type": "code",
   "execution_count": 18,
   "id": "1b341341-6467-4594-9124-6d3854884f21",
   "metadata": {},
   "outputs": [
    {
     "data": {
      "text/plain": [
       "Samsung              200734\n",
       "Dell Technologies     92224\n",
       "Panasonic             63191\n",
       "Microsoft            143015\n",
       "Name: Top Technology Companies by Revenue, dtype: int64"
      ]
     },
     "execution_count": 18,
     "metadata": {},
     "output_type": "execute_result"
    }
   ],
   "source": [
    "sub_series = s.loc[['Samsung','Dell Technologies','Panasonic','Microsoft']]\n",
    "sub_series"
   ]
  },
  {
   "cell_type": "markdown",
   "id": "632344ce-c0d8-4d0b-842b-d64ecf2a7a18",
   "metadata": {},
   "source": [
    "### Series Attributes and Methods"
   ]
  },
  {
   "cell_type": "code",
   "execution_count": 19,
   "id": "e9c041ef-d81b-4510-a672-0200095185bd",
   "metadata": {},
   "outputs": [
    {
     "data": {
      "text/plain": [
       "Apple        274515\n",
       "Samsung      200734\n",
       "Alphabet     182527\n",
       "Foxconn      181945\n",
       "Microsoft    143015\n",
       "Name: Top Technology Companies by Revenue, dtype: int64"
      ]
     },
     "execution_count": 19,
     "metadata": {},
     "output_type": "execute_result"
    }
   ],
   "source": [
    "s.head()"
   ]
  },
  {
   "cell_type": "code",
   "execution_count": 20,
   "id": "5def68eb-57fb-406b-9b7a-172bea253607",
   "metadata": {},
   "outputs": [
    {
     "data": {
      "text/plain": [
       "Hitachi      82345\n",
       "Intel        77867\n",
       "IBM          73620\n",
       "Tencent      69864\n",
       "Panasonic    63191\n",
       "Name: Top Technology Companies by Revenue, dtype: int64"
      ]
     },
     "execution_count": 20,
     "metadata": {},
     "output_type": "execute_result"
    }
   ],
   "source": [
    "s.tail()"
   ]
  },
  {
   "cell_type": "markdown",
   "id": "98ee9059-ebcd-43c7-bcae-4f0044db9ea1",
   "metadata": {},
   "source": [
    "#### Main Attributes"
   ]
  },
  {
   "cell_type": "markdown",
   "id": "6af17db3-b2bc-447d-8dd9-6e56356df64f",
   "metadata": {},
   "source": [
    "The underlying data:"
   ]
  },
  {
   "cell_type": "code",
   "execution_count": 21,
   "id": "32810d05-7345-4ef4-92f1-4048d48ecaad",
   "metadata": {},
   "outputs": [
    {
     "data": {
      "text/plain": [
       "array([274515, 200734, 182527, 181945, 143015, 129184,  92224,  85965,\n",
       "        84893,  82345,  77867,  73620,  69864,  63191])"
      ]
     },
     "execution_count": 21,
     "metadata": {},
     "output_type": "execute_result"
    }
   ],
   "source": [
    "s.values"
   ]
  },
  {
   "cell_type": "markdown",
   "id": "fb7e5f83-5132-470b-99e3-6d144f641b0b",
   "metadata": {},
   "source": [
    "The index:"
   ]
  },
  {
   "cell_type": "code",
   "execution_count": 22,
   "id": "e3f98a0f-73ad-4a9d-b75a-a31bf956901e",
   "metadata": {},
   "outputs": [
    {
     "data": {
      "text/plain": [
       "Index(['Apple', 'Samsung', 'Alphabet', 'Foxconn', 'Microsoft', 'Huawei',\n",
       "       'Dell Technologies', 'Meta', 'Sony', 'Hitachi', 'Intel', 'IBM',\n",
       "       'Tencent', 'Panasonic'],\n",
       "      dtype='object')"
      ]
     },
     "execution_count": 22,
     "metadata": {},
     "output_type": "execute_result"
    }
   ],
   "source": [
    "s.index"
   ]
  },
  {
   "cell_type": "markdown",
   "id": "1945ced3-efa6-49d1-9dee-2bcbf880ee08",
   "metadata": {},
   "source": [
    "The name (if any):"
   ]
  },
  {
   "cell_type": "code",
   "execution_count": 23,
   "id": "effc5b00-cfce-466f-b460-59d4a1cb3963",
   "metadata": {},
   "outputs": [
    {
     "data": {
      "text/plain": [
       "'Top Technology Companies by Revenue'"
      ]
     },
     "execution_count": 23,
     "metadata": {},
     "output_type": "execute_result"
    }
   ],
   "source": [
    "s.name"
   ]
  },
  {
   "cell_type": "markdown",
   "id": "585dd5ea-33f1-4a02-98cd-3ddaa76323ca",
   "metadata": {},
   "source": [
    "The type associated with the values:"
   ]
  },
  {
   "cell_type": "code",
   "execution_count": 24,
   "id": "65944022-9582-4e7e-9d7b-2f71fa9bd7f9",
   "metadata": {},
   "outputs": [
    {
     "data": {
      "text/plain": [
       "dtype('int64')"
      ]
     },
     "execution_count": 24,
     "metadata": {},
     "output_type": "execute_result"
    }
   ],
   "source": [
    "s.dtype"
   ]
  },
  {
   "cell_type": "markdown",
   "id": "21a89c27-49a6-4562-9d13-2747e2913669",
   "metadata": {},
   "source": [
    "The size of the Series:"
   ]
  },
  {
   "cell_type": "code",
   "execution_count": 25,
   "id": "12ec2e5c-98bd-4842-9cfb-4273d6e5b577",
   "metadata": {},
   "outputs": [
    {
     "data": {
      "text/plain": [
       "14"
      ]
     },
     "execution_count": 25,
     "metadata": {},
     "output_type": "execute_result"
    }
   ],
   "source": [
    "s.size"
   ]
  },
  {
   "cell_type": "markdown",
   "id": "30c2a574-e911-4279-8454-14ebe5350c04",
   "metadata": {},
   "source": [
    "`len` also works:"
   ]
  },
  {
   "cell_type": "code",
   "execution_count": 26,
   "id": "8d04d3db-12d5-4a0e-9c98-3b7d860f202c",
   "metadata": {},
   "outputs": [
    {
     "data": {
      "text/plain": [
       "14"
      ]
     },
     "execution_count": 26,
     "metadata": {},
     "output_type": "execute_result"
    }
   ],
   "source": [
    "len(s)"
   ]
  },
  {
   "cell_type": "markdown",
   "id": "35eb0034-659a-4836-8540-550e00eb7b61",
   "metadata": {},
   "source": [
    "#### Statistical methods"
   ]
  },
  {
   "cell_type": "code",
   "execution_count": 27,
   "id": "4ba9aeec-cf3a-465f-a12e-226c7c45bf42",
   "metadata": {},
   "outputs": [
    {
     "data": {
      "text/plain": [
       "count        14.000000\n",
       "mean     124420.642857\n",
       "std       63686.481231\n",
       "min       63191.000000\n",
       "25%       78986.500000\n",
       "50%       89094.500000\n",
       "75%      172212.500000\n",
       "max      274515.000000\n",
       "Name: Top Technology Companies by Revenue, dtype: float64"
      ]
     },
     "execution_count": 27,
     "metadata": {},
     "output_type": "execute_result"
    }
   ],
   "source": [
    "s.describe()"
   ]
  },
  {
   "cell_type": "code",
   "execution_count": 28,
   "id": "692fd72b-e6b1-4c9c-8def-012c2c5b43f2",
   "metadata": {},
   "outputs": [
    {
     "data": {
      "text/plain": [
       "124420.64285714286"
      ]
     },
     "execution_count": 28,
     "metadata": {},
     "output_type": "execute_result"
    }
   ],
   "source": [
    "s.mean()"
   ]
  },
  {
   "cell_type": "code",
   "execution_count": 29,
   "id": "146612c0-46d4-42b1-8529-8faeae9ad7cf",
   "metadata": {},
   "outputs": [
    {
     "data": {
      "text/plain": [
       "89094.5"
      ]
     },
     "execution_count": 29,
     "metadata": {},
     "output_type": "execute_result"
    }
   ],
   "source": [
    "s.median()"
   ]
  },
  {
   "cell_type": "code",
   "execution_count": 30,
   "id": "4ecb0791-4670-423f-af47-089874906ce9",
   "metadata": {},
   "outputs": [
    {
     "data": {
      "text/plain": [
       "63686.48123135607"
      ]
     },
     "execution_count": 30,
     "metadata": {},
     "output_type": "execute_result"
    }
   ],
   "source": [
    "s.std()"
   ]
  },
  {
   "cell_type": "code",
   "execution_count": 31,
   "id": "734ad0de-4824-4b17-b2a0-8b305f18fd49",
   "metadata": {},
   "outputs": [
    {
     "data": {
      "text/plain": [
       "(63191, 274515)"
      ]
     },
     "execution_count": 31,
     "metadata": {},
     "output_type": "execute_result"
    }
   ],
   "source": [
    "s.min(), s.max()"
   ]
  },
  {
   "cell_type": "code",
   "execution_count": 32,
   "id": "62ea2b3f-263b-49ed-80ff-a8fabe6db41e",
   "metadata": {},
   "outputs": [
    {
     "data": {
      "text/plain": [
       "172212.5"
      ]
     },
     "execution_count": 32,
     "metadata": {},
     "output_type": "execute_result"
    }
   ],
   "source": [
    "s.quantile(.75)"
   ]
  },
  {
   "cell_type": "code",
   "execution_count": 33,
   "id": "0edb2eb0-8762-47f5-892c-ffa280061c81",
   "metadata": {},
   "outputs": [
    {
     "data": {
      "text/plain": [
       "264923.47"
      ]
     },
     "execution_count": 33,
     "metadata": {},
     "output_type": "execute_result"
    }
   ],
   "source": [
    "s.quantile(.99)"
   ]
  },
  {
   "cell_type": "markdown",
   "id": "378a8aa5",
   "metadata": {},
   "source": [
    "### Activities"
   ]
  },
  {
   "cell_type": "code",
   "execution_count": 34,
   "id": "c9a57867",
   "metadata": {},
   "outputs": [
    {
     "data": {
      "text/plain": [
       "Meta                  85965\n",
       "IBM                   73620\n",
       "Microsoft            143015\n",
       "Dell Technologies     92224\n",
       "Apple                274515\n",
       "Intel                 77867\n",
       "Alphabet             182527\n",
       "Name: Top Technology Companies by Revenue, dtype: int64"
      ]
     },
     "execution_count": 34,
     "metadata": {},
     "output_type": "execute_result"
    }
   ],
   "source": [
    "# Run this cell to complete the activity\n",
    "american_companies = s[[\n",
    "    'Meta', 'IBM', 'Microsoft',\n",
    "    'Dell Technologies', 'Apple', 'Intel', 'Alphabet'\n",
    "]]\n",
    "american_companies"
   ]
  },
  {
   "cell_type": "markdown",
   "id": "975d2f20",
   "metadata": {},
   "source": [
    "##### 5. What's the average revenue of American Companies?"
   ]
  },
  {
   "cell_type": "code",
   "execution_count": 35,
   "id": "44ee5f4b-9561-487f-a073-ba3a0107e418",
   "metadata": {},
   "outputs": [
    {
     "data": {
      "text/plain": [
       "132819.0"
      ]
     },
     "execution_count": 35,
     "metadata": {},
     "output_type": "execute_result"
    }
   ],
   "source": [
    "american_companies.mean()"
   ]
  },
  {
   "cell_type": "markdown",
   "id": "f3490457",
   "metadata": {},
   "source": [
    "##### 6. What's the median revenue of American Companies?"
   ]
  },
  {
   "cell_type": "code",
   "execution_count": 36,
   "id": "240784fe",
   "metadata": {},
   "outputs": [
    {
     "data": {
      "text/plain": [
       "92224.0"
      ]
     },
     "execution_count": 36,
     "metadata": {},
     "output_type": "execute_result"
    }
   ],
   "source": [
    "american_companies.median()"
   ]
  },
  {
   "cell_type": "markdown",
   "id": "f2e3a6ba-748c-4118-a380-3f2e1d009646",
   "metadata": {},
   "source": [
    "### Sorting Series"
   ]
  },
  {
   "cell_type": "markdown",
   "id": "6867e75c-e669-4828-bb5d-45f32c5589bf",
   "metadata": {},
   "source": [
    "#### Sorting by values or Index"
   ]
  },
  {
   "cell_type": "markdown",
   "id": "af76f916-845f-4e6b-976f-18674d6235b3",
   "metadata": {},
   "source": [
    "Sorting by values, notice it's in \"ascending mode\":"
   ]
  },
  {
   "cell_type": "code",
   "execution_count": 37,
   "id": "925d032d-82f6-4e64-ab3f-0498e9f16101",
   "metadata": {},
   "outputs": [
    {
     "data": {
      "text/plain": [
       "Panasonic             63191\n",
       "Tencent               69864\n",
       "IBM                   73620\n",
       "Intel                 77867\n",
       "Hitachi               82345\n",
       "Sony                  84893\n",
       "Meta                  85965\n",
       "Dell Technologies     92224\n",
       "Huawei               129184\n",
       "Microsoft            143015\n",
       "Foxconn              181945\n",
       "Alphabet             182527\n",
       "Samsung              200734\n",
       "Apple                274515\n",
       "Name: Top Technology Companies by Revenue, dtype: int64"
      ]
     },
     "execution_count": 37,
     "metadata": {},
     "output_type": "execute_result"
    }
   ],
   "source": [
    "s.sort_values()"
   ]
  },
  {
   "cell_type": "markdown",
   "id": "83fede40-6a74-456f-9f30-f404cc58b7b1",
   "metadata": {},
   "source": [
    "Sorting by index (lexicographically by company's name), notice it's in ascending mode:"
   ]
  },
  {
   "cell_type": "code",
   "execution_count": 38,
   "id": "19f08e2f-a728-43c9-b807-a52146787905",
   "metadata": {},
   "outputs": [
    {
     "data": {
      "text/plain": [
       "Alphabet             182527\n",
       "Apple                274515\n",
       "Dell Technologies     92224\n",
       "Foxconn              181945\n",
       "Hitachi               82345\n",
       "Huawei               129184\n",
       "IBM                   73620\n",
       "Intel                 77867\n",
       "Meta                  85965\n",
       "Microsoft            143015\n",
       "Panasonic             63191\n",
       "Samsung              200734\n",
       "Sony                  84893\n",
       "Tencent               69864\n",
       "Name: Top Technology Companies by Revenue, dtype: int64"
      ]
     },
     "execution_count": 38,
     "metadata": {},
     "output_type": "execute_result"
    }
   ],
   "source": [
    "s.sort_index()"
   ]
  },
  {
   "cell_type": "markdown",
   "id": "f351a3cc-8ec7-4ca0-ac4a-aaff34c65530",
   "metadata": {},
   "source": [
    "To sort in descending mode:"
   ]
  },
  {
   "cell_type": "code",
   "execution_count": 39,
   "id": "a0e9bd19-8d05-4cf6-850c-8f031a0f4274",
   "metadata": {},
   "outputs": [
    {
     "data": {
      "text/plain": [
       "Apple        274515\n",
       "Samsung      200734\n",
       "Alphabet     182527\n",
       "Foxconn      181945\n",
       "Microsoft    143015\n",
       "Name: Top Technology Companies by Revenue, dtype: int64"
      ]
     },
     "execution_count": 39,
     "metadata": {},
     "output_type": "execute_result"
    }
   ],
   "source": [
    "s.sort_values(ascending=False).head()"
   ]
  },
  {
   "cell_type": "code",
   "execution_count": 40,
   "id": "89dcef37-12db-48be-b611-dcc577f8b60c",
   "metadata": {},
   "outputs": [
    {
     "data": {
      "text/plain": [
       "Tencent       69864\n",
       "Sony          84893\n",
       "Samsung      200734\n",
       "Panasonic     63191\n",
       "Microsoft    143015\n",
       "Name: Top Technology Companies by Revenue, dtype: int64"
      ]
     },
     "execution_count": 40,
     "metadata": {},
     "output_type": "execute_result"
    }
   ],
   "source": [
    "s.sort_index(ascending=False).head()"
   ]
  },
  {
   "cell_type": "markdown",
   "id": "f4c12e44",
   "metadata": {},
   "source": [
    "### Activities"
   ]
  },
  {
   "cell_type": "markdown",
   "id": "edb1acec",
   "metadata": {},
   "source": [
    "##### 7. What company has the largest revenue?"
   ]
  },
  {
   "cell_type": "code",
   "execution_count": 41,
   "id": "0820babb",
   "metadata": {},
   "outputs": [
    {
     "data": {
      "text/plain": [
       "Apple    274515\n",
       "Name: Top Technology Companies by Revenue, dtype: int64"
      ]
     },
     "execution_count": 41,
     "metadata": {},
     "output_type": "execute_result"
    }
   ],
   "source": [
    "s.sort_values(ascending=False).head(1)"
   ]
  },
  {
   "cell_type": "markdown",
   "id": "d89d8cc3",
   "metadata": {},
   "source": [
    "##### 8. Sort company names lexicographically. Which one comes first?"
   ]
  },
  {
   "cell_type": "code",
   "execution_count": 42,
   "id": "45636d6e",
   "metadata": {},
   "outputs": [
    {
     "data": {
      "text/plain": [
       "Alphabet             182527\n",
       "Apple                274515\n",
       "Dell Technologies     92224\n",
       "Foxconn              181945\n",
       "Hitachi               82345\n",
       "Huawei               129184\n",
       "IBM                   73620\n",
       "Intel                 77867\n",
       "Meta                  85965\n",
       "Microsoft            143015\n",
       "Panasonic             63191\n",
       "Samsung              200734\n",
       "Sony                  84893\n",
       "Tencent               69864\n",
       "Name: Top Technology Companies by Revenue, dtype: int64"
      ]
     },
     "execution_count": 42,
     "metadata": {},
     "output_type": "execute_result"
    }
   ],
   "source": [
    "s.sort_index()"
   ]
  },
  {
   "cell_type": "markdown",
   "id": "fbf8fc7f-4db1-49ad-b8ee-79a8020ad6ce",
   "metadata": {},
   "source": [
    "### Immutability"
   ]
  },
  {
   "cell_type": "markdown",
   "id": "c6b487a4-d1d2-4d21-abd8-d18e6eed8ef9",
   "metadata": {},
   "source": [
    "Run the sort methods above and check the series again, you'll see that `s` has NOT changed:"
   ]
  },
  {
   "cell_type": "code",
   "execution_count": 43,
   "id": "2f3daa0f-1d8e-48bb-b351-87a057cc03d1",
   "metadata": {},
   "outputs": [
    {
     "data": {
      "text/plain": [
       "Apple        274515\n",
       "Samsung      200734\n",
       "Alphabet     182527\n",
       "Foxconn      181945\n",
       "Microsoft    143015\n",
       "Name: Top Technology Companies by Revenue, dtype: int64"
      ]
     },
     "execution_count": 43,
     "metadata": {},
     "output_type": "execute_result"
    }
   ],
   "source": [
    "s.head()"
   ]
  },
  {
   "cell_type": "markdown",
   "id": "bfcf2d00-87c9-4687-bec2-7abdf09a5dea",
   "metadata": {},
   "source": [
    "We will sort the series by revenue, ascending, and we'll mutate the original one. Notice how the method doesn't return anything:"
   ]
  },
  {
   "cell_type": "code",
   "execution_count": 44,
   "id": "197719a7-78c3-43f9-9178-aaf5f777c34d",
   "metadata": {},
   "outputs": [],
   "source": [
    "s.sort_values(inplace=True)"
   ]
  },
  {
   "cell_type": "markdown",
   "id": "814abd5f-21de-46cc-afda-48c8218eadbb",
   "metadata": {},
   "source": [
    "But now the series is sorted by revenue in ascending order:"
   ]
  },
  {
   "cell_type": "code",
   "execution_count": 45,
   "id": "66cfb6a5-4a5d-4cad-8e47-3f7391768d78",
   "metadata": {},
   "outputs": [
    {
     "data": {
      "text/plain": [
       "Panasonic    63191\n",
       "Tencent      69864\n",
       "IBM          73620\n",
       "Intel        77867\n",
       "Hitachi      82345\n",
       "Name: Top Technology Companies by Revenue, dtype: int64"
      ]
     },
     "execution_count": 45,
     "metadata": {},
     "output_type": "execute_result"
    }
   ],
   "source": [
    "s.head()"
   ]
  },
  {
   "cell_type": "markdown",
   "id": "8037a69d-ff12-4511-83d4-7af393f56446",
   "metadata": {},
   "source": [
    "We'll now sort the series by index, mutating it again:"
   ]
  },
  {
   "cell_type": "code",
   "execution_count": 46,
   "id": "ab49f94d-d1b2-4938-8805-a49a5843c961",
   "metadata": {},
   "outputs": [],
   "source": [
    "s.sort_index(inplace=True)"
   ]
  },
  {
   "cell_type": "code",
   "execution_count": 47,
   "id": "0f2dcf4c-19f2-45b5-9bcd-cb8f63be8316",
   "metadata": {},
   "outputs": [
    {
     "data": {
      "text/plain": [
       "Alphabet             182527\n",
       "Apple                274515\n",
       "Dell Technologies     92224\n",
       "Foxconn              181945\n",
       "Hitachi               82345\n",
       "Name: Top Technology Companies by Revenue, dtype: int64"
      ]
     },
     "execution_count": 47,
     "metadata": {},
     "output_type": "execute_result"
    }
   ],
   "source": [
    "s.head()"
   ]
  },
  {
   "cell_type": "markdown",
   "id": "7d2660e0-1243-425d-b3d6-403c142f97d5",
   "metadata": {},
   "source": [
    "### Activities"
   ]
  },
  {
   "cell_type": "markdown",
   "id": "a95ac8d8-0b1b-470b-a5d1-b9a0ef9f44c5",
   "metadata": {},
   "source": [
    "##### 9. Sort American Companies by Revenue"
   ]
  },
  {
   "cell_type": "code",
   "execution_count": 48,
   "id": "31ceaf35-9e73-43d2-9b53-740bf7163dd7",
   "metadata": {},
   "outputs": [],
   "source": [
    "american_companies_desc = american_companies.sort_values(ascending=False)"
   ]
  },
  {
   "cell_type": "markdown",
   "id": "1a72b12e-236d-4e0b-9304-65e6821ac79a",
   "metadata": {},
   "source": [
    "##### 10. Sort (and mutate) international companies"
   ]
  },
  {
   "cell_type": "code",
   "execution_count": 49,
   "id": "4c1cafb1-2b32-486c-8a37-5556314ebe28",
   "metadata": {},
   "outputs": [
    {
     "data": {
      "text/plain": [
       "Sony          84893\n",
       "Tencent       69864\n",
       "Panasonic     63191\n",
       "Samsung      200734\n",
       "Hitachi       82345\n",
       "Foxconn      181945\n",
       "Huawei       129184\n",
       "Name: Top Technology Companies by Revenue, dtype: int64"
      ]
     },
     "execution_count": 49,
     "metadata": {},
     "output_type": "execute_result"
    }
   ],
   "source": [
    "# Run this cell to complete the activity\n",
    "international_companies = s[[\n",
    "    \"Sony\", \"Tencent\", \"Panasonic\",\n",
    "    \"Samsung\", \"Hitachi\", \"Foxconn\", \"Huawei\"\n",
    "]]\n",
    "international_companies"
   ]
  },
  {
   "cell_type": "code",
   "execution_count": 50,
   "id": "1d16ab4c-c52b-4b05-8412-6bed1330ec73",
   "metadata": {},
   "outputs": [],
   "source": [
    "international_companies_dec=international_companies.sort_values(inplace=True,ascending=False)"
   ]
  },
  {
   "cell_type": "markdown",
   "id": "ce287d59-9ae2-4b9a-8784-de0b1ba16291",
   "metadata": {},
   "source": [
    "### Modifying series"
   ]
  },
  {
   "cell_type": "markdown",
   "id": "a0c298fc-8c45-45d7-91ce-29a7e992900b",
   "metadata": {},
   "source": [
    "Modifying values:"
   ]
  },
  {
   "cell_type": "code",
   "execution_count": 51,
   "id": "a9305059-7de7-4bf8-a4bd-b24178cab6f4",
   "metadata": {},
   "outputs": [],
   "source": [
    "s['IBM']  = 0"
   ]
  },
  {
   "cell_type": "code",
   "execution_count": 52,
   "id": "28032a8e-e290-470a-9225-c525398062a4",
   "metadata": {},
   "outputs": [
    {
     "data": {
      "text/plain": [
       "IBM              0\n",
       "Panasonic    63191\n",
       "Tencent      69864\n",
       "Intel        77867\n",
       "Hitachi      82345\n",
       "Name: Top Technology Companies by Revenue, dtype: int64"
      ]
     },
     "execution_count": 52,
     "metadata": {},
     "output_type": "execute_result"
    }
   ],
   "source": [
    "s.sort_values().head()"
   ]
  },
  {
   "cell_type": "markdown",
   "id": "2eb415c2-13f7-44a2-a546-90611c6c07c0",
   "metadata": {},
   "source": [
    "Adding elements:"
   ]
  },
  {
   "cell_type": "code",
   "execution_count": 53,
   "id": "109a7f9c-1430-4a4e-9d5d-ccc96b473085",
   "metadata": {},
   "outputs": [],
   "source": [
    "s['Tesla'] = 21450"
   ]
  },
  {
   "cell_type": "code",
   "execution_count": 54,
   "id": "e0b70a67-29cb-4ef8-9373-0cb7f8786f5f",
   "metadata": {},
   "outputs": [
    {
     "data": {
      "text/plain": [
       "IBM              0\n",
       "Tesla        21450\n",
       "Panasonic    63191\n",
       "Tencent      69864\n",
       "Intel        77867\n",
       "Name: Top Technology Companies by Revenue, dtype: int64"
      ]
     },
     "execution_count": 54,
     "metadata": {},
     "output_type": "execute_result"
    }
   ],
   "source": [
    "s.sort_values().head()"
   ]
  },
  {
   "cell_type": "markdown",
   "id": "cc440a19-bd57-4708-8135-eb4be746c8e2",
   "metadata": {},
   "source": [
    "Removing elements:"
   ]
  },
  {
   "cell_type": "code",
   "execution_count": 55,
   "id": "59667aed-a347-49de-93e9-4e67ed8c104e",
   "metadata": {},
   "outputs": [],
   "source": [
    "del s['Tesla']"
   ]
  },
  {
   "cell_type": "code",
   "execution_count": 56,
   "id": "14126bf3-0054-422c-9f74-06a3430dfa5e",
   "metadata": {},
   "outputs": [
    {
     "data": {
      "text/plain": [
       "IBM              0\n",
       "Panasonic    63191\n",
       "Tencent      69864\n",
       "Intel        77867\n",
       "Hitachi      82345\n",
       "Name: Top Technology Companies by Revenue, dtype: int64"
      ]
     },
     "execution_count": 56,
     "metadata": {},
     "output_type": "execute_result"
    }
   ],
   "source": [
    "s.sort_values().head()"
   ]
  },
  {
   "cell_type": "markdown",
   "id": "5554234d-56f1-43b8-8e4e-d3e960732d31",
   "metadata": {},
   "source": [
    "### Activities"
   ]
  },
  {
   "cell_type": "markdown",
   "id": "e8e07c01-38e7-4039-9dc4-54c677ffb4a2",
   "metadata": {},
   "source": [
    "##### 11. Insert Amazon's Revenue"
   ]
  },
  {
   "cell_type": "code",
   "execution_count": 57,
   "id": "76977a0f-bc6d-4698-a59d-f72bc201d80f",
   "metadata": {},
   "outputs": [],
   "source": [
    "s['Amazon']=469822"
   ]
  },
  {
   "cell_type": "markdown",
   "id": "2d96e122-3f96-4adc-b1f2-aa97180318d8",
   "metadata": {},
   "source": [
    "##### 12. Delete the revenue of Meta"
   ]
  },
  {
   "cell_type": "code",
   "execution_count": 58,
   "id": "ad67844c-bb91-4867-a442-3014166d553f",
   "metadata": {},
   "outputs": [],
   "source": [
    "del s['Meta']"
   ]
  },
  {
   "cell_type": "markdown",
   "id": "bd6cb712-6a39-46be-bf0a-6305f239e971",
   "metadata": {},
   "source": [
    "### Concatenating Series"
   ]
  },
  {
   "cell_type": "markdown",
   "id": "2d34079f-3747-425e-a7d2-e489efb2c0b4",
   "metadata": {},
   "source": [
    "We can append series to other series using the `.concat()` method:"
   ]
  },
  {
   "cell_type": "code",
   "execution_count": 59,
   "id": "20fca931-b309-482e-a3a4-e2c500310727",
   "metadata": {},
   "outputs": [],
   "source": [
    "another_s = pd.Series([21_450, 4_120], index=['Tesla', 'Snapchat'])"
   ]
  },
  {
   "cell_type": "code",
   "execution_count": 60,
   "id": "eac87cd2-7bc1-42f4-a483-a77157b366d7",
   "metadata": {},
   "outputs": [
    {
     "data": {
      "text/plain": [
       "Tesla       21450\n",
       "Snapchat     4120\n",
       "dtype: int64"
      ]
     },
     "execution_count": 60,
     "metadata": {},
     "output_type": "execute_result"
    }
   ],
   "source": [
    "another_s"
   ]
  },
  {
   "cell_type": "code",
   "execution_count": 61,
   "id": "3a38f042-b411-4944-ada9-257da1f704fa",
   "metadata": {},
   "outputs": [],
   "source": [
    "s_new = pd.concat([s, another_s])"
   ]
  },
  {
   "cell_type": "markdown",
   "id": "03ef1ac8-6cc1-4149-ab60-0c54385f0854",
   "metadata": {},
   "source": [
    "The original series `s` is not modified:"
   ]
  },
  {
   "cell_type": "code",
   "execution_count": 62,
   "id": "2bc017a6-55dd-41d7-bc8a-1acffefa9b52",
   "metadata": {},
   "outputs": [
    {
     "data": {
      "text/plain": [
       "Alphabet             182527\n",
       "Apple                274515\n",
       "Dell Technologies     92224\n",
       "Foxconn              181945\n",
       "Hitachi               82345\n",
       "Huawei               129184\n",
       "IBM                       0\n",
       "Intel                 77867\n",
       "Microsoft            143015\n",
       "Panasonic             63191\n",
       "Samsung              200734\n",
       "Sony                  84893\n",
       "Tencent               69864\n",
       "Amazon               469822\n",
       "Name: Top Technology Companies by Revenue, dtype: int64"
      ]
     },
     "execution_count": 62,
     "metadata": {},
     "output_type": "execute_result"
    }
   ],
   "source": [
    "s"
   ]
  },
  {
   "cell_type": "markdown",
   "id": "56f8e20b",
   "metadata": {},
   "source": [
    "`s_new` is the concatenation of `s` and `s2`:"
   ]
  },
  {
   "cell_type": "code",
   "execution_count": 63,
   "id": "ec0b91e8",
   "metadata": {},
   "outputs": [
    {
     "data": {
      "text/plain": [
       "Alphabet             182527\n",
       "Apple                274515\n",
       "Dell Technologies     92224\n",
       "Foxconn              181945\n",
       "Hitachi               82345\n",
       "Huawei               129184\n",
       "IBM                       0\n",
       "Intel                 77867\n",
       "Microsoft            143015\n",
       "Panasonic             63191\n",
       "Samsung              200734\n",
       "Sony                  84893\n",
       "Tencent               69864\n",
       "Amazon               469822\n",
       "Tesla                 21450\n",
       "Snapchat               4120\n",
       "dtype: int64"
      ]
     },
     "execution_count": 63,
     "metadata": {},
     "output_type": "execute_result"
    }
   ],
   "source": [
    "s_new"
   ]
  },
  {
   "cell_type": "markdown",
   "id": "5d1d9560",
   "metadata": {},
   "source": [
    "### The End!"
   ]
  },
  {
   "cell_type": "code",
   "execution_count": null,
   "id": "360252e5",
   "metadata": {},
   "outputs": [],
   "source": []
  }
 ],
 "metadata": {
  "kernelspec": {
   "display_name": "Python 3",
   "language": "python",
   "name": "python3"
  },
  "language_info": {
   "codemirror_mode": {
    "name": "ipython",
    "version": 3
   },
   "file_extension": ".py",
   "mimetype": "text/x-python",
   "name": "python",
   "nbconvert_exporter": "python",
   "pygments_lexer": "ipython3",
   "version": "3.8.8"
  }
 },
 "nbformat": 4,
 "nbformat_minor": 5
}
