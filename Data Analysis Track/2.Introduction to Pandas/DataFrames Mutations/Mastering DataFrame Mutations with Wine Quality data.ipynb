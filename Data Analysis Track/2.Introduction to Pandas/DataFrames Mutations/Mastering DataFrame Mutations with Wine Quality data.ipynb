{
 "cells": [
  {
   "cell_type": "code",
   "execution_count": 1,
   "id": "f0aa74b9",
   "metadata": {
    "id": "qpgzGKUfXouS"
   },
   "outputs": [],
   "source": [
    "import pandas as pd\n",
    "import numpy as np"
   ]
  },
  {
   "cell_type": "markdown",
   "id": "6d719443",
   "metadata": {
    "id": "35RGI69kKBlF"
   },
   "source": [
    "# Basic Analysis"
   ]
  },
  {
   "cell_type": "code",
   "execution_count": 2,
   "id": "3d51258a",
   "metadata": {
    "id": "bxVN_Ts4YVhL"
   },
   "outputs": [],
   "source": [
    "wine_quality_df = pd.read_csv('winequality-red.csv', sep= ';')"
   ]
  },
  {
   "cell_type": "code",
   "execution_count": 3,
   "id": "bb9fd249",
   "metadata": {
    "colab": {
     "base_uri": "https://localhost:8080/",
     "height": 206
    },
    "id": "kYwQcAVQYd13",
    "outputId": "d95c3c1c-df1d-4158-d455-253198b5cab6"
   },
   "outputs": [
    {
     "data": {
      "text/html": [
       "<div>\n",
       "<style scoped>\n",
       "    .dataframe tbody tr th:only-of-type {\n",
       "        vertical-align: middle;\n",
       "    }\n",
       "\n",
       "    .dataframe tbody tr th {\n",
       "        vertical-align: top;\n",
       "    }\n",
       "\n",
       "    .dataframe thead th {\n",
       "        text-align: right;\n",
       "    }\n",
       "</style>\n",
       "<table border=\"1\" class=\"dataframe\">\n",
       "  <thead>\n",
       "    <tr style=\"text-align: right;\">\n",
       "      <th></th>\n",
       "      <th>fixed acidity</th>\n",
       "      <th>volatile acidity</th>\n",
       "      <th>citric acid</th>\n",
       "      <th>residual sugar</th>\n",
       "      <th>chlorides</th>\n",
       "      <th>free sulfur dioxide</th>\n",
       "      <th>total sulfur dioxide</th>\n",
       "      <th>density</th>\n",
       "      <th>pH</th>\n",
       "      <th>sulphates</th>\n",
       "      <th>alcohol</th>\n",
       "      <th>quality</th>\n",
       "    </tr>\n",
       "  </thead>\n",
       "  <tbody>\n",
       "    <tr>\n",
       "      <th>0</th>\n",
       "      <td>7.4</td>\n",
       "      <td>0.70</td>\n",
       "      <td>0.00</td>\n",
       "      <td>1.9</td>\n",
       "      <td>0.076</td>\n",
       "      <td>11.0</td>\n",
       "      <td>34.0</td>\n",
       "      <td>0.9978</td>\n",
       "      <td>3.51</td>\n",
       "      <td>0.56</td>\n",
       "      <td>9.4</td>\n",
       "      <td>5</td>\n",
       "    </tr>\n",
       "    <tr>\n",
       "      <th>1</th>\n",
       "      <td>7.8</td>\n",
       "      <td>0.88</td>\n",
       "      <td>0.00</td>\n",
       "      <td>2.6</td>\n",
       "      <td>0.098</td>\n",
       "      <td>25.0</td>\n",
       "      <td>67.0</td>\n",
       "      <td>0.9968</td>\n",
       "      <td>3.20</td>\n",
       "      <td>0.68</td>\n",
       "      <td>9.8</td>\n",
       "      <td>5</td>\n",
       "    </tr>\n",
       "    <tr>\n",
       "      <th>2</th>\n",
       "      <td>7.8</td>\n",
       "      <td>0.76</td>\n",
       "      <td>0.04</td>\n",
       "      <td>2.3</td>\n",
       "      <td>0.092</td>\n",
       "      <td>15.0</td>\n",
       "      <td>54.0</td>\n",
       "      <td>0.9970</td>\n",
       "      <td>3.26</td>\n",
       "      <td>0.65</td>\n",
       "      <td>9.8</td>\n",
       "      <td>5</td>\n",
       "    </tr>\n",
       "    <tr>\n",
       "      <th>3</th>\n",
       "      <td>11.2</td>\n",
       "      <td>0.28</td>\n",
       "      <td>0.56</td>\n",
       "      <td>1.9</td>\n",
       "      <td>0.075</td>\n",
       "      <td>17.0</td>\n",
       "      <td>60.0</td>\n",
       "      <td>0.9980</td>\n",
       "      <td>3.16</td>\n",
       "      <td>0.58</td>\n",
       "      <td>9.8</td>\n",
       "      <td>6</td>\n",
       "    </tr>\n",
       "    <tr>\n",
       "      <th>4</th>\n",
       "      <td>7.4</td>\n",
       "      <td>0.70</td>\n",
       "      <td>0.00</td>\n",
       "      <td>1.9</td>\n",
       "      <td>0.076</td>\n",
       "      <td>11.0</td>\n",
       "      <td>34.0</td>\n",
       "      <td>0.9978</td>\n",
       "      <td>3.51</td>\n",
       "      <td>0.56</td>\n",
       "      <td>9.4</td>\n",
       "      <td>5</td>\n",
       "    </tr>\n",
       "  </tbody>\n",
       "</table>\n",
       "</div>"
      ],
      "text/plain": [
       "   fixed acidity  volatile acidity  citric acid  residual sugar  chlorides   \n",
       "0            7.4              0.70         0.00             1.9      0.076  \\\n",
       "1            7.8              0.88         0.00             2.6      0.098   \n",
       "2            7.8              0.76         0.04             2.3      0.092   \n",
       "3           11.2              0.28         0.56             1.9      0.075   \n",
       "4            7.4              0.70         0.00             1.9      0.076   \n",
       "\n",
       "   free sulfur dioxide  total sulfur dioxide  density    pH  sulphates   \n",
       "0                 11.0                  34.0   0.9978  3.51       0.56  \\\n",
       "1                 25.0                  67.0   0.9968  3.20       0.68   \n",
       "2                 15.0                  54.0   0.9970  3.26       0.65   \n",
       "3                 17.0                  60.0   0.9980  3.16       0.58   \n",
       "4                 11.0                  34.0   0.9978  3.51       0.56   \n",
       "\n",
       "   alcohol  quality  \n",
       "0      9.4        5  \n",
       "1      9.8        5  \n",
       "2      9.8        5  \n",
       "3      9.8        6  \n",
       "4      9.4        5  "
      ]
     },
     "execution_count": 3,
     "metadata": {},
     "output_type": "execute_result"
    }
   ],
   "source": [
    "wine_quality_df.head()"
   ]
  },
  {
   "cell_type": "code",
   "execution_count": 4,
   "id": "4d5499e9",
   "metadata": {
    "colab": {
     "base_uri": "https://localhost:8080/"
    },
    "id": "lArfEBBjY6ct",
    "outputId": "45f9c972-d44b-420e-9d26-07d07b3f51cb"
   },
   "outputs": [
    {
     "name": "stdout",
     "output_type": "stream",
     "text": [
      "<class 'pandas.core.frame.DataFrame'>\n",
      "RangeIndex: 1599 entries, 0 to 1598\n",
      "Data columns (total 12 columns):\n",
      " #   Column                Non-Null Count  Dtype  \n",
      "---  ------                --------------  -----  \n",
      " 0   fixed acidity         1599 non-null   float64\n",
      " 1   volatile acidity      1599 non-null   float64\n",
      " 2   citric acid           1599 non-null   float64\n",
      " 3   residual sugar        1599 non-null   float64\n",
      " 4   chlorides             1599 non-null   float64\n",
      " 5   free sulfur dioxide   1599 non-null   float64\n",
      " 6   total sulfur dioxide  1599 non-null   float64\n",
      " 7   density               1599 non-null   float64\n",
      " 8   pH                    1599 non-null   float64\n",
      " 9   sulphates             1599 non-null   float64\n",
      " 10  alcohol               1599 non-null   float64\n",
      " 11  quality               1599 non-null   int64  \n",
      "dtypes: float64(11), int64(1)\n",
      "memory usage: 150.0 KB\n"
     ]
    }
   ],
   "source": [
    "wine_quality_df.info()"
   ]
  },
  {
   "cell_type": "code",
   "execution_count": 5,
   "id": "5783a84a",
   "metadata": {
    "colab": {
     "base_uri": "https://localhost:8080/",
     "height": 399
    },
    "id": "wK2dB4nzY-D0",
    "outputId": "9c1ef33e-2e29-4448-d8fe-855cc05e0d0b"
   },
   "outputs": [
    {
     "data": {
      "text/html": [
       "<div>\n",
       "<style scoped>\n",
       "    .dataframe tbody tr th:only-of-type {\n",
       "        vertical-align: middle;\n",
       "    }\n",
       "\n",
       "    .dataframe tbody tr th {\n",
       "        vertical-align: top;\n",
       "    }\n",
       "\n",
       "    .dataframe thead th {\n",
       "        text-align: right;\n",
       "    }\n",
       "</style>\n",
       "<table border=\"1\" class=\"dataframe\">\n",
       "  <thead>\n",
       "    <tr style=\"text-align: right;\">\n",
       "      <th></th>\n",
       "      <th>fixed acidity</th>\n",
       "      <th>volatile acidity</th>\n",
       "      <th>citric acid</th>\n",
       "      <th>residual sugar</th>\n",
       "      <th>chlorides</th>\n",
       "      <th>free sulfur dioxide</th>\n",
       "      <th>total sulfur dioxide</th>\n",
       "      <th>density</th>\n",
       "      <th>pH</th>\n",
       "      <th>sulphates</th>\n",
       "      <th>alcohol</th>\n",
       "      <th>quality</th>\n",
       "    </tr>\n",
       "  </thead>\n",
       "  <tbody>\n",
       "    <tr>\n",
       "      <th>count</th>\n",
       "      <td>1599.000000</td>\n",
       "      <td>1599.000000</td>\n",
       "      <td>1599.000000</td>\n",
       "      <td>1599.000000</td>\n",
       "      <td>1599.000000</td>\n",
       "      <td>1599.000000</td>\n",
       "      <td>1599.000000</td>\n",
       "      <td>1599.000000</td>\n",
       "      <td>1599.000000</td>\n",
       "      <td>1599.000000</td>\n",
       "      <td>1599.000000</td>\n",
       "      <td>1599.000000</td>\n",
       "    </tr>\n",
       "    <tr>\n",
       "      <th>mean</th>\n",
       "      <td>8.319637</td>\n",
       "      <td>0.527821</td>\n",
       "      <td>0.270976</td>\n",
       "      <td>2.538806</td>\n",
       "      <td>0.087467</td>\n",
       "      <td>15.874922</td>\n",
       "      <td>46.467792</td>\n",
       "      <td>0.996747</td>\n",
       "      <td>3.311113</td>\n",
       "      <td>0.658149</td>\n",
       "      <td>10.422983</td>\n",
       "      <td>5.636023</td>\n",
       "    </tr>\n",
       "    <tr>\n",
       "      <th>std</th>\n",
       "      <td>1.741096</td>\n",
       "      <td>0.179060</td>\n",
       "      <td>0.194801</td>\n",
       "      <td>1.409928</td>\n",
       "      <td>0.047065</td>\n",
       "      <td>10.460157</td>\n",
       "      <td>32.895324</td>\n",
       "      <td>0.001887</td>\n",
       "      <td>0.154386</td>\n",
       "      <td>0.169507</td>\n",
       "      <td>1.065668</td>\n",
       "      <td>0.807569</td>\n",
       "    </tr>\n",
       "    <tr>\n",
       "      <th>min</th>\n",
       "      <td>4.600000</td>\n",
       "      <td>0.120000</td>\n",
       "      <td>0.000000</td>\n",
       "      <td>0.900000</td>\n",
       "      <td>0.012000</td>\n",
       "      <td>1.000000</td>\n",
       "      <td>6.000000</td>\n",
       "      <td>0.990070</td>\n",
       "      <td>2.740000</td>\n",
       "      <td>0.330000</td>\n",
       "      <td>8.400000</td>\n",
       "      <td>3.000000</td>\n",
       "    </tr>\n",
       "    <tr>\n",
       "      <th>25%</th>\n",
       "      <td>7.100000</td>\n",
       "      <td>0.390000</td>\n",
       "      <td>0.090000</td>\n",
       "      <td>1.900000</td>\n",
       "      <td>0.070000</td>\n",
       "      <td>7.000000</td>\n",
       "      <td>22.000000</td>\n",
       "      <td>0.995600</td>\n",
       "      <td>3.210000</td>\n",
       "      <td>0.550000</td>\n",
       "      <td>9.500000</td>\n",
       "      <td>5.000000</td>\n",
       "    </tr>\n",
       "    <tr>\n",
       "      <th>50%</th>\n",
       "      <td>7.900000</td>\n",
       "      <td>0.520000</td>\n",
       "      <td>0.260000</td>\n",
       "      <td>2.200000</td>\n",
       "      <td>0.079000</td>\n",
       "      <td>14.000000</td>\n",
       "      <td>38.000000</td>\n",
       "      <td>0.996750</td>\n",
       "      <td>3.310000</td>\n",
       "      <td>0.620000</td>\n",
       "      <td>10.200000</td>\n",
       "      <td>6.000000</td>\n",
       "    </tr>\n",
       "    <tr>\n",
       "      <th>75%</th>\n",
       "      <td>9.200000</td>\n",
       "      <td>0.640000</td>\n",
       "      <td>0.420000</td>\n",
       "      <td>2.600000</td>\n",
       "      <td>0.090000</td>\n",
       "      <td>21.000000</td>\n",
       "      <td>62.000000</td>\n",
       "      <td>0.997835</td>\n",
       "      <td>3.400000</td>\n",
       "      <td>0.730000</td>\n",
       "      <td>11.100000</td>\n",
       "      <td>6.000000</td>\n",
       "    </tr>\n",
       "    <tr>\n",
       "      <th>max</th>\n",
       "      <td>15.900000</td>\n",
       "      <td>1.580000</td>\n",
       "      <td>1.000000</td>\n",
       "      <td>15.500000</td>\n",
       "      <td>0.611000</td>\n",
       "      <td>72.000000</td>\n",
       "      <td>289.000000</td>\n",
       "      <td>1.003690</td>\n",
       "      <td>4.010000</td>\n",
       "      <td>2.000000</td>\n",
       "      <td>14.900000</td>\n",
       "      <td>8.000000</td>\n",
       "    </tr>\n",
       "  </tbody>\n",
       "</table>\n",
       "</div>"
      ],
      "text/plain": [
       "       fixed acidity  volatile acidity  citric acid  residual sugar   \n",
       "count    1599.000000       1599.000000  1599.000000     1599.000000  \\\n",
       "mean        8.319637          0.527821     0.270976        2.538806   \n",
       "std         1.741096          0.179060     0.194801        1.409928   \n",
       "min         4.600000          0.120000     0.000000        0.900000   \n",
       "25%         7.100000          0.390000     0.090000        1.900000   \n",
       "50%         7.900000          0.520000     0.260000        2.200000   \n",
       "75%         9.200000          0.640000     0.420000        2.600000   \n",
       "max        15.900000          1.580000     1.000000       15.500000   \n",
       "\n",
       "         chlorides  free sulfur dioxide  total sulfur dioxide      density   \n",
       "count  1599.000000          1599.000000           1599.000000  1599.000000  \\\n",
       "mean      0.087467            15.874922             46.467792     0.996747   \n",
       "std       0.047065            10.460157             32.895324     0.001887   \n",
       "min       0.012000             1.000000              6.000000     0.990070   \n",
       "25%       0.070000             7.000000             22.000000     0.995600   \n",
       "50%       0.079000            14.000000             38.000000     0.996750   \n",
       "75%       0.090000            21.000000             62.000000     0.997835   \n",
       "max       0.611000            72.000000            289.000000     1.003690   \n",
       "\n",
       "                pH    sulphates      alcohol      quality  \n",
       "count  1599.000000  1599.000000  1599.000000  1599.000000  \n",
       "mean      3.311113     0.658149    10.422983     5.636023  \n",
       "std       0.154386     0.169507     1.065668     0.807569  \n",
       "min       2.740000     0.330000     8.400000     3.000000  \n",
       "25%       3.210000     0.550000     9.500000     5.000000  \n",
       "50%       3.310000     0.620000    10.200000     6.000000  \n",
       "75%       3.400000     0.730000    11.100000     6.000000  \n",
       "max       4.010000     2.000000    14.900000     8.000000  "
      ]
     },
     "execution_count": 5,
     "metadata": {},
     "output_type": "execute_result"
    }
   ],
   "source": [
    "wine_quality_df.describe()"
   ]
  },
  {
   "cell_type": "markdown",
   "id": "25c5f0bf",
   "metadata": {
    "id": "UMeMN8mm6JkR"
   },
   "source": [
    "To ensure the integrity of our original data set, it's a best practice to work with a copy of the data frame when performing data manipulation. By creating a copy, we can freely experiment with various techniques and make modifications without affecting the original data. This way, we can have peace of mind knowing that the original data set remains untouched."
   ]
  },
  {
   "cell_type": "code",
   "execution_count": 6,
   "id": "531805df",
   "metadata": {
    "id": "MQAtKrih61Wv"
   },
   "outputs": [],
   "source": [
    "df = wine_quality_df.copy()"
   ]
  },
  {
   "cell_type": "markdown",
   "id": "9bf0060e",
   "metadata": {
    "id": "yCwUm0E4ctk7"
   },
   "source": [
    "**1. What is maximum amount of citric acid in the wine? Enter the answer to 1 decimal point.**"
   ]
  },
  {
   "cell_type": "code",
   "execution_count": 7,
   "id": "e6ca8280",
   "metadata": {
    "id": "90QszZ0wcmRC"
   },
   "outputs": [
    {
     "data": {
      "text/plain": [
       "1.0"
      ]
     },
     "execution_count": 7,
     "metadata": {},
     "output_type": "execute_result"
    }
   ],
   "source": [
    "df['citric acid'].max()"
   ]
  },
  {
   "cell_type": "markdown",
   "id": "8675cc68",
   "metadata": {
    "id": "b_QmTL8NeKyg"
   },
   "source": [
    "**2. How many missing values are in the dataset?**"
   ]
  },
  {
   "cell_type": "code",
   "execution_count": 8,
   "id": "6f2e8a03",
   "metadata": {
    "id": "LEQdfMhfcmpb"
   },
   "outputs": [
    {
     "data": {
      "text/plain": [
       "fixed acidity           1599\n",
       "volatile acidity        1599\n",
       "citric acid             1599\n",
       "residual sugar          1599\n",
       "chlorides               1599\n",
       "free sulfur dioxide     1599\n",
       "total sulfur dioxide    1599\n",
       "density                 1599\n",
       "pH                      1599\n",
       "sulphates               1599\n",
       "alcohol                 1599\n",
       "quality                 1599\n",
       "dtype: int64"
      ]
     },
     "execution_count": 8,
     "metadata": {},
     "output_type": "execute_result"
    }
   ],
   "source": [
    "df.isnull().count()"
   ]
  },
  {
   "cell_type": "markdown",
   "id": "3d5993c0",
   "metadata": {
    "id": "MLpxVhl6e5ow"
   },
   "source": [
    "**3. What is the median wine quality?**"
   ]
  },
  {
   "cell_type": "code",
   "execution_count": 9,
   "id": "3a0751c2",
   "metadata": {
    "id": "W2qsBHXDfU58"
   },
   "outputs": [
    {
     "data": {
      "text/plain": [
       "6.0"
      ]
     },
     "execution_count": 9,
     "metadata": {},
     "output_type": "execute_result"
    }
   ],
   "source": [
    "df['quality'].median()"
   ]
  },
  {
   "cell_type": "markdown",
   "id": "ad264d8f",
   "metadata": {
    "id": "1p78r3dCgQQ-"
   },
   "source": [
    "# Row and Column modification"
   ]
  },
  {
   "cell_type": "markdown",
   "id": "220eafdf",
   "metadata": {
    "id": "iYZAbhg-Kzqg"
   },
   "source": [
    "**4. Rename the columns to have underscore instead of space. For example old name: fixed acidity to new name: fixed_acidity**"
   ]
  },
  {
   "cell_type": "code",
   "execution_count": 10,
   "id": "39f6aee0",
   "metadata": {},
   "outputs": [
    {
     "data": {
      "text/plain": [
       "Index(['fixed acidity', 'volatile acidity', 'citric acid', 'residual sugar',\n",
       "       'chlorides', 'free sulfur dioxide', 'total sulfur dioxide', 'density',\n",
       "       'pH', 'sulphates', 'alcohol', 'quality'],\n",
       "      dtype='object')"
      ]
     },
     "execution_count": 10,
     "metadata": {},
     "output_type": "execute_result"
    }
   ],
   "source": [
    "df.columns"
   ]
  },
  {
   "cell_type": "code",
   "execution_count": 11,
   "id": "af2dc135",
   "metadata": {
    "id": "1x2pOsXRK2io"
   },
   "outputs": [],
   "source": [
    "df.rename(columns = {\"fixed acidity\": \"fixed_acidity\",\n",
    "                     \"volatile acidity\": \"volatile_acidity\",\n",
    "                     \"citric acid\": \"citric_acid\",\n",
    "                     \"residual sugar\": \"residual_sugar\",\n",
    "                     \"fixed acidity\": \"fixed_acidity\",\n",
    "                     \"free sulfur dioxide\": \"free_sulfur_dioxide\",\n",
    "                     \"total sulfur dioxide\": \"total_sulfur_dioxide\"}, inplace = True)\n"
   ]
  },
  {
   "cell_type": "code",
   "execution_count": 12,
   "id": "c8207be2",
   "metadata": {
    "id": "xtUja43tNKRP"
   },
   "outputs": [],
   "source": [
    "df.columns = ['fixed_acidity', 'volatile_acidity', 'citric_acid', 'residual_sugar',\n",
    "       'chlorides', 'free_sulfur_dioxide', 'total_sulfur_dioxide', 'density',\n",
    "       'pH', 'sulphates', 'alcohol', 'quality']\n"
   ]
  },
  {
   "cell_type": "markdown",
   "id": "900b3b73",
   "metadata": {
    "id": "yoo11edFhYzn"
   },
   "source": [
    "**5. Drop the first and last row**\n"
   ]
  },
  {
   "cell_type": "code",
   "execution_count": 13,
   "id": "134a1eb9",
   "metadata": {
    "id": "9cPEz0cyjctN"
   },
   "outputs": [
    {
     "name": "stdout",
     "output_type": "stream",
     "text": [
      "1599\n"
     ]
    },
    {
     "data": {
      "text/plain": [
       "1597"
      ]
     },
     "execution_count": 13,
     "metadata": {},
     "output_type": "execute_result"
    }
   ],
   "source": [
    "print(len(df))\n",
    "df_first_last = df.drop(df.iloc[[0,-1]].index)\n",
    "len(df_first_last)"
   ]
  },
  {
   "cell_type": "markdown",
   "id": "3cb625a8",
   "metadata": {
    "id": "oABVEuwKndUR"
   },
   "source": [
    "**6. The dataset contains an outlier. Remove the row where that contains the maximum total sulfur dioxide.**"
   ]
  },
  {
   "cell_type": "code",
   "execution_count": 14,
   "id": "26aff68b",
   "metadata": {
    "id": "GhNFtmDco8fF"
   },
   "outputs": [],
   "source": [
    "df_drop = df.drop(df[df['total_sulfur_dioxide']==df['total_sulfur_dioxide'].max()].index)"
   ]
  },
  {
   "cell_type": "markdown",
   "id": "222fc345",
   "metadata": {
    "id": "szVsoLm7p6QR"
   },
   "source": [
    "**7. We notice that all the datatypes are float besides the quality column. Convert the column to float datatype**"
   ]
  },
  {
   "cell_type": "code",
   "execution_count": 15,
   "id": "052423b5",
   "metadata": {
    "id": "BHOh15bSqXW6"
   },
   "outputs": [],
   "source": [
    "df[\"quality_float\"] = df['quality'].astype(float)"
   ]
  },
  {
   "cell_type": "markdown",
   "id": "47e03523",
   "metadata": {
    "id": "0aKrA3F6wLDy"
   },
   "source": [
    "**8. Remove these columns from the dataset**"
   ]
  },
  {
   "cell_type": "code",
   "execution_count": 16,
   "id": "d19eb2ec",
   "metadata": {
    "id": "_Twh-NxCvpZe"
   },
   "outputs": [],
   "source": [
    "df_drop_three = df.drop(['density','residual_sugar','chlorides'],axis=1)"
   ]
  },
  {
   "cell_type": "markdown",
   "id": "93e4f5b4",
   "metadata": {
    "id": "gaLOOGyY4BWW"
   },
   "source": [
    "# Basic Column operations"
   ]
  },
  {
   "cell_type": "markdown",
   "id": "7004f0f1",
   "metadata": {
    "id": "ie3UeJaF1w8N"
   },
   "source": [
    "**9.  Create a new column that calculates the alcohol content in terms of percentage (%)**"
   ]
  },
  {
   "cell_type": "code",
   "execution_count": 17,
   "id": "2f5eaea9",
   "metadata": {
    "id": "UTuO0_CT43SY"
   },
   "outputs": [],
   "source": [
    "df['alcohol_perc'] = (df['alcohol'] / df['alcohol'].max()) * 100"
   ]
  },
  {
   "cell_type": "markdown",
   "id": "eb1e054c",
   "metadata": {
    "id": "waODrXiI4j47"
   },
   "source": [
    "**10. Create a new column in the data frame that contains the sum of sulfates and citric_acid for the red wine.**"
   ]
  },
  {
   "cell_type": "code",
   "execution_count": 18,
   "id": "775b368a",
   "metadata": {
    "id": "D2ekQDNs42Id"
   },
   "outputs": [],
   "source": [
    "df['sulphate_citric_acid']=df['sulphates'] + df['citric_acid']"
   ]
  },
  {
   "cell_type": "markdown",
   "id": "76f49af6",
   "metadata": {
    "id": "cbE5GkOF47KL"
   },
   "source": [
    "**11. Create a new column that where the alcohol content is less than its mean.**\n"
   ]
  },
  {
   "cell_type": "code",
   "execution_count": 19,
   "id": "e6ee6c9b",
   "metadata": {
    "id": "Nj1B81nd9667"
   },
   "outputs": [],
   "source": [
    "df['deviation_alcohol'] = df['alcohol'] < df['alcohol'].mean()"
   ]
  },
  {
   "cell_type": "markdown",
   "id": "53b29ef3",
   "metadata": {
    "id": "dH7_8sPh97gO"
   },
   "source": [
    "**12. Convert the wine quality scores into categorical labels: \"low\", \"medium\", \"high\".**"
   ]
  },
  {
   "cell_type": "code",
   "execution_count": 20,
   "id": "728184b2",
   "metadata": {
    "id": "OYQHbqdA9-5o"
   },
   "outputs": [],
   "source": [
    "df['quality_label'] = ['low' if x <= 5 else 'medium' if x <= 7 else 'high' for x in df['quality']]"
   ]
  },
  {
   "cell_type": "markdown",
   "id": "b9779b9a",
   "metadata": {
    "id": "kkSwb_ak9_im"
   },
   "source": [
    "**13. Create a new column that calculates the ratio of free sulfur dioxide to total sulfur dioxide.**"
   ]
  },
  {
   "cell_type": "code",
   "execution_count": 21,
   "id": "2dbe80d2",
   "metadata": {
    "id": "iw-KC7m_-BUg"
   },
   "outputs": [],
   "source": [
    "df['free_total_ratio'] = df['free_sulfur_dioxide'] / df['total_sulfur_dioxide']"
   ]
  },
  {
   "cell_type": "markdown",
   "id": "5a6f38b3",
   "metadata": {},
   "source": [
    "### The End!"
   ]
  },
  {
   "cell_type": "code",
   "execution_count": null,
   "id": "f8697d48",
   "metadata": {},
   "outputs": [],
   "source": []
  }
 ],
 "metadata": {
  "kernelspec": {
   "display_name": "Python 3",
   "language": "python",
   "name": "python3"
  },
  "language_info": {
   "codemirror_mode": {
    "name": "ipython",
    "version": 3
   },
   "file_extension": ".py",
   "mimetype": "text/x-python",
   "name": "python",
   "nbconvert_exporter": "python",
   "pygments_lexer": "ipython3",
   "version": "3.8.8"
  }
 },
 "nbformat": 4,
 "nbformat_minor": 5
}
