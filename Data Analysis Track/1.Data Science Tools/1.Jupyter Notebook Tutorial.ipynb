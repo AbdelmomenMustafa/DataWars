{
 "cells": [
  {
   "cell_type": "markdown",
   "id": "e173094f-6487-4921-b05e-aa08ad75f4e2",
   "metadata": {},
   "source": [
    "### Everything is a cell!"
   ]
  },
  {
   "cell_type": "markdown",
   "id": "6781699a-5309-4ae0-b61f-dec814c0b027",
   "metadata": {},
   "source": [
    "And here are some empty **_cells_**:"
   ]
  },
  {
   "cell_type": "code",
   "execution_count": null,
   "id": "2c54024a-f186-457b-8de7-998143800d0b",
   "metadata": {},
   "outputs": [],
   "source": []
  },
  {
   "cell_type": "code",
   "execution_count": null,
   "id": "5b4e5d2b-b850-4f24-a618-9bb4117daf8d",
   "metadata": {},
   "outputs": [],
   "source": []
  },
  {
   "cell_type": "code",
   "execution_count": null,
   "id": "8016c1fe-bf95-4cac-b541-279b93fbb73e",
   "metadata": {},
   "outputs": [],
   "source": []
  },
  {
   "cell_type": "markdown",
   "id": "dbbb6af2-2fa4-4a1f-a871-f179016a30de",
   "metadata": {},
   "source": [
    "Multi mode:"
   ]
  },
  {
   "cell_type": "code",
   "execution_count": 1,
   "id": "c7d03728-e6c8-4e11-adb7-04fa34b79147",
   "metadata": {},
   "outputs": [
    {
     "data": {
      "text/plain": [
       "4"
      ]
     },
     "execution_count": 1,
     "metadata": {},
     "output_type": "execute_result"
    }
   ],
   "source": [
    "2 + 2"
   ]
  },
  {
   "cell_type": "markdown",
   "id": "861d5a35-c8d6-421d-b410-2d2970bfb42c",
   "metadata": {},
   "source": [
    "### Cell Types"
   ]
  },
  {
   "cell_type": "markdown",
   "id": "b9c25cd0-42b4-47a5-8f70-03a4ec27cd6b",
   "metadata": {},
   "source": [
    "This is a markdown cell. It can contain different formatting options as **bold**, or *italic* text, code blocks:\n",
    "\n",
    "```python\n",
    "def my_function(x, y):\n",
    "    pass\n",
    "\n",
    "```\n",
    "\n",
    "Or even images:\n",
    "\n",
    "![](images/panda.jpg)\n"
   ]
  },
  {
   "cell_type": "code",
   "execution_count": 2,
   "id": "d5ca54aa-4dc2-42b4-baa6-dec5dc2b9a21",
   "metadata": {},
   "outputs": [
    {
     "data": {
      "text/plain": [
       "4"
      ]
     },
     "execution_count": 2,
     "metadata": {},
     "output_type": "execute_result"
    }
   ],
   "source": [
    "# this is a code cell\n",
    "2 + 2"
   ]
  },
  {
   "cell_type": "markdown",
   "id": "1eb83e73-0df2-4a2b-9e90-3d2ead04133a",
   "metadata": {},
   "source": [
    "Now try it yourself:"
   ]
  },
  {
   "cell_type": "code",
   "execution_count": 3,
   "id": "bb20a3f3-2f6f-4d00-bc48-687616f72236",
   "metadata": {},
   "outputs": [
    {
     "ename": "SyntaxError",
     "evalue": "invalid syntax (2324414565.py, line 1)",
     "output_type": "error",
     "traceback": [
      "\u001b[0;36m  Cell \u001b[0;32mIn[3], line 1\u001b[0;36m\u001b[0m\n\u001b[0;31m    Turn this cell into a markdown cell\u001b[0m\n\u001b[0m         ^\u001b[0m\n\u001b[0;31mSyntaxError\u001b[0m\u001b[0;31m:\u001b[0m invalid syntax\n"
     ]
    }
   ],
   "source": [
    "Turn this cell into a markdown cell"
   ]
  },
  {
   "cell_type": "markdown",
   "id": "39c1ce4a-e2f6-423e-a33e-c139773c85a6",
   "metadata": {},
   "source": [
    "Turn this cell into a code cell"
   ]
  },
  {
   "cell_type": "markdown",
   "id": "20eaf09a-e2b4-4587-8a56-b6c12c2db9ae",
   "metadata": {},
   "source": [
    "### Working with code"
   ]
  },
  {
   "cell_type": "markdown",
   "id": "9e30a502-1602-472b-bc7e-1424696d8ab4",
   "metadata": {},
   "source": [
    "Execute the following cells in order:"
   ]
  },
  {
   "cell_type": "code",
   "execution_count": null,
   "id": "caa4ee52-ac98-456a-a3f7-30fe3cb16499",
   "metadata": {},
   "outputs": [],
   "source": [
    "import numpy as np\n",
    "import matplotlib.pyplot as plt\n",
    "%matplotlib inline"
   ]
  },
  {
   "cell_type": "code",
   "execution_count": null,
   "id": "d4a7e91f-276a-41ee-9c46-3c948bc5d341",
   "metadata": {},
   "outputs": [],
   "source": [
    "x = np.linspace(0, 10, 500)\n",
    "y = np.cumsum(np.random.randn(500, 6), 0)"
   ]
  },
  {
   "cell_type": "code",
   "execution_count": null,
   "id": "7cec1257-7f6b-453d-838d-031a9186c319",
   "metadata": {},
   "outputs": [],
   "source": [
    "plt.figure(figsize=(12, 7))\n",
    "plt.plot(x, y)\n",
    "plt.legend('ABCDEF', ncol=2, loc='upper left')"
   ]
  },
  {
   "cell_type": "markdown",
   "id": "a3c3bd64-9216-4ff5-8150-a322038f80b8",
   "metadata": {},
   "source": [
    "### Working with data"
   ]
  },
  {
   "cell_type": "code",
   "execution_count": 4,
   "id": "09d9706e-89a5-4725-ac1a-58ff7f3fc42e",
   "metadata": {},
   "outputs": [],
   "source": [
    "import pandas as pd"
   ]
  },
  {
   "cell_type": "code",
   "execution_count": 5,
   "id": "d6e80c2c-eb5f-4a2e-b22e-55260b3f5ea7",
   "metadata": {},
   "outputs": [],
   "source": [
    "btc = pd.read_csv('btc.csv', index_col='timestamp', parse_dates=True)"
   ]
  },
  {
   "cell_type": "code",
   "execution_count": 6,
   "id": "1b94938f-7bf1-4a19-b593-de56df545dd1",
   "metadata": {},
   "outputs": [],
   "source": [
    "eth = pd.read_csv('eth.csv', index_col='timestamp', parse_dates=True)"
   ]
  },
  {
   "cell_type": "markdown",
   "id": "6d0075e0-ecaf-4274-9609-dd006ec85eef",
   "metadata": {},
   "source": [
    "**Bitcoin:**"
   ]
  },
  {
   "cell_type": "code",
   "execution_count": 7,
   "id": "a7aaed20-8cfd-4d27-bcad-b24c3d69f475",
   "metadata": {
    "scrolled": true
   },
   "outputs": [
    {
     "data": {
      "text/html": [
       "<div>\n",
       "<style scoped>\n",
       "    .dataframe tbody tr th:only-of-type {\n",
       "        vertical-align: middle;\n",
       "    }\n",
       "\n",
       "    .dataframe tbody tr th {\n",
       "        vertical-align: top;\n",
       "    }\n",
       "\n",
       "    .dataframe thead th {\n",
       "        text-align: right;\n",
       "    }\n",
       "</style>\n",
       "<table border=\"1\" class=\"dataframe\">\n",
       "  <thead>\n",
       "    <tr style=\"text-align: right;\">\n",
       "      <th></th>\n",
       "      <th>open</th>\n",
       "      <th>high</th>\n",
       "      <th>low</th>\n",
       "      <th>close</th>\n",
       "      <th>volume</th>\n",
       "    </tr>\n",
       "    <tr>\n",
       "      <th>timestamp</th>\n",
       "      <th></th>\n",
       "      <th></th>\n",
       "      <th></th>\n",
       "      <th></th>\n",
       "      <th></th>\n",
       "    </tr>\n",
       "  </thead>\n",
       "  <tbody>\n",
       "    <tr>\n",
       "      <th>2023-12-01 00:00:00+00:00</th>\n",
       "      <td>37731.0</td>\n",
       "      <td>37741.0</td>\n",
       "      <td>37728.0</td>\n",
       "      <td>37741.0</td>\n",
       "      <td>4.349545</td>\n",
       "    </tr>\n",
       "    <tr>\n",
       "      <th>2023-12-01 00:01:00+00:00</th>\n",
       "      <td>37739.0</td>\n",
       "      <td>37739.0</td>\n",
       "      <td>37724.0</td>\n",
       "      <td>37724.0</td>\n",
       "      <td>1.000053</td>\n",
       "    </tr>\n",
       "    <tr>\n",
       "      <th>2023-12-01 00:02:00+00:00</th>\n",
       "      <td>37721.0</td>\n",
       "      <td>37721.0</td>\n",
       "      <td>37701.0</td>\n",
       "      <td>37701.0</td>\n",
       "      <td>0.169017</td>\n",
       "    </tr>\n",
       "    <tr>\n",
       "      <th>2023-12-01 00:03:00+00:00</th>\n",
       "      <td>37703.0</td>\n",
       "      <td>37704.0</td>\n",
       "      <td>37703.0</td>\n",
       "      <td>37704.0</td>\n",
       "      <td>0.099991</td>\n",
       "    </tr>\n",
       "    <tr>\n",
       "      <th>2023-12-01 00:04:00+00:00</th>\n",
       "      <td>37703.0</td>\n",
       "      <td>37703.0</td>\n",
       "      <td>37697.0</td>\n",
       "      <td>37697.0</td>\n",
       "      <td>0.135919</td>\n",
       "    </tr>\n",
       "  </tbody>\n",
       "</table>\n",
       "</div>"
      ],
      "text/plain": [
       "                              open     high      low    close    volume\n",
       "timestamp                                                              \n",
       "2023-12-01 00:00:00+00:00  37731.0  37741.0  37728.0  37741.0  4.349545\n",
       "2023-12-01 00:01:00+00:00  37739.0  37739.0  37724.0  37724.0  1.000053\n",
       "2023-12-01 00:02:00+00:00  37721.0  37721.0  37701.0  37701.0  0.169017\n",
       "2023-12-01 00:03:00+00:00  37703.0  37704.0  37703.0  37704.0  0.099991\n",
       "2023-12-01 00:04:00+00:00  37703.0  37703.0  37697.0  37697.0  0.135919"
      ]
     },
     "execution_count": 7,
     "metadata": {},
     "output_type": "execute_result"
    }
   ],
   "source": [
    "btc.head()"
   ]
  },
  {
   "cell_type": "code",
   "execution_count": 8,
   "id": "c3b00b4b-7bfe-4fb3-8bbb-8f98091cb29c",
   "metadata": {
    "scrolled": true
   },
   "outputs": [
    {
     "data": {
      "text/html": [
       "<div>\n",
       "<style scoped>\n",
       "    .dataframe tbody tr th:only-of-type {\n",
       "        vertical-align: middle;\n",
       "    }\n",
       "\n",
       "    .dataframe tbody tr th {\n",
       "        vertical-align: top;\n",
       "    }\n",
       "\n",
       "    .dataframe thead th {\n",
       "        text-align: right;\n",
       "    }\n",
       "</style>\n",
       "<table border=\"1\" class=\"dataframe\">\n",
       "  <thead>\n",
       "    <tr style=\"text-align: right;\">\n",
       "      <th></th>\n",
       "      <th>open</th>\n",
       "      <th>high</th>\n",
       "      <th>low</th>\n",
       "      <th>close</th>\n",
       "      <th>volume</th>\n",
       "    </tr>\n",
       "    <tr>\n",
       "      <th>timestamp</th>\n",
       "      <th></th>\n",
       "      <th></th>\n",
       "      <th></th>\n",
       "      <th></th>\n",
       "      <th></th>\n",
       "    </tr>\n",
       "  </thead>\n",
       "  <tbody>\n",
       "    <tr>\n",
       "      <th>2023-12-10 10:49:00+00:00</th>\n",
       "      <td>43683.0</td>\n",
       "      <td>43683.0</td>\n",
       "      <td>43683.0</td>\n",
       "      <td>43683.0</td>\n",
       "      <td>0.000000</td>\n",
       "    </tr>\n",
       "    <tr>\n",
       "      <th>2023-12-10 10:50:00+00:00</th>\n",
       "      <td>43671.0</td>\n",
       "      <td>43675.0</td>\n",
       "      <td>43671.0</td>\n",
       "      <td>43675.0</td>\n",
       "      <td>0.008716</td>\n",
       "    </tr>\n",
       "    <tr>\n",
       "      <th>2023-12-10 10:51:00+00:00</th>\n",
       "      <td>43694.0</td>\n",
       "      <td>43694.0</td>\n",
       "      <td>43694.0</td>\n",
       "      <td>43694.0</td>\n",
       "      <td>0.003141</td>\n",
       "    </tr>\n",
       "    <tr>\n",
       "      <th>2023-12-10 10:52:00+00:00</th>\n",
       "      <td>43711.0</td>\n",
       "      <td>43711.0</td>\n",
       "      <td>43709.0</td>\n",
       "      <td>43709.0</td>\n",
       "      <td>0.029046</td>\n",
       "    </tr>\n",
       "    <tr>\n",
       "      <th>2023-12-10 10:53:00+00:00</th>\n",
       "      <td>43709.0</td>\n",
       "      <td>43709.0</td>\n",
       "      <td>43709.0</td>\n",
       "      <td>43709.0</td>\n",
       "      <td>0.000000</td>\n",
       "    </tr>\n",
       "  </tbody>\n",
       "</table>\n",
       "</div>"
      ],
      "text/plain": [
       "                              open     high      low    close    volume\n",
       "timestamp                                                              \n",
       "2023-12-10 10:49:00+00:00  43683.0  43683.0  43683.0  43683.0  0.000000\n",
       "2023-12-10 10:50:00+00:00  43671.0  43675.0  43671.0  43675.0  0.008716\n",
       "2023-12-10 10:51:00+00:00  43694.0  43694.0  43694.0  43694.0  0.003141\n",
       "2023-12-10 10:52:00+00:00  43711.0  43711.0  43709.0  43709.0  0.029046\n",
       "2023-12-10 10:53:00+00:00  43709.0  43709.0  43709.0  43709.0  0.000000"
      ]
     },
     "execution_count": 8,
     "metadata": {},
     "output_type": "execute_result"
    }
   ],
   "source": [
    "btc.tail()"
   ]
  },
  {
   "cell_type": "code",
   "execution_count": 9,
   "id": "ef21c033-f45b-48b4-9b57-3b5c9151339a",
   "metadata": {
    "scrolled": true
   },
   "outputs": [
    {
     "name": "stdout",
     "output_type": "stream",
     "text": [
      "<class 'pandas.core.frame.DataFrame'>\n",
      "DatetimeIndex: 13698 entries, 2023-12-01 00:00:00+00:00 to 2023-12-10 10:53:00+00:00\n",
      "Data columns (total 5 columns):\n",
      " #   Column  Non-Null Count  Dtype  \n",
      "---  ------  --------------  -----  \n",
      " 0   open    13698 non-null  float64\n",
      " 1   high    13698 non-null  float64\n",
      " 2   low     13698 non-null  float64\n",
      " 3   close   13698 non-null  float64\n",
      " 4   volume  13698 non-null  float64\n",
      "dtypes: float64(5)\n",
      "memory usage: 642.1 KB\n"
     ]
    }
   ],
   "source": [
    "btc.info()"
   ]
  },
  {
   "cell_type": "code",
   "execution_count": 10,
   "id": "7ad7af2c-77e1-4348-ae9c-7651584b62d2",
   "metadata": {},
   "outputs": [
    {
     "data": {
      "text/plain": [
       "<Axes: xlabel='timestamp'>"
      ]
     },
     "execution_count": 10,
     "metadata": {},
     "output_type": "execute_result"
    },
    {
     "data": {
      "image/png": "[encoded data removed]",
      "text/plain": [
       "<Figure size 1500x700 with 1 Axes>"
      ]
     },
     "metadata": {},
     "output_type": "display_data"
    }
   ],
   "source": [
    "btc['close'].plot(figsize=(15, 7))"
   ]
  },
  {
   "cell_type": "markdown",
   "id": "a12dc6e1-a8f8-467d-bb14-80be7b2f7d65",
   "metadata": {},
   "source": [
    "**Ether:**"
   ]
  },
  {
   "cell_type": "code",
   "execution_count": 11,
   "id": "a7d3e91c-626e-4141-9892-c1e0322b6a00",
   "metadata": {},
   "outputs": [
    {
     "data": {
      "text/html": [
       "<div>\n",
       "<style scoped>\n",
       "    .dataframe tbody tr th:only-of-type {\n",
       "        vertical-align: middle;\n",
       "    }\n",
       "\n",
       "    .dataframe tbody tr th {\n",
       "        vertical-align: top;\n",
       "    }\n",
       "\n",
       "    .dataframe thead th {\n",
       "        text-align: right;\n",
       "    }\n",
       "</style>\n",
       "<table border=\"1\" class=\"dataframe\">\n",
       "  <thead>\n",
       "    <tr style=\"text-align: right;\">\n",
       "      <th></th>\n",
       "      <th>open</th>\n",
       "      <th>high</th>\n",
       "      <th>low</th>\n",
       "      <th>close</th>\n",
       "      <th>volume</th>\n",
       "    </tr>\n",
       "    <tr>\n",
       "      <th>timestamp</th>\n",
       "      <th></th>\n",
       "      <th></th>\n",
       "      <th></th>\n",
       "      <th></th>\n",
       "      <th></th>\n",
       "    </tr>\n",
       "  </thead>\n",
       "  <tbody>\n",
       "    <tr>\n",
       "      <th>2023-12-01 00:00:00+00:00</th>\n",
       "      <td>2053.1</td>\n",
       "      <td>2054.3</td>\n",
       "      <td>2053.1</td>\n",
       "      <td>2053.8</td>\n",
       "      <td>98.816206</td>\n",
       "    </tr>\n",
       "    <tr>\n",
       "      <th>2023-12-01 00:01:00+00:00</th>\n",
       "      <td>2054.0</td>\n",
       "      <td>2054.0</td>\n",
       "      <td>2052.9</td>\n",
       "      <td>2052.9</td>\n",
       "      <td>101.136155</td>\n",
       "    </tr>\n",
       "    <tr>\n",
       "      <th>2023-12-01 00:02:00+00:00</th>\n",
       "      <td>2052.6</td>\n",
       "      <td>2052.6</td>\n",
       "      <td>2051.2</td>\n",
       "      <td>2051.2</td>\n",
       "      <td>284.303968</td>\n",
       "    </tr>\n",
       "    <tr>\n",
       "      <th>2023-12-01 00:03:00+00:00</th>\n",
       "      <td>2051.5</td>\n",
       "      <td>2052.3</td>\n",
       "      <td>2051.3</td>\n",
       "      <td>2052.3</td>\n",
       "      <td>67.405196</td>\n",
       "    </tr>\n",
       "    <tr>\n",
       "      <th>2023-12-01 00:04:00+00:00</th>\n",
       "      <td>2052.2</td>\n",
       "      <td>2052.6</td>\n",
       "      <td>2052.1</td>\n",
       "      <td>2052.1</td>\n",
       "      <td>96.918102</td>\n",
       "    </tr>\n",
       "  </tbody>\n",
       "</table>\n",
       "</div>"
      ],
      "text/plain": [
       "                             open    high     low   close      volume\n",
       "timestamp                                                            \n",
       "2023-12-01 00:00:00+00:00  2053.1  2054.3  2053.1  2053.8   98.816206\n",
       "2023-12-01 00:01:00+00:00  2054.0  2054.0  2052.9  2052.9  101.136155\n",
       "2023-12-01 00:02:00+00:00  2052.6  2052.6  2051.2  2051.2  284.303968\n",
       "2023-12-01 00:03:00+00:00  2051.5  2052.3  2051.3  2052.3   67.405196\n",
       "2023-12-01 00:04:00+00:00  2052.2  2052.6  2052.1  2052.1   96.918102"
      ]
     },
     "execution_count": 11,
     "metadata": {},
     "output_type": "execute_result"
    }
   ],
   "source": [
    "eth.head()"
   ]
  },
  {
   "cell_type": "code",
   "execution_count": 12,
   "id": "678440bd-1e39-40dd-9665-aa009b75a97f",
   "metadata": {},
   "outputs": [
    {
     "data": {
      "text/plain": [
       "<Axes: xlabel='timestamp'>"
      ]
     },
     "execution_count": 12,
     "metadata": {},
     "output_type": "execute_result"
    },
    {
     "data": {
      "image/png": "[encoded data removed]",
      "text/plain": [
       "<Figure size 1500x700 with 1 Axes>"
      ]
     },
     "metadata": {},
     "output_type": "display_data"
    }
   ],
   "source": [
    "eth['close'].plot(figsize=(15, 7))"
   ]
  },
  {
   "cell_type": "code",
   "execution_count": 13,
   "id": "dfbff83a-8a73-473b-9976-a252c987d905",
   "metadata": {},
   "outputs": [
    {
     "data": {
      "text/html": [
       "<div>\n",
       "<style scoped>\n",
       "    .dataframe tbody tr th:only-of-type {\n",
       "        vertical-align: middle;\n",
       "    }\n",
       "\n",
       "    .dataframe tbody tr th {\n",
       "        vertical-align: top;\n",
       "    }\n",
       "\n",
       "    .dataframe thead th {\n",
       "        text-align: right;\n",
       "    }\n",
       "</style>\n",
       "<table border=\"1\" class=\"dataframe\">\n",
       "  <thead>\n",
       "    <tr style=\"text-align: right;\">\n",
       "      <th></th>\n",
       "      <th>open</th>\n",
       "      <th>high</th>\n",
       "      <th>low</th>\n",
       "      <th>close</th>\n",
       "      <th>volume</th>\n",
       "    </tr>\n",
       "    <tr>\n",
       "      <th>timestamp</th>\n",
       "      <th></th>\n",
       "      <th></th>\n",
       "      <th></th>\n",
       "      <th></th>\n",
       "      <th></th>\n",
       "    </tr>\n",
       "  </thead>\n",
       "  <tbody>\n",
       "    <tr>\n",
       "      <th>2023-12-01 00:00:00+00:00</th>\n",
       "      <td>2053.1</td>\n",
       "      <td>2054.3</td>\n",
       "      <td>2053.1</td>\n",
       "      <td>2053.8</td>\n",
       "      <td>98.816206</td>\n",
       "    </tr>\n",
       "    <tr>\n",
       "      <th>2023-12-01 00:01:00+00:00</th>\n",
       "      <td>2054.0</td>\n",
       "      <td>2054.0</td>\n",
       "      <td>2052.9</td>\n",
       "      <td>2052.9</td>\n",
       "      <td>101.136155</td>\n",
       "    </tr>\n",
       "    <tr>\n",
       "      <th>2023-12-01 00:02:00+00:00</th>\n",
       "      <td>2052.6</td>\n",
       "      <td>2052.6</td>\n",
       "      <td>2051.2</td>\n",
       "      <td>2051.2</td>\n",
       "      <td>284.303968</td>\n",
       "    </tr>\n",
       "    <tr>\n",
       "      <th>2023-12-01 00:03:00+00:00</th>\n",
       "      <td>2051.5</td>\n",
       "      <td>2052.3</td>\n",
       "      <td>2051.3</td>\n",
       "      <td>2052.3</td>\n",
       "      <td>67.405196</td>\n",
       "    </tr>\n",
       "    <tr>\n",
       "      <th>2023-12-01 00:04:00+00:00</th>\n",
       "      <td>2052.2</td>\n",
       "      <td>2052.6</td>\n",
       "      <td>2052.1</td>\n",
       "      <td>2052.1</td>\n",
       "      <td>96.918102</td>\n",
       "    </tr>\n",
       "  </tbody>\n",
       "</table>\n",
       "</div>"
      ],
      "text/plain": [
       "                             open    high     low   close      volume\n",
       "timestamp                                                            \n",
       "2023-12-01 00:00:00+00:00  2053.1  2054.3  2053.1  2053.8   98.816206\n",
       "2023-12-01 00:01:00+00:00  2054.0  2054.0  2052.9  2052.9  101.136155\n",
       "2023-12-01 00:02:00+00:00  2052.6  2052.6  2051.2  2051.2  284.303968\n",
       "2023-12-01 00:03:00+00:00  2051.5  2052.3  2051.3  2052.3   67.405196\n",
       "2023-12-01 00:04:00+00:00  2052.2  2052.6  2052.1  2052.1   96.918102"
      ]
     },
     "execution_count": 13,
     "metadata": {},
     "output_type": "execute_result"
    }
   ],
   "source": [
    "eth.head()"
   ]
  },
  {
   "cell_type": "markdown",
   "id": "2a1cdc01-59c9-4c64-8aa8-b59ebc487aeb",
   "metadata": {},
   "source": [
    "### Activities"
   ]
  },
  {
   "cell_type": "markdown",
   "id": "83930c9b-cb12-4821-b024-db239416ed0f",
   "metadata": {},
   "source": [
    "##### 1) Fill your name in the placeholder cell and execute it"
   ]
  },
  {
   "cell_type": "code",
   "execution_count": 14,
   "id": "e18ea95a-4c70-4a10-b325-8f2f377dfba1",
   "metadata": {},
   "outputs": [
    {
     "data": {
      "text/plain": [
       "'Abdelmomen'"
      ]
     },
     "execution_count": 14,
     "metadata": {},
     "output_type": "execute_result"
    }
   ],
   "source": [
    "name = \"Abdelmomen\"\n",
    "name"
   ]
  },
  {
   "cell_type": "markdown",
   "id": "be2703c7-e33b-4391-a670-2cb7c9c6a7f3",
   "metadata": {},
   "source": [
    "##### 2) Complete the function `add` to produce the right result"
   ]
  },
  {
   "cell_type": "code",
   "execution_count": 15,
   "id": "7dd279cb-ca85-41f8-ac33-23f0cda5d991",
   "metadata": {},
   "outputs": [
    {
     "data": {
      "text/plain": [
       "5"
      ]
     },
     "execution_count": 15,
     "metadata": {},
     "output_type": "execute_result"
    }
   ],
   "source": [
    "def add(x, y):\n",
    "    return x+y\n",
    "    pass\n",
    "\n",
    "add(2, 3)"
   ]
  }
 ],
 "metadata": {
  "kernelspec": {
   "display_name": "Python 3",
   "language": "python",
   "name": "python3"
  },
  "language_info": {
   "codemirror_mode": {
    "name": "ipython",
    "version": 3
   },
   "file_extension": ".py",
   "mimetype": "text/x-python",
   "name": "python",
   "nbconvert_exporter": "python",
   "pygments_lexer": "ipython3",
   "version": "3.8.8"
  }
 },
 "nbformat": 4,
 "nbformat_minor": 5
}
